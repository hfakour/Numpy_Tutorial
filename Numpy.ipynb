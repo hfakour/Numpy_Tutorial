{
 "cells": [
  {
   "cell_type": "markdown",
   "id": "1f4e1e4f-89d9-4b69-a0e9-6d3a3fd19750",
   "metadata": {},
   "source": [
    "<div style=\"text-align: left;\">\n",
    "    <img src=\"https://upload.wikimedia.org/wikipedia/commons/thumb/3/31/NumPy_logo_2020.svg/2560px-NumPy_logo_2020.svg.png\" alt=\"Image description\" width=\"50%\"/>\n",
    "</div>"
   ]
  },
  {
   "cell_type": "markdown",
   "id": "08ef4cb8-2c51-4016-accd-765d577e49d1",
   "metadata": {},
   "source": [
    "<p style=\"font-family:Helvica; font-size:26px; \">\n",
    "<b>What is NumPy?</b>\n",
    "</p>"
   ]
  },
  {
   "cell_type": "markdown",
   "id": "e53d30ba-5ad3-4cc6-87dc-75e3d4596266",
   "metadata": {},
   "source": [
    "<p style=\"font-family:Helvica; font-size:20px; \">\n",
    "NumPy (Numerical Python) is a powerful library in Python used for numerical and scientific computing. It provides support for arrays, matrices, and many mathematical functions that operate on these data structures. Here's why it's significant:\n",
    "</p>\n",
    "<p style=\"font-family:Helvica; font-size:20px; \">\n",
    "1.<b> N-dimensional Array (ndarray):</b> The core of NumPy is its ndarray object, which provides fast and memory-efficient array operations compared to native Python lists. This array can be one-dimensional (vectors), two-dimensional (matrices), or even higher dimensions.    </p>\n",
    "<p style=\"font-family:Helvica; font-size:20px; \">\n",
    "2. <b>Broadcasting:</b> NumPy allows you to perform operations on arrays of different shapes, which automatically \"broadcasts\" the smaller array over the larger one, making the code cleaner and more efficient.    </p>\n",
    "<p style=\"font-family:Helvica; font-size:20px; \">\n",
    "3. <b>Vectorization:</b> This means you can apply operations to entire arrays without explicit loops. This not only simplifies code but makes it much faster because NumPy is implemented in C, allowing for optimized performance.    </p>\n",
    "<p style=\"font-family:Helvica; font-size:20px; \">    \n",
    "4.<b> Mathematical Operations:</b> NumPy provides a wide range of mathematical functions (like trigonometric functions, linear algebra operations, statistics, etc.) that are fast and efficient.    </p>\n",
    "\n",
    "<p style=\"font-family:Helvica; font-size:20px; \">\n",
    "    5. <b>Integration with Other Libraries:</b> NumPy is the foundational library for many other libraries in the Python ecosystem, including:\n",
    "    <li style=\"font-family:Helvica; font-size:20px;\"> Pandas (for data analysis)</li>\n",
    "    <li style=\"font-family:Helvica; font-size:20px;\"> Matplotlib (for plotting)</li>\n",
    "    <li style=\"font-family:Helvica; font-size:20px;\"> Scikit-learn (for machine learning)</li>\n",
    "    <li style=\"font-family:Helvica; font-size:20px;\"> TensorFlow, PyTorch (for deep learning)</li>\n",
    "    </p>\n",
    "<p style=\"font-family:Helvica; font-size:20px; \"> These libraries are built around NumPy arrays or have APIs that are compatible with NumPy.</p>"
   ]
  },
  {
   "cell_type": "markdown",
   "id": "56a1555a-efe6-48cd-a482-766a8d6aa5dc",
   "metadata": {},
   "source": [
    "<p style=\"font-family:Helvica; font-size:26px; \">\n",
    "<b>Why is NumPy Useful?</b>\n",
    "</p>"
   ]
  },
  {
   "cell_type": "markdown",
   "id": "4e80c128-a8ee-48ed-9035-5a2783f1e5db",
   "metadata": {},
   "source": [
    "<p style=\"font-family:Helvica; font-size:20px; \">\n",
    "1.<b> Performance:</b> NumPy is much faster than Python lists for numerical computations. This is because it is implemented in C and optimized for performance.\n",
    "</p>\n",
    "<p style=\"font-family:Helvica; font-size:20px; \">\n",
    "2.<b> Memory Efficiency:</b> NumPy uses less memory than native Python lists, which is critical when dealing with large datasets in data science and machine learning.\n",
    "</p>\n",
    "<p style=\"font-family:Helvica; font-size:20px; \">\n",
    "3.<b> Convenience:</b> Operations on arrays, such as element-wise addition, multiplication, reshaping, and slicing, are simple and efficient with NumPy. This makes it very convenient for writing clean, easy-to-read code.\n",
    "</p>\n",
    "<p style=\"font-family:Helvica; font-size:20px; \">\n",
    "4.<b> Multi-dimensional Data:</b> NumPy supports multi-dimensional data, which is important when working with matrices, tensors, or large data sets in machine learning and scientific computing.\n",
    "</p>\n",
    "<p style=\"font-family:Helvica; font-size:20px; \">\n",
    "5.<b> Data Manipulation:</b> You can easily perform complex mathematical operations like matrix multiplication, transposition, and Fourier transformations, making it essential for anyone working in fields like linear algebra, image processing, and signal processing.\n",
    "</p>\n",
    "<p style=\"font-family:Helvica; font-size:20px; \">\n",
    "6.<b> Support for Large Data Sets:</b> As a data scientist or machine learning expert, you'll often be working with large data sets that need efficient storage and fast operations, and NumPy is designed for this.\n",
    "</p>"
   ]
  },
  {
   "cell_type": "markdown",
   "id": "4d410275-8261-4652-9a4c-ec334b95225b",
   "metadata": {},
   "source": [
    "<p style=\"font-family:Helvica; font-size:20px; \">\n",
    "<b>Example</b>\n",
    "<br/>Here's a simple example of using NumPy to demonstrate some of its benefits:\n",
    "</p>"
   ]
  },
  {
   "cell_type": "code",
   "execution_count": 11,
   "id": "6b57a2b2-d41c-436d-bdd3-081e285d6f1a",
   "metadata": {},
   "outputs": [
    {
     "name": "stdout",
     "output_type": "stream",
     "text": [
      "Matrix A:\n",
      " [[1 2]\n",
      " [3 4]]\n",
      "Matrix B (A + 10):\n",
      " [[11 12]\n",
      " [13 14]]\n",
      "Matrix C (A * 2):\n",
      " [[2 4]\n",
      " [6 8]]\n",
      "Matrix D (A dot C):\n",
      " [[14 20]\n",
      " [30 44]]\n",
      "Transpose of A:\n",
      " [[1 3]\n",
      " [2 4]]\n"
     ]
    }
   ],
   "source": [
    "import numpy as np\n",
    "\n",
    "# Create a 2x2 matrix\n",
    "A = np.array([[1, 2], [3, 4]])\n",
    "\n",
    "# Perform element-wise operations\n",
    "B = A + 10  # Add 10 to each element\n",
    "C = A * 2   # Multiply each element by 2\n",
    "\n",
    "# Matrix multiplication\n",
    "D = np.dot(A, C)\n",
    "\n",
    "# Transpose of the matrix\n",
    "E = A.T\n",
    "\n",
    "# Output results\n",
    "print(\"Matrix A:\\n\", A)\n",
    "print(\"Matrix B (A + 10):\\n\", B)\n",
    "print(\"Matrix C (A * 2):\\n\", C)\n",
    "print(\"Matrix D (A dot C):\\n\", D)\n",
    "print(\"Transpose of A:\\n\", E)\n"
   ]
  },
  {
   "cell_type": "markdown",
   "id": "8707893f-7207-428f-ad5c-21740e9a13f2",
   "metadata": {},
   "source": [
    "<p style=\"font-family:Helvica; font-size:20px; \">\n",
    "This example shows how NumPy makes mathematical operations on arrays easy and intuitive.\n",
    "</p>"
   ]
  },
  {
   "cell_type": "markdown",
   "id": "0b0a4903-f5cf-49b2-af7f-bd77b449580a",
   "metadata": {},
   "source": [
    "<p style=\"font-family:Helvica; font-size:20px; \">\n",
    "<b>Difference between NumPy arrays and Python lists.</b>\n",
    "</p>"
   ]
  },
  {
   "cell_type": "markdown",
   "id": "5f1b7d4c-93c2-4191-9ee8-9772f77bb43b",
   "metadata": {},
   "source": [
    "<p style=\"font-family:Helvica; font-size:20px; \">\n",
    "The difference between NumPy arrays and Python lists lies mainly in their efficiency, speed, and the kinds of operations they support. Let’s break it down:</p>\n",
    "<p style=\"font-family:Helvica; font-size:20px; \">\n",
    "1.<b> Memory Efficiency</b>\n",
    "<li style=\"font-family:Helvica; font-size:20px;\">Python Lists:</li>\n",
    "<p style=\"font-family:Helvica; font-size:20px; \">\n",
    "Python lists are more flexible but less efficient in terms of memory. Each element in a Python list is a complete object with overhead.\n",
    "Lists are pointers to objects, so storing numerical data (like integers or floats) requires more memory because each element in the list is a reference to a full Python object, not just the raw data.\n",
    "</p>\n",
    "<li style=\"font-family:Helvica; font-size:20px;\">NumPy Arrays:</li>\n",
    "<p style=\"font-family:Helvica; font-size:20px; \">\n",
    "NumPy arrays store data more compactly. They are stored in contiguous blocks of memory, allowing for more efficient storage.\n",
    "Instead of each element being a reference to a separate object, NumPy arrays store the raw numerical data directly. This leads to reduced memory overhead.\n",
    "NumPy arrays are also homogeneous, meaning all elements must be of the same type (e.g., all floats or all integers), which contributes to memory efficiency.\n",
    "</p>\n",
    "<p style=\"font-family:Helvica; font-size:20px; \">\n",
    "<b>Example of Memory Usage Comparison:</b>\n",
    "</p>"
   ]
  },
  {
   "cell_type": "code",
   "execution_count": 2,
   "id": "3aa305d6-12f1-4f56-9143-4f927e718093",
   "metadata": {},
   "outputs": [
    {
     "name": "stdout",
     "output_type": "stream",
     "text": [
      "Memory used by Python list: 8856\n",
      "Memory used by NumPy array: 4000\n"
     ]
    }
   ],
   "source": [
    "import numpy as np\n",
    "import sys\n",
    "\n",
    "# Python list\n",
    "py_list = [i for i in range(1000)]\n",
    "print(\"Memory used by Python list:\", sys.getsizeof(py_list))\n",
    "\n",
    "# NumPy array\n",
    "np_array = np.array(py_list)\n",
    "print(\"Memory used by NumPy array:\", np_array.nbytes)\n"
   ]
  },
  {
   "cell_type": "markdown",
   "id": "60a441f6-4880-4daa-857f-b197fbf95648",
   "metadata": {},
   "source": [
    "<p style=\"font-family:Helvica; font-size:20px; \">\n",
    "This shows that for large datasets, NumPy arrays require significantly less memory compared to Python lists.\n",
    "</p>"
   ]
  },
  {
   "cell_type": "markdown",
   "id": "9352b68b-abb3-49eb-8428-5d2ce7dbaaea",
   "metadata": {},
   "source": [
    "<p style=\"font-family:Helvica; font-size:20px; \">\n",
    "2.<b> Speed of Operations</b>\n",
    "<li style=\"font-family:Helvica; font-size:20px;\">Python Lists:</li>\n",
    "<p style=\"font-family:Helvica; font-size:20px; \">\n",
    "Python lists are slower because they are dynamically typed, meaning that Python has to determine the data type of each element during execution, which slows down computation.\n",
    "Operations on lists, especially element-wise operations, often require looping through elements, which is not very efficient in Python.\n",
    "</p>\n",
    "<li style=\"font-family:Helvica; font-size:20px;\">NumPy Arrays:</li>\n",
    "<p style=\"font-family:Helvica; font-size:20px; \">\n",
    "NumPy arrays are much faster because they are implemented in C and make use of highly optimized C libraries for mathematical operations.\n",
    "With vectorized operations, NumPy allows you to perform operations on entire arrays at once without the need for loops. This results in much faster performance for numerical computations.\n",
    "</p>\n",
    "<p style=\"font-family:Helvica; font-size:20px; \">    \n",
    "<b>Example of Speed Comparison:</b>\n",
    "</p>\n",
    "<p style=\"font-family:Helvica; font-size:20px; \"> \n",
    "Let’s compare the speed of squaring elements in a Python list vs. a NumPy array.\n",
    "</p>"
   ]
  },
  {
   "cell_type": "code",
   "execution_count": 3,
   "id": "45c0fcf6-a870-4ffc-aea0-28e50c13356c",
   "metadata": {},
   "outputs": [
    {
     "name": "stdout",
     "output_type": "stream",
     "text": [
      "Time taken by Python list: 0.15839123725891113 seconds\n",
      "Time taken by NumPy array: 0.0010018348693847656 seconds\n"
     ]
    }
   ],
   "source": [
    "import numpy as np\n",
    "import time\n",
    "\n",
    "# Python list\n",
    "py_list = list(range(1000000))\n",
    "\n",
    "# NumPy array\n",
    "np_array = np.array(py_list)\n",
    "\n",
    "# Squaring using Python list\n",
    "start_time = time.time()\n",
    "py_list_squared = [x**2 for x in py_list]\n",
    "print(\"Time taken by Python list: %s seconds\" % (time.time() - start_time))\n",
    "\n",
    "# Squaring using NumPy array\n",
    "start_time = time.time()\n",
    "np_array_squared = np_array ** 2\n",
    "print(\"Time taken by NumPy array: %s seconds\" % (time.time() - start_time))\n"
   ]
  },
  {
   "cell_type": "markdown",
   "id": "474fe58f-220f-4413-8b33-73830d5d84d7",
   "metadata": {},
   "source": [
    "<p style=\"font-family:Helvica; font-size:20px; \"> \n",
    "This example shows that NumPy arrays are much faster than Python lists for element-wise operations.\n",
    "</p>"
   ]
  },
  {
   "cell_type": "markdown",
   "id": "41d90667-3d87-4b1b-8b06-59a54d29c446",
   "metadata": {},
   "source": [
    "<p style=\"font-family:Helvica; font-size:20px; \">\n",
    "3.<b> Mathematical and Vectorized Operations</b>\n",
    "<li style=\"font-family:Helvica; font-size:20px;\">Python Lists:</li>\n",
    "<p style=\"font-family:Helvica; font-size:20px; \"> \n",
    "Python lists require looping through each element if you want to perform mathematical operations, and operations like matrix multiplication or trigonometric functions are not directly supported.\n",
    "<li style=\"font-family:Helvica; font-size:20px;\">NumPy Arrays:</li>\n",
    "<p style=\"font-family:Helvica; font-size:20px; \"> \n",
    "NumPy arrays support element-wise operations directly, which makes them much more convenient for mathematical and numerical work.\n",
    "NumPy also supports vectorized operations, meaning you can apply a mathematical function over an entire array without explicitly writing loops.\n",
    "<p style=\"font-family:Helvica; font-size:20px; \"> \n",
    "<b>Example of Element-wise Operation:</b>"
   ]
  },
  {
   "cell_type": "code",
   "execution_count": 5,
   "id": "97598c89-14e6-4fc9-810e-150b3f119c68",
   "metadata": {},
   "outputs": [
    {
     "name": "stdout",
     "output_type": "stream",
     "text": [
      "Python list result: [11, 12, 13, 14, 15]\n",
      "NumPy array result: [11 12 13 14 15]\n"
     ]
    }
   ],
   "source": [
    "# Python list (manual loop)\n",
    "py_list = [1, 2, 3, 4, 5]\n",
    "py_result = [x + 10 for x in py_list]  # Need to use a loop\n",
    "\n",
    "# NumPy array (vectorized operation)\n",
    "np_array = np.array(py_list)\n",
    "np_result = np_array + 10  # Vectorized operation\n",
    "\n",
    "print(\"Python list result:\", py_result)\n",
    "print(\"NumPy array result:\", np_result)\n"
   ]
  },
  {
   "cell_type": "markdown",
   "id": "595c1550-76f0-4990-b0df-76c9513b62d9",
   "metadata": {},
   "source": [
    "<p style=\"font-family:Helvica; font-size:20px; \"> \n",
    "Here, the NumPy operation is simpler, faster, and more concise."
   ]
  },
  {
   "cell_type": "markdown",
   "id": "291dd168-34db-43e8-bbf2-7814c5970e14",
   "metadata": {},
   "source": [
    "<p style=\"font-family:Helvica; font-size:20px; \">\n",
    "4.<b> Homogeneity</b>\n",
    "<li style=\"font-family:Helvica; font-size:20px;\">Python Lists:</li>\n",
    "<p style=\"font-family:Helvica; font-size:20px; \">\n",
    "Python lists can store elements of different data types (e.g., integers, strings, floats), which makes them versatile but less efficient for numerical operations.\n",
    "<li style=\"font-family:Helvica; font-size:20px;\">NumPy Arrays:</li>\n",
    "<p style=\"font-family:Helvica; font-size:20px; \">\n",
    "NumPy arrays are homogeneous, meaning all elements must be of the same data type (e.g., all integers or all floats). This is a key reason why NumPy is more efficient for large-scale numerical computation.\n",
    "<p style=\"font-family:Helvica; font-size:20px; \">\n",
    "5.<b> Built-in Functions and Support</b>\n",
    "<li style=\"font-family:Helvica; font-size:20px;\">Python Lists:</li>\n",
    "<p style=\"font-family:Helvica; font-size:20px; \">\n",
    "Python lists have limited built-in support for numerical operations. You need to use Python loops or external libraries (like math or itertools) to perform operations on list elements.\n",
    "<li style=\"font-family:Helvica; font-size:20px;\">NumPy Arrays:</li>\n",
    "<p style=\"font-family:Helvica; font-size:20px; \">\n",
    "NumPy provides a rich set of built-in functions for numerical computations such as linear algebra, Fourier transforms, statistics, and random number generation. These functions are highly optimized and allow for efficient computation.\n",
    "<p style=\"font-family:Helvica; font-size:20px; \">\n",
    "<b>Conclusion:</b>\n",
    "<p style=\"font-family:Helvica; font-size:20px; \">\n",
    "<ul style=\"font-family:Helvica; font-size:20px;\">NumPy arrays are highly efficient for numerical computations due to their compact memory usage and fast execution, especially for large datasets and multi-dimensional arrays.</ul>\n",
    "<ul style=\"font-family:Helvica; font-size:20px;\">Python lists are more general-purpose but are slower and less memory efficient when performing mathematical operations on large amounts of data.</ul>\n",
    "<p style=\"font-family:Helvica; font-size:20px; \">\n",
    "For data science, machine learning, or any performance-critical numerical tasks, NumPy arrays are a much better choice than Python lists."
   ]
  },
  {
   "cell_type": "markdown",
   "id": "2234d622-e61d-4314-841d-2befb1eef50e",
   "metadata": {},
   "source": [
    "<p style=\"font-family:Helvica; font-size:20px; \">\n",
    "<b>Data Types and Attributes in NumPy</b>\n",
    "<p style=\"font-family:Helvica; font-size:20px; \">\n",
    "Understanding data types (dtype) and some important attributes of NumPy arrays is crucial for efficient numerical computation.\n",
    "<p style=\"font-family:Helvica; font-size:20px; \">\n",
    "1.<b> Understanding dtype (Data Type)</b>\n",
    "<p style=\"font-family:Helvica; font-size:20px; \">\n",
    "In NumPy, each array has a data type (dtype), which defines the type of elements stored in the array. This is important because NumPy arrays are homogeneous, meaning all elements must be of the same data type.\n",
    "<p style=\"font-family:Helvica; font-size:20px; \">\n",
    "<ul style=\"font-family:Helvica; font-size:20px;\"><b>Common NumPy Data Types:</b>\n",
    "<li style=\"font-family:Helvica; font-size:20px;\">int32, int64: Signed integers of 32 or 64 bits.</li>\n",
    "<li style=\"font-family:Helvica; font-size:20px;\">float32, float64: Floating-point numbers (single or double precision).</li>\n",
    "<li style=\"font-family:Helvica; font-size:20px;\">complex128: Complex numbers.</li>\n",
    "<li style=\"font-family:Helvica; font-size:20px;\">bool: Boolean values (True or False).</li>\n",
    "<li style=\"font-family:Helvica; font-size:20px;\">object: Python objects.</li>\n",
    "<li style=\"font-family:Helvica; font-size:20px;\">string: Fixed-length strings.</li>\n",
    "<li style=\"font-family:Helvica; font-size:20px;\">datetime64: Dates and times.</li></ul>\n",
    "<p style=\"font-family:Helvica; font-size:20px; \">    \n",
    "You can specify the data type of a NumPy array when creating it, or you can check and convert the data type after the array has been created.\n",
    "<p style=\"font-family:Helvica; font-size:20px; \">\n",
    "<b>Example:</b>"
   ]
  },
  {
   "cell_type": "code",
   "execution_count": 6,
   "id": "4775d464-a674-4eb6-9be2-e4c4e2d82541",
   "metadata": {},
   "outputs": [
    {
     "name": "stdout",
     "output_type": "stream",
     "text": [
      "Array: [1.2 2.3 3.4]\n",
      "Data Type: float32\n"
     ]
    }
   ],
   "source": [
    "import numpy as np\n",
    "\n",
    "# Creating a NumPy array with a specified data type\n",
    "arr = np.array([1.2, 2.3, 3.4], dtype=np.float32)\n",
    "print(\"Array:\", arr)\n",
    "print(\"Data Type:\", arr.dtype)  # Output: float32\n"
   ]
  },
  {
   "cell_type": "markdown",
   "id": "10cd6402-fcc8-4aa1-b48c-dff7b7b296a9",
   "metadata": {},
   "source": [
    "<p style=\"font-family:Helvica; font-size:20px; \">\n",
    "2.<b> Specifying and Converting Data Types</b>\n",
    "<p style=\"font-family:Helvica; font-size:20px; \">\n",
    "You can specify the data type when you create the array or convert it later using the astype() function.\n",
    "<p style=\"font-family:Helvica; font-size:20px; \">\n",
    "<b>Example:</b>"
   ]
  },
  {
   "cell_type": "code",
   "execution_count": 7,
   "id": "b19623bb-47e0-41f4-9eb8-4082319c8a64",
   "metadata": {},
   "outputs": [
    {
     "name": "stdout",
     "output_type": "stream",
     "text": [
      "Original dtype: int32\n",
      "Converted dtype: float64\n"
     ]
    }
   ],
   "source": [
    "# Creating an array with a specific data type\n",
    "arr = np.array([1, 2, 3], dtype=np.int32)\n",
    "print(\"Original dtype:\", arr.dtype)  # int32\n",
    "\n",
    "# Converting the array to another type (float)\n",
    "arr_float = arr.astype(np.float64)\n",
    "print(\"Converted dtype:\", arr_float.dtype)  # float64\n"
   ]
  },
  {
   "cell_type": "markdown",
   "id": "9300341e-6dba-4a90-b932-109f69c25d97",
   "metadata": {},
   "source": [
    "<p style=\"font-family:Helvica; font-size:20px; \">\n",
    "This is especially useful if you need to change between integer, float, or even boolean representations for computation."
   ]
  },
  {
   "cell_type": "markdown",
   "id": "eb8b3520-83bb-4ee0-b900-b4348f473d39",
   "metadata": {},
   "source": [
    "<p style=\"font-family:Helvica; font-size:20px; \">\n",
    "3.<b> Important NumPy Attributes</b>\n",
    "<p style=\"font-family:Helvica; font-size:20px; \">\n",
    "Several key attributes help you understand the structure and characteristics of a NumPy array:\n",
    "<p style=\"font-family:Helvica; font-size:20px; \">\n",
    "a.<b> .shape</b> (Shape of the Array)\n",
    "<li style=\"font-family:Helvica; font-size:20px;\">The <b>.shape</b> attribute returns a tuple that represents the dimensions (size in each axis) of the array.</li>\n",
    "<li style=\"font-family:Helvica; font-size:20px;\">For example, an array with 3 rows and 4 columns will have a shape of (3, 4).</li>\n",
    "<p style=\"font-family:Helvica; font-size:20px; \">\n",
    "<b>Example:</b>"
   ]
  },
  {
   "cell_type": "code",
   "execution_count": 8,
   "id": "817b8ee9-bf4b-4b16-a9b8-7919674b4e2d",
   "metadata": {},
   "outputs": [
    {
     "name": "stdout",
     "output_type": "stream",
     "text": [
      "Shape of the array: (2, 3)\n"
     ]
    }
   ],
   "source": [
    "arr = np.array([[1, 2, 3], [4, 5, 6]])\n",
    "print(\"Shape of the array:\", arr.shape)\n"
   ]
  },
  {
   "cell_type": "markdown",
   "id": "5c712ab0-ab1f-4fd0-97f3-e5b67e77a96a",
   "metadata": {},
   "source": [
    "<p style=\"font-family:Helvica; font-size:20px; \">\n",
    "This tells us the array has 2 rows and 3 columns.\n",
    "<p style=\"font-family:Helvica; font-size:20px; \">\n",
    "b.<b> .ndim</b> (Number of Dimensions)\n",
    "<li style=\"font-family:Helvica; font-size:20px;\">The <b>.ndim</b> attribute returns the number of dimensions (axes) of the array.</li>\n",
    "<li style=\"font-family:Helvica; font-size:20px;\">A 1D array (vector) will have ndim=1, a 2D array (matrix) will have ndim=2, and so on.</li>\n",
    "<p style=\"font-family:Helvica; font-size:20px; \">\n",
    "<b>Example:</b>"
   ]
  },
  {
   "cell_type": "code",
   "execution_count": 9,
   "id": "983c0bca-a5c3-4e08-b9d5-ee711d84738f",
   "metadata": {},
   "outputs": [
    {
     "name": "stdout",
     "output_type": "stream",
     "text": [
      "Number of dimensions: 1\n",
      "Number of dimensions: 2\n"
     ]
    }
   ],
   "source": [
    "arr = np.array([1, 2, 3])\n",
    "print(\"Number of dimensions:\", arr.ndim)\n",
    "\n",
    "arr_2d = np.array([[1, 2], [3, 4], [5, 6]])\n",
    "print(\"Number of dimensions:\", arr_2d.ndim)\n"
   ]
  },
  {
   "cell_type": "markdown",
   "id": "3cb3689a-22cd-4397-a5b1-68d2837a0e9a",
   "metadata": {},
   "source": [
    "<p style=\"font-family:Helvica; font-size:20px; \">\n",
    "c. <b>.size</b> (Total Number of Elements)\n",
    "<li style=\"font-family:Helvica; font-size:20px;\">The <b>.size</b> attribute returns the total number of elements in the array.\n",
    "<li style=\"font-family:Helvica; font-size:20px;\">For a 2D array, .size is equal to the product of the dimensions in .shape.\n",
    "<p style=\"font-family:Helvica; font-size:20px; \">\n",
    "    \n",
    "<b>Example:</b>"
   ]
  },
  {
   "cell_type": "code",
   "execution_count": 10,
   "id": "54260e20-f6aa-4e08-8567-e64be20e096f",
   "metadata": {},
   "outputs": [
    {
     "name": "stdout",
     "output_type": "stream",
     "text": [
      "Total number of elements: 6\n"
     ]
    }
   ],
   "source": [
    "arr = np.array([[1, 2], [3, 4], [5, 6]])\n",
    "print(\"Total number of elements:\", arr.size)\n"
   ]
  },
  {
   "cell_type": "markdown",
   "id": "08965c17-5a6c-44fd-923c-b8986412a414",
   "metadata": {},
   "source": [
    "<p style=\"font-family:Helvica; font-size:20px; \">\n",
    "This tells us the array has 6 elements in total.\n",
    "<p style=\"font-family:Helvica; font-size:20px; \">\n",
    "d. <b>.itemsize</b> (Size of Each Element)\n",
    "<li style=\"font-family:Helvica; font-size:20px;\">The <b>.itemsize</b> attribute returns the size in bytes of each element in the array.\n",
    "<li style=\"font-family:Helvica; font-size:20px;\">This depends on the data type (dtype). For example, int32 elements use 4 bytes (32 bits), while float64 elements use 8 bytes (64 bits).\n",
    "<p style=\"font-family:Helvica; font-size:20px; \">\n",
    "\n",
    "<b>Example:</b>"
   ]
  },
  {
   "cell_type": "code",
   "execution_count": 11,
   "id": "8e9fbe5d-7f0b-4fcb-bfc9-8fd9a044e462",
   "metadata": {},
   "outputs": [
    {
     "name": "stdout",
     "output_type": "stream",
     "text": [
      "Size of each element (in bytes): 4\n",
      "Size of each element (in bytes): 8\n"
     ]
    }
   ],
   "source": [
    "arr = np.array([1, 2, 3], dtype=np.int32)\n",
    "print(\"Size of each element (in bytes):\", arr.itemsize)\n",
    "\n",
    "arr_float = np.array([1.2, 2.3, 3.4], dtype=np.float64)\n",
    "print(\"Size of each element (in bytes):\", arr_float.itemsize)\n"
   ]
  },
  {
   "cell_type": "markdown",
   "id": "f65b7d3e-dc21-460f-a8ce-2d4d3f79f676",
   "metadata": {},
   "source": [
    "<p style=\"font-family:Helvica; font-size:20px; \">\n",
    "This means each int32 element takes 4 bytes, and each float64 element takes 8 bytes.\n",
    "<p style=\"font-family:Helvica; font-size:20px; \">\n",
    "4.<b> Example Combining All Attributes:</b>\n",
    "<p style=\"font-family:Helvica; font-size:20px; \">\n",
    "Here’s a comprehensive example that shows how to use these attributes together:"
   ]
  },
  {
   "cell_type": "code",
   "execution_count": 12,
   "id": "8db247d1-ab05-4d3f-aeb1-a38a881c0c9e",
   "metadata": {},
   "outputs": [
    {
     "name": "stdout",
     "output_type": "stream",
     "text": [
      "Array:\n",
      " [[1 2 3]\n",
      " [4 5 6]\n",
      " [7 8 9]]\n",
      "Shape: (3, 3)\n",
      "Number of dimensions: 2\n",
      "Total number of elements: 9\n",
      "Size of each element (in bytes): 4\n",
      "Data type of array: int32\n",
      "Converted dtype: float64\n"
     ]
    }
   ],
   "source": [
    "import numpy as np\n",
    "\n",
    "# Create a 3x3 array with dtype=int32\n",
    "arr = np.array([[1, 2, 3], [4, 5, 6], [7, 8, 9]], dtype=np.int32)\n",
    "\n",
    "# Check the shape, dimensions, total elements, and size of elements\n",
    "print(\"Array:\\n\", arr)\n",
    "print(\"Shape:\", arr.shape)       # (3, 3)\n",
    "print(\"Number of dimensions:\", arr.ndim)  # 2\n",
    "print(\"Total number of elements:\", arr.size)  # 9\n",
    "print(\"Size of each element (in bytes):\", arr.itemsize)  # 4\n",
    "print(\"Data type of array:\", arr.dtype)  # int32\n",
    "\n",
    "# Convert to float64\n",
    "arr_float = arr.astype(np.float64)\n",
    "print(\"Converted dtype:\", arr_float.dtype)  # float64\n"
   ]
  },
  {
   "cell_type": "markdown",
   "id": "5fb880b0-c5bc-40f2-950f-078e51060126",
   "metadata": {},
   "source": [
    "<p style=\"font-family:Helvica; font-size:20px; \">\n",
    "<b>Key Takeaways:</b>\n",
    "<p style=\"font-family:Helvica; font-size:20px; \">\n",
    "<li style=\"font-family:Helvica; font-size:20px;\"><b>dtype</b> defines the data type of the array. You can specify or convert the data type using .astype().\n",
    "<li style=\"font-family:Helvica; font-size:20px;\"><b>shape</b> tells you the structure of the array in terms of rows and columns (or higher dimensions).\n",
    "<li style=\"font-family:Helvica; font-size:20px;\"><b>ndim</b> gives the number of dimensions of the array.\n",
    "<li style=\"font-family:Helvica; font-size:20px;\"><b>size</b> tells you how many total elements the array contains.\n",
    "<li style=\"font-family:Helvica; font-size:20px;\"><b>itemsize</b> indicates how much memory each element occupies based on its data type.\n",
    "<p style=\"font-family:Helvica; font-size:20px; \">\n",
    "These attributes allow you to better understand and manage the structure and memory usage of NumPy arrays."
   ]
  },
  {
   "cell_type": "markdown",
   "id": "1a5f6af0-1aaf-4da4-a3a8-3cdc85826fe6",
   "metadata": {},
   "source": [
    "<p style=\"font-family:Helvica; font-size:20px; \">\n",
    "<b>Creating arrays:</b>\n",
    "<p style=\"font-family:Helvica; font-size:20px; \">\n",
    "In NumPy, there are several ways to create arrays, each serving different purposes depending on the data you need. Let’s explore the most commonly used methods: np.array(), np.zeros(), np.ones(), np.arange(), and np.linspace().\n",
    "<p style=\"font-family:Helvica; font-size:20px; \">\n",
    "1.<b> Creating an Array with np.array()</b>\n",
    "<p style=\"font-family:Helvica; font-size:20px; \">\n",
    "np.array() is used to create a NumPy array from a Python list or a list of lists (for multi-dimensional arrays).\n",
    "It can be used with or without specifying the dtype (data type). If not specified, NumPy will infer the data type based on the input.\n",
    "<p style=\"font-family:Helvica; font-size:20px; \">\n",
    "<b>Example:</b>"
   ]
  },
  {
   "cell_type": "code",
   "execution_count": 13,
   "id": "3ae1111a-10cf-43b9-aca5-082c1e0e8d38",
   "metadata": {},
   "outputs": [
    {
     "name": "stdout",
     "output_type": "stream",
     "text": [
      "1D Array: [1 2 3 4]\n",
      "2D Array:\n",
      " [[1 2 3]\n",
      " [4 5 6]]\n",
      "Array with specified dtype (float): [1. 2. 3.]\n"
     ]
    }
   ],
   "source": [
    "import numpy as np\n",
    "\n",
    "# Creating a 1D array from a Python list\n",
    "arr_1d = np.array([1, 2, 3, 4])\n",
    "print(\"1D Array:\", arr_1d)\n",
    "\n",
    "# Creating a 2D array from a list of lists\n",
    "arr_2d = np.array([[1, 2, 3], [4, 5, 6]])\n",
    "print(\"2D Array:\\n\", arr_2d)\n",
    "\n",
    "# Creating an array with a specified data type (float)\n",
    "arr_float = np.array([1, 2, 3], dtype=float)\n",
    "print(\"Array with specified dtype (float):\", arr_float)\n"
   ]
  },
  {
   "cell_type": "markdown",
   "id": "e3aa362d-59c2-4224-8ade-cd439675736c",
   "metadata": {},
   "source": [
    "<p style=\"font-family:Helvica; font-size:20px; \">\n",
    "2.<b> Creating an Array of Zeros with np.zeros()</b>\n",
    "<p style=\"font-family:Helvica; font-size:20px; \">\n",
    "<li style=\"font-family:Helvica; font-size:20px;\">np.zeros() is used to create an array filled with zeros.\n",
    "<li style=\"font-family:Helvica; font-size:20px;\">You can specify the shape of the array (e.g., (3, 4) for a 3x4 array) and optionally the data type.\n",
    "<p style=\"font-family:Helvica; font-size:20px; \">\n",
    "<b>Example:</b>"
   ]
  },
  {
   "cell_type": "code",
   "execution_count": 14,
   "id": "23241a6d-d0bf-4cc0-9462-8aa271b57a0f",
   "metadata": {},
   "outputs": [
    {
     "name": "stdout",
     "output_type": "stream",
     "text": [
      "1D Array of zeros: [0. 0. 0. 0. 0.]\n",
      "2D Array of zeros:\n",
      " [[0. 0. 0. 0.]\n",
      " [0. 0. 0. 0.]\n",
      " [0. 0. 0. 0.]]\n",
      "2D Array of zeros (int):\n",
      " [[0 0]\n",
      " [0 0]]\n"
     ]
    }
   ],
   "source": [
    "# Create a 1D array of zeros\n",
    "arr_zeros_1d = np.zeros(5)\n",
    "print(\"1D Array of zeros:\", arr_zeros_1d)\n",
    "\n",
    "# Create a 2D array of zeros\n",
    "arr_zeros_2d = np.zeros((3, 4))\n",
    "print(\"2D Array of zeros:\\n\", arr_zeros_2d)\n",
    "\n",
    "# Create a 2D array of zeros with specified data type (integer)\n",
    "arr_zeros_int = np.zeros((2, 2), dtype=int)\n",
    "print(\"2D Array of zeros (int):\\n\", arr_zeros_int)"
   ]
  },
  {
   "cell_type": "markdown",
   "id": "eb720bf9-5b5a-4440-81a0-452e93a2f605",
   "metadata": {},
   "source": [
    "<p style=\"font-family:Helvica; font-size:20px; \">\n",
    "3.<b> Creating an Array of Ones with np.ones()</b>\n",
    "<p style=\"font-family:Helvica; font-size:20px; \">\n",
    "<li style=\"font-family:Helvica; font-size:20px;\">np.ones() is similar to np.zeros(), but it creates an array filled with ones.\n",
    "<li style=\"font-family:Helvica; font-size:20px;\">You can specify the shape and data type.\n",
    "<p style=\"font-family:Helvica; font-size:20px; \">\n",
    "    \n",
    "<b>Example:</b>"
   ]
  },
  {
   "cell_type": "code",
   "execution_count": 15,
   "id": "9bf5a9c4-b636-4528-87b4-b21f6ae4ca00",
   "metadata": {},
   "outputs": [
    {
     "name": "stdout",
     "output_type": "stream",
     "text": [
      "1D Array of ones: [1. 1. 1. 1.]\n",
      "2D Array of ones:\n",
      " [[1. 1. 1.]\n",
      " [1. 1. 1.]\n",
      " [1. 1. 1.]]\n",
      "2D Array of ones (int):\n",
      " [[1 1]\n",
      " [1 1]]\n"
     ]
    }
   ],
   "source": [
    "# Create a 1D array of ones\n",
    "arr_ones_1d = np.ones(4)\n",
    "print(\"1D Array of ones:\", arr_ones_1d)\n",
    "\n",
    "# Create a 2D array of ones\n",
    "arr_ones_2d = np.ones((3, 3))\n",
    "print(\"2D Array of ones:\\n\", arr_ones_2d)\n",
    "\n",
    "# Create a 2D array of ones with specified data type (integer)\n",
    "arr_ones_int = np.ones((2, 2), dtype=int)\n",
    "print(\"2D Array of ones (int):\\n\", arr_ones_int)\n"
   ]
  },
  {
   "cell_type": "markdown",
   "id": "e02e8e2e-c0b8-471d-918a-5dcde0665cd6",
   "metadata": {},
   "source": [
    "<p style=\"font-family:Helvica; font-size:20px; \">\n",
    "4.<b> Creating an Array with a Range of Values using np.arange()</b>\n",
    "<p style=\"font-family:Helvica; font-size:20px; \">\n",
    "<li style=\"font-family:Helvica; font-size:20px;\">np.arange() generates an array with evenly spaced values within a specified interval. It works similarly to Python’s built-in range() function but returns a NumPy array.\n",
    "<li style=\"font-family:Helvica; font-size:20px;\">You can specify the start, stop, and step values.\n",
    "<p style=\"font-family:Helvica; font-size:20px; \">\n",
    "    \n",
    "<b>Example:</b>"
   ]
  },
  {
   "cell_type": "code",
   "execution_count": 16,
   "id": "d579bce8-3091-41d4-bc0e-d8816aa5546a",
   "metadata": {
    "scrolled": true
   },
   "outputs": [
    {
     "name": "stdout",
     "output_type": "stream",
     "text": [
      "Array with values from 0 to 9: [0 1 2 3 4 5 6 7 8 9]\n",
      "Array with values from 1 to 9 (step 2): [1 3 5 7 9]\n",
      "Array with float step: [0.  0.2 0.4 0.6 0.8]\n"
     ]
    }
   ],
   "source": [
    "# Create an array from 0 to 9\n",
    "arr_range = np.arange(10)\n",
    "print(\"Array with values from 0 to 9:\", arr_range)\n",
    "\n",
    "# Create an array from 1 to 10 with a step of 2\n",
    "arr_range_step = np.arange(1, 10, 2)\n",
    "print(\"Array with values from 1 to 9 (step 2):\", arr_range_step)\n",
    "\n",
    "# Create an array of floats\n",
    "arr_range_float = np.arange(0, 1, 0.2)\n",
    "print(\"Array with float step:\", arr_range_float)\n"
   ]
  },
  {
   "cell_type": "markdown",
   "id": "c1009c99-f183-4cc4-b143-a1e2e525af88",
   "metadata": {},
   "source": [
    "<p style=\"font-family:Helvica; font-size:20px; \">\n",
    "5.<b> Creating an Array with Evenly Spaced Values using np.linspace()</b>\n",
    "<p style=\"font-family:Helvica; font-size:20px; \">\n",
    "<li style=\"font-family:Helvica; font-size:20px;\">np.linspace() generates an array of evenly spaced numbers over a specified range, but instead of using a step value, you specify the total number of points (num).\n",
    "<li style=\"font-family:Helvica; font-size:20px;\">Useful when you want to divide an interval into equal parts.\n",
    "<p style=\"font-family:Helvica; font-size:20px; \">\n",
    "    \n",
    "<b>Example:</b>"
   ]
  },
  {
   "cell_type": "code",
   "execution_count": 17,
   "id": "11bc7a2e-5077-4f31-a438-07c913159c3d",
   "metadata": {},
   "outputs": [
    {
     "name": "stdout",
     "output_type": "stream",
     "text": [
      "Array with 5 evenly spaced numbers between 0 and 1: [0.   0.25 0.5  0.75 1.  ]\n",
      "Array with 10 evenly spaced numbers between 0 and 10: [ 0.          1.11111111  2.22222222  3.33333333  4.44444444  5.55555556\n",
      "  6.66666667  7.77777778  8.88888889 10.        ]\n",
      "Array without including endpoint: [0.  0.2 0.4 0.6 0.8]\n"
     ]
    }
   ],
   "source": [
    "# Create an array with 5 evenly spaced numbers between 0 and 1\n",
    "arr_linspace = np.linspace(0, 1, 5)\n",
    "print(\"Array with 5 evenly spaced numbers between 0 and 1:\", arr_linspace)\n",
    "\n",
    "# Create an array with 10 evenly spaced numbers between 0 and 10\n",
    "arr_linspace_10 = np.linspace(0, 10, 10)\n",
    "print(\"Array with 10 evenly spaced numbers between 0 and 10:\", arr_linspace_10)\n",
    "\n",
    "# Include the endpoint\n",
    "arr_linspace_endpoint = np.linspace(0, 1, 5, endpoint=False)\n",
    "print(\"Array without including endpoint:\", arr_linspace_endpoint)\n"
   ]
  },
  {
   "cell_type": "markdown",
   "id": "4e1a2c1e-8d5d-488f-8114-dca70a46087f",
   "metadata": {},
   "source": [
    "<p style=\"font-family:Helvica; font-size:20px; \">\n",
    "<b>Key Differences Between np.arange() and np.linspace():</b>\n",
    "<p style=\"font-family:Helvica; font-size:20px; \">\n",
    "<li style=\"font-family:Helvica; font-size:20px;\">np.arange() uses a specified step to create values within the range.\n",
    "<li style=\"font-family:Helvica; font-size:20px;\">np.linspace() allows you to create a specified number of evenly spaced values between a start and an end point.\n",
    "<p style=\"font-family:Helvica; font-size:20px; \">\n",
    "    \n",
    "<b>Summary of Array Creation Methods:</b>\n",
    "<p style=\"font-family:Helvica; font-size:20px; \">\n",
    "<li style=\"font-family:Helvica; font-size:20px;\">np.array(): Creates an array from a list or list of lists (multi-dimensional arrays).\n",
    "<li style=\"font-family:Helvica; font-size:20px;\">np.zeros(): Creates an array filled with zeros of a specified shape.\n",
    "<li style=\"font-family:Helvica; font-size:20px;\">np.ones(): Creates an array filled with ones of a specified shape.\n",
    "<li style=\"font-family:Helvica; font-size:20px;\">np.arange(): Creates an array with evenly spaced values based on a step size.\n",
    "<li style=\"font-family:Helvica; font-size:20px;\">np.linspace(): Creates an array with a specified number of evenly spaced values between two limits.\n",
    "<p style=\"font-family:Helvica; font-size:20px; \">\n",
    "Each method allows you to control the array’s shape, size, and data type, making them powerful tools for initializing data in NumPy."
   ]
  },
  {
   "cell_type": "markdown",
   "id": "9aa4db35-bdcf-4cc5-94e9-7b1363620938",
   "metadata": {},
   "source": [
    "<p style=\"font-family:Helvica; font-size:20px; \">\n",
    "<b>Reshaping arrays:</b>\n",
    "<p style=\"font-family:Helvica; font-size:20px; \">\n",
    "Reshaping arrays in NumPy allows you to change the structure of an array without altering its data. This is particularly useful when you're performing operations that require specific dimensions or when you're organizing data in different shapes. Let's explore three common methods used for reshaping arrays: reshape(), ravel(), and transpose().\n",
    "<p style=\"font-family:Helvica; font-size:20px; \">\n",
    "1.<b> reshape():</b> Changing the Shape of an Array\n",
    "<li style=\"font-family:Helvica; font-size:20px;\">The .reshape() method allows you to change the shape (or dimensions) of an array. You provide the new shape as a tuple, and NumPy will return a new array with that shape, while keeping the same data.\n",
    "<li style=\"font-family:Helvica; font-size:20px;\">The total number of elements must remain the same before and after reshaping (i.e., the product of dimensions before reshaping must equal the product after reshaping).\n",
    "<p style=\"font-family:Helvica; font-size:20px; \">\n",
    "    \n",
    "<b>Example:</b>"
   ]
  },
  {
   "cell_type": "code",
   "execution_count": 18,
   "id": "26c49cd5-76a1-4be6-9af0-b073bb5f9bb5",
   "metadata": {},
   "outputs": [
    {
     "name": "stdout",
     "output_type": "stream",
     "text": [
      "Original array: [1 2 3 4 5 6]\n",
      "Reshaped array (2x3):\n",
      " [[1 2 3]\n",
      " [4 5 6]]\n",
      "Reshaped array (2x1x3):\n",
      " [[[1 2 3]]\n",
      "\n",
      " [[4 5 6]]]\n"
     ]
    }
   ],
   "source": [
    "import numpy as np\n",
    "\n",
    "# Create a 1D array of 6 elements\n",
    "arr = np.array([1, 2, 3, 4, 5, 6])\n",
    "print(\"Original array:\", arr)\n",
    "\n",
    "# Reshape it into a 2D array (2 rows, 3 columns)\n",
    "arr_reshaped = arr.reshape((2, 3))\n",
    "print(\"Reshaped array (2x3):\\n\", arr_reshaped)\n",
    "\n",
    "# Reshape it into a 3D array (2x1x3)\n",
    "arr_reshaped_3d = arr.reshape((2, 1, 3))\n",
    "print(\"Reshaped array (2x1x3):\\n\", arr_reshaped_3d)\n"
   ]
  },
  {
   "cell_type": "code",
   "execution_count": null,
   "id": "22dfdec7-118d-4307-bb7b-e0c45e9b52f5",
   "metadata": {},
   "outputs": [],
   "source": []
  }
 ],
 "metadata": {
  "kernelspec": {
   "display_name": "Python 3 (ipykernel)",
   "language": "python",
   "name": "python3"
  },
  "language_info": {
   "codemirror_mode": {
    "name": "ipython",
    "version": 3
   },
   "file_extension": ".py",
   "mimetype": "text/x-python",
   "name": "python",
   "nbconvert_exporter": "python",
   "pygments_lexer": "ipython3",
   "version": "3.9.20"
  }
 },
 "nbformat": 4,
 "nbformat_minor": 5
}
