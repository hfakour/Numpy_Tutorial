{
 "cells": [
  {
   "cell_type": "markdown",
   "id": "1f4e1e4f-89d9-4b69-a0e9-6d3a3fd19750",
   "metadata": {},
   "source": [
    "<div style=\"text-align: left;\">\n",
    "    <img src=\"https://upload.wikimedia.org/wikipedia/commons/thumb/3/31/NumPy_logo_2020.svg/2560px-NumPy_logo_2020.svg.png\" alt=\"Image description\" width=\"50%\"/>\n",
    "</div>"
   ]
  },
  {
   "cell_type": "markdown",
   "id": "08ef4cb8-2c51-4016-accd-765d577e49d1",
   "metadata": {},
   "source": [
    "<p style=\"font-family:Helvica; font-size:26px; \">\n",
    "<b>What is NumPy?</b>\n",
    "</p>"
   ]
  },
  {
   "cell_type": "markdown",
   "id": "e53d30ba-5ad3-4cc6-87dc-75e3d4596266",
   "metadata": {},
   "source": [
    "<p style=\"font-family:Helvica; font-size:20px; \">\n",
    "NumPy (Numerical Python) is a powerful library in Python used for numerical and scientific computing. It provides support for arrays, matrices, and many mathematical functions that operate on these data structures. Here's why it's significant:\n",
    "</p>\n",
    "<p style=\"font-family:Helvica; font-size:20px; \">\n",
    "1.<b> N-dimensional Array (ndarray):</b> The core of NumPy is its ndarray object, which provides fast and memory-efficient array operations compared to native Python lists. This array can be one-dimensional (vectors), two-dimensional (matrices), or even higher dimensions.    </p>\n",
    "<p style=\"font-family:Helvica; font-size:20px; \">\n",
    "2. <b>Broadcasting:</b> NumPy allows you to perform operations on arrays of different shapes, which automatically \"broadcasts\" the smaller array over the larger one, making the code cleaner and more efficient.    </p>\n",
    "<p style=\"font-family:Helvica; font-size:20px; \">\n",
    "3. <b>Vectorization:</b> This means you can apply operations to entire arrays without explicit loops. This not only simplifies code but makes it much faster because NumPy is implemented in C, allowing for optimized performance.    </p>\n",
    "<p style=\"font-family:Helvica; font-size:20px; \">    \n",
    "4.<b> Mathematical Operations:</b> NumPy provides a wide range of mathematical functions (like trigonometric functions, linear algebra operations, statistics, etc.) that are fast and efficient.    </p>\n",
    "\n",
    "<p style=\"font-family:Helvica; font-size:20px; \">\n",
    "    5. <b>Integration with Other Libraries:</b> NumPy is the foundational library for many other libraries in the Python ecosystem, including:\n",
    "    <li style=\"font-family:Helvica; font-size:20px;\"> Pandas (for data analysis)</li>\n",
    "    <li style=\"font-family:Helvica; font-size:20px;\"> Matplotlib (for plotting)</li>\n",
    "    <li style=\"font-family:Helvica; font-size:20px;\"> Scikit-learn (for machine learning)</li>\n",
    "    <li style=\"font-family:Helvica; font-size:20px;\"> TensorFlow, PyTorch (for deep learning)</li>\n",
    "    </p>\n",
    "<p style=\"font-family:Helvica; font-size:20px; \"> These libraries are built around NumPy arrays or have APIs that are compatible with NumPy.</p>"
   ]
  },
  {
   "cell_type": "markdown",
   "id": "56a1555a-efe6-48cd-a482-766a8d6aa5dc",
   "metadata": {},
   "source": [
    "<p style=\"font-family:Helvica; font-size:26px; \">\n",
    "<b>Why is NumPy Useful?</b>\n",
    "</p>"
   ]
  },
  {
   "cell_type": "markdown",
   "id": "4e80c128-a8ee-48ed-9035-5a2783f1e5db",
   "metadata": {},
   "source": [
    "<p style=\"font-family:Helvica; font-size:20px; \">\n",
    "1.<b> Performance:</b> NumPy is much faster than Python lists for numerical computations. This is because it is implemented in C and optimized for performance.\n",
    "</p>\n",
    "<p style=\"font-family:Helvica; font-size:20px; \">\n",
    "2.<b> Memory Efficiency:</b> NumPy uses less memory than native Python lists, which is critical when dealing with large datasets in data science and machine learning.\n",
    "</p>\n",
    "<p style=\"font-family:Helvica; font-size:20px; \">\n",
    "3.<b> Convenience:</b> Operations on arrays, such as element-wise addition, multiplication, reshaping, and slicing, are simple and efficient with NumPy. This makes it very convenient for writing clean, easy-to-read code.\n",
    "</p>\n",
    "<p style=\"font-family:Helvica; font-size:20px; \">\n",
    "4.<b> Multi-dimensional Data:</b> NumPy supports multi-dimensional data, which is important when working with matrices, tensors, or large data sets in machine learning and scientific computing.\n",
    "</p>\n",
    "<p style=\"font-family:Helvica; font-size:20px; \">\n",
    "5.<b> Data Manipulation:</b> You can easily perform complex mathematical operations like matrix multiplication, transposition, and Fourier transformations, making it essential for anyone working in fields like linear algebra, image processing, and signal processing.\n",
    "</p>\n",
    "<p style=\"font-family:Helvica; font-size:20px; \">\n",
    "6.<b> Support for Large Data Sets:</b> As a data scientist or machine learning expert, you'll often be working with large data sets that need efficient storage and fast operations, and NumPy is designed for this.\n",
    "</p>"
   ]
  },
  {
   "cell_type": "markdown",
   "id": "4d410275-8261-4652-9a4c-ec334b95225b",
   "metadata": {},
   "source": [
    "<p style=\"font-family:Helvica; font-size:20px; \">\n",
    "<b>Example</b>\n",
    "<br/>Here's a simple example of using NumPy to demonstrate some of its benefits:\n",
    "</p>"
   ]
  },
  {
   "cell_type": "code",
   "execution_count": 2,
   "id": "6b57a2b2-d41c-436d-bdd3-081e285d6f1a",
   "metadata": {},
   "outputs": [
    {
     "name": "stdout",
     "output_type": "stream",
     "text": [
      "Matrix A:\n",
      " [[1 2]\n",
      " [3 4]]\n",
      "Matrix B (A + 10):\n",
      " [[11 12]\n",
      " [13 14]]\n",
      "Matrix C (A * 2):\n",
      " [[2 4]\n",
      " [6 8]]\n",
      "Matrix D (A dot C):\n",
      " [[14 20]\n",
      " [30 44]]\n",
      "Transpose of A:\n",
      " [[1 3]\n",
      " [2 4]]\n"
     ]
    }
   ],
   "source": [
    "import numpy as np\n",
    "\n",
    "# Create a 2x2 matrix\n",
    "A = np.array([[1, 2], [3, 4]])\n",
    "\n",
    "# Perform element-wise operations\n",
    "B = A + 10  # Add 10 to each element\n",
    "C = A * 2   # Multiply each element by 2\n",
    "\n",
    "# Matrix multiplication\n",
    "D = np.dot(A, C)\n",
    "\n",
    "# Transpose of the matrix\n",
    "E = A.T\n",
    "\n",
    "# Output results\n",
    "print(\"Matrix A:\\n\", A)\n",
    "print(\"Matrix B (A + 10):\\n\", B)\n",
    "print(\"Matrix C (A * 2):\\n\", C)\n",
    "print(\"Matrix D (A dot C):\\n\", D)\n",
    "print(\"Transpose of A:\\n\", E)\n"
   ]
  },
  {
   "cell_type": "markdown",
   "id": "8707893f-7207-428f-ad5c-21740e9a13f2",
   "metadata": {},
   "source": [
    "<p style=\"font-family:Helvica; font-size:20px; \">\n",
    "This example shows how NumPy makes mathematical operations on arrays easy and intuitive.\n",
    "</p>"
   ]
  },
  {
   "cell_type": "markdown",
   "id": "0b0a4903-f5cf-49b2-af7f-bd77b449580a",
   "metadata": {},
   "source": [
    "<p style=\"font-family:Helvica; font-size:20px; \">\n",
    "<b>Difference between NumPy arrays and Python lists.</b>\n",
    "</p>"
   ]
  },
  {
   "cell_type": "markdown",
   "id": "5f1b7d4c-93c2-4191-9ee8-9772f77bb43b",
   "metadata": {},
   "source": [
    "<p style=\"font-family:Helvica; font-size:20px; \">\n",
    "The difference between NumPy arrays and Python lists lies mainly in their efficiency, speed, and the kinds of operations they support. Let’s break it down:</p>\n",
    "<p style=\"font-family:Helvica; font-size:20px; \">\n",
    "1.<b> Memory Efficiency</b>\n",
    "<li style=\"font-family:Helvica; font-size:20px;\">Python Lists:</li>\n",
    "<p style=\"font-family:Helvica; font-size:20px; \">\n",
    "Python lists are more flexible but less efficient in terms of memory. Each element in a Python list is a complete object with overhead.\n",
    "Lists are pointers to objects, so storing numerical data (like integers or floats) requires more memory because each element in the list is a reference to a full Python object, not just the raw data.\n",
    "</p>\n",
    "<li style=\"font-family:Helvica; font-size:20px;\">NumPy Arrays:</li>\n",
    "<p style=\"font-family:Helvica; font-size:20px; \">\n",
    "NumPy arrays store data more compactly. They are stored in contiguous blocks of memory, allowing for more efficient storage.\n",
    "Instead of each element being a reference to a separate object, NumPy arrays store the raw numerical data directly. This leads to reduced memory overhead.\n",
    "NumPy arrays are also homogeneous, meaning all elements must be of the same type (e.g., all floats or all integers), which contributes to memory efficiency.\n",
    "</p>\n",
    "<p style=\"font-family:Helvica; font-size:20px; \">\n",
    "<b>Example of Memory Usage Comparison:</b>\n",
    "</p>"
   ]
  },
  {
   "cell_type": "code",
   "execution_count": 3,
   "id": "3aa305d6-12f1-4f56-9143-4f927e718093",
   "metadata": {},
   "outputs": [
    {
     "name": "stdout",
     "output_type": "stream",
     "text": [
      "Memory used by Python list: 8856\n",
      "Memory used by NumPy array: 4000\n"
     ]
    }
   ],
   "source": [
    "import numpy as np\n",
    "import sys\n",
    "\n",
    "# Python list\n",
    "py_list = [i for i in range(1000)]\n",
    "print(\"Memory used by Python list:\", sys.getsizeof(py_list))\n",
    "\n",
    "# NumPy array\n",
    "np_array = np.array(py_list)\n",
    "print(\"Memory used by NumPy array:\", np_array.nbytes)\n"
   ]
  },
  {
   "cell_type": "markdown",
   "id": "60a441f6-4880-4daa-857f-b197fbf95648",
   "metadata": {},
   "source": [
    "<p style=\"font-family:Helvica; font-size:20px; \">\n",
    "This shows that for large datasets, NumPy arrays require significantly less memory compared to Python lists.\n",
    "</p>"
   ]
  },
  {
   "cell_type": "markdown",
   "id": "9352b68b-abb3-49eb-8428-5d2ce7dbaaea",
   "metadata": {},
   "source": [
    "<p style=\"font-family:Helvica; font-size:20px; \">\n",
    "2.<b> Speed of Operations</b>\n",
    "<li style=\"font-family:Helvica; font-size:20px;\">Python Lists:</li>\n",
    "<p style=\"font-family:Helvica; font-size:20px; \">\n",
    "Python lists are slower because they are dynamically typed, meaning that Python has to determine the data type of each element during execution, which slows down computation.\n",
    "Operations on lists, especially element-wise operations, often require looping through elements, which is not very efficient in Python.\n",
    "</p>\n",
    "<li style=\"font-family:Helvica; font-size:20px;\">NumPy Arrays:</li>\n",
    "<p style=\"font-family:Helvica; font-size:20px; \">\n",
    "NumPy arrays are much faster because they are implemented in C and make use of highly optimized C libraries for mathematical operations.\n",
    "With vectorized operations, NumPy allows you to perform operations on entire arrays at once without the need for loops. This results in much faster performance for numerical computations.\n",
    "</p>\n",
    "<p style=\"font-family:Helvica; font-size:20px; \">    \n",
    "<b>Example of Speed Comparison:</b>\n",
    "</p>\n",
    "<p style=\"font-family:Helvica; font-size:20px; \"> \n",
    "Let’s compare the speed of squaring elements in a Python list vs. a NumPy array.\n",
    "</p>"
   ]
  },
  {
   "cell_type": "code",
   "execution_count": 4,
   "id": "45c0fcf6-a870-4ffc-aea0-28e50c13356c",
   "metadata": {},
   "outputs": [
    {
     "name": "stdout",
     "output_type": "stream",
     "text": [
      "Time taken by Python list: 0.14802932739257812 seconds\n",
      "Time taken by NumPy array: 0.00099945068359375 seconds\n"
     ]
    }
   ],
   "source": [
    "import numpy as np\n",
    "import time\n",
    "\n",
    "# Python list\n",
    "py_list = list(range(1000000))\n",
    "\n",
    "# NumPy array\n",
    "np_array = np.array(py_list)\n",
    "\n",
    "# Squaring using Python list\n",
    "start_time = time.time()\n",
    "py_list_squared = [x**2 for x in py_list]\n",
    "print(\"Time taken by Python list: %s seconds\" % (time.time() - start_time))\n",
    "\n",
    "# Squaring using NumPy array\n",
    "start_time = time.time()\n",
    "np_array_squared = np_array ** 2\n",
    "print(\"Time taken by NumPy array: %s seconds\" % (time.time() - start_time))\n"
   ]
  },
  {
   "cell_type": "markdown",
   "id": "474fe58f-220f-4413-8b33-73830d5d84d7",
   "metadata": {},
   "source": [
    "<p style=\"font-family:Helvica; font-size:20px; \"> \n",
    "This example shows that NumPy arrays are much faster than Python lists for element-wise operations.\n",
    "</p>"
   ]
  },
  {
   "cell_type": "markdown",
   "id": "41d90667-3d87-4b1b-8b06-59a54d29c446",
   "metadata": {},
   "source": [
    "<p style=\"font-family:Helvica; font-size:20px; \">\n",
    "3.<b> Mathematical and Vectorized Operations</b>\n",
    "<li style=\"font-family:Helvica; font-size:20px;\">Python Lists:</li>\n",
    "<p style=\"font-family:Helvica; font-size:20px; \"> \n",
    "Python lists require looping through each element if you want to perform mathematical operations, and operations like matrix multiplication or trigonometric functions are not directly supported.\n",
    "<li style=\"font-family:Helvica; font-size:20px;\">NumPy Arrays:</li>\n",
    "<p style=\"font-family:Helvica; font-size:20px; \"> \n",
    "NumPy arrays support element-wise operations directly, which makes them much more convenient for mathematical and numerical work.\n",
    "NumPy also supports vectorized operations, meaning you can apply a mathematical function over an entire array without explicitly writing loops.\n",
    "<p style=\"font-family:Helvica; font-size:20px; \"> \n",
    "<b>Example of Element-wise Operation:</b>"
   ]
  },
  {
   "cell_type": "code",
   "execution_count": 5,
   "id": "97598c89-14e6-4fc9-810e-150b3f119c68",
   "metadata": {},
   "outputs": [
    {
     "name": "stdout",
     "output_type": "stream",
     "text": [
      "Python list result: [11, 12, 13, 14, 15]\n",
      "NumPy array result: [11 12 13 14 15]\n"
     ]
    }
   ],
   "source": [
    "# Python list (manual loop)\n",
    "py_list = [1, 2, 3, 4, 5]\n",
    "py_result = [x + 10 for x in py_list]  # Need to use a loop\n",
    "\n",
    "# NumPy array (vectorized operation)\n",
    "np_array = np.array(py_list)\n",
    "np_result = np_array + 10  # Vectorized operation\n",
    "\n",
    "print(\"Python list result:\", py_result)\n",
    "print(\"NumPy array result:\", np_result)\n"
   ]
  },
  {
   "cell_type": "markdown",
   "id": "595c1550-76f0-4990-b0df-76c9513b62d9",
   "metadata": {},
   "source": [
    "<p style=\"font-family:Helvica; font-size:20px; \"> \n",
    "Here, the NumPy operation is simpler, faster, and more concise."
   ]
  },
  {
   "cell_type": "markdown",
   "id": "291dd168-34db-43e8-bbf2-7814c5970e14",
   "metadata": {},
   "source": [
    "<p style=\"font-family:Helvica; font-size:20px; \">\n",
    "4.<b> Homogeneity</b>\n",
    "<li style=\"font-family:Helvica; font-size:20px;\">Python Lists:</li>\n",
    "<p style=\"font-family:Helvica; font-size:20px; \">\n",
    "Python lists can store elements of different data types (e.g., integers, strings, floats), which makes them versatile but less efficient for numerical operations.\n",
    "<li style=\"font-family:Helvica; font-size:20px;\">NumPy Arrays:</li>\n",
    "<p style=\"font-family:Helvica; font-size:20px; \">\n",
    "NumPy arrays are homogeneous, meaning all elements must be of the same data type (e.g., all integers or all floats). This is a key reason why NumPy is more efficient for large-scale numerical computation.\n",
    "<p style=\"font-family:Helvica; font-size:20px; \">\n",
    "5.<b> Built-in Functions and Support</b>\n",
    "<li style=\"font-family:Helvica; font-size:20px;\">Python Lists:</li>\n",
    "<p style=\"font-family:Helvica; font-size:20px; \">\n",
    "Python lists have limited built-in support for numerical operations. You need to use Python loops or external libraries (like math or itertools) to perform operations on list elements.\n",
    "<li style=\"font-family:Helvica; font-size:20px;\">NumPy Arrays:</li>\n",
    "<p style=\"font-family:Helvica; font-size:20px; \">\n",
    "NumPy provides a rich set of built-in functions for numerical computations such as linear algebra, Fourier transforms, statistics, and random number generation. These functions are highly optimized and allow for efficient computation.\n",
    "<p style=\"font-family:Helvica; font-size:20px; \">\n",
    "<b>Conclusion:</b>\n",
    "<p style=\"font-family:Helvica; font-size:20px; \">\n",
    "<ul style=\"font-family:Helvica; font-size:20px;\">NumPy arrays are highly efficient for numerical computations due to their compact memory usage and fast execution, especially for large datasets and multi-dimensional arrays.</ul>\n",
    "<ul style=\"font-family:Helvica; font-size:20px;\">Python lists are more general-purpose but are slower and less memory efficient when performing mathematical operations on large amounts of data.</ul>\n",
    "<p style=\"font-family:Helvica; font-size:20px; \">\n",
    "For data science, machine learning, or any performance-critical numerical tasks, NumPy arrays are a much better choice than Python lists."
   ]
  },
  {
   "cell_type": "markdown",
   "id": "2234d622-e61d-4314-841d-2befb1eef50e",
   "metadata": {},
   "source": [
    "<p style=\"font-family:Helvica; font-size:20px; \">\n",
    "<b>Data Types and Attributes in NumPy</b>\n",
    "<p style=\"font-family:Helvica; font-size:20px; \">\n",
    "Understanding data types (dtype) and some important attributes of NumPy arrays is crucial for efficient numerical computation.\n",
    "<p style=\"font-family:Helvica; font-size:20px; \">\n",
    "1.<b> Understanding dtype (Data Type)</b>\n",
    "<p style=\"font-family:Helvica; font-size:20px; \">\n",
    "In NumPy, each array has a data type (dtype), which defines the type of elements stored in the array. This is important because NumPy arrays are homogeneous, meaning all elements must be of the same data type.\n",
    "<p style=\"font-family:Helvica; font-size:20px; \">\n",
    "<ul style=\"font-family:Helvica; font-size:20px;\"><b>Common NumPy Data Types:</b>\n",
    "<li style=\"font-family:Helvica; font-size:20px;\">int32, int64: Signed integers of 32 or 64 bits.</li>\n",
    "<li style=\"font-family:Helvica; font-size:20px;\">float32, float64: Floating-point numbers (single or double precision).</li>\n",
    "<li style=\"font-family:Helvica; font-size:20px;\">complex128: Complex numbers.</li>\n",
    "<li style=\"font-family:Helvica; font-size:20px;\">bool: Boolean values (True or False).</li>\n",
    "<li style=\"font-family:Helvica; font-size:20px;\">object: Python objects.</li>\n",
    "<li style=\"font-family:Helvica; font-size:20px;\">string: Fixed-length strings.</li>\n",
    "<li style=\"font-family:Helvica; font-size:20px;\">datetime64: Dates and times.</li></ul>\n",
    "<p style=\"font-family:Helvica; font-size:20px; \">    \n",
    "You can specify the data type of a NumPy array when creating it, or you can check and convert the data type after the array has been created.\n",
    "<p style=\"font-family:Helvica; font-size:20px; \">\n",
    "<b>Example:</b>"
   ]
  },
  {
   "cell_type": "code",
   "execution_count": 6,
   "id": "4775d464-a674-4eb6-9be2-e4c4e2d82541",
   "metadata": {},
   "outputs": [
    {
     "name": "stdout",
     "output_type": "stream",
     "text": [
      "Array: [1.2 2.3 3.4]\n",
      "Data Type: float32\n"
     ]
    }
   ],
   "source": [
    "import numpy as np\n",
    "\n",
    "# Creating a NumPy array with a specified data type\n",
    "arr = np.array([1.2, 2.3, 3.4], dtype=np.float32)\n",
    "print(\"Array:\", arr)\n",
    "print(\"Data Type:\", arr.dtype)  # Output: float32\n"
   ]
  },
  {
   "cell_type": "markdown",
   "id": "10cd6402-fcc8-4aa1-b48c-dff7b7b296a9",
   "metadata": {},
   "source": [
    "<p style=\"font-family:Helvica; font-size:20px; \">\n",
    "2.<b> Specifying and Converting Data Types</b>\n",
    "<p style=\"font-family:Helvica; font-size:20px; \">\n",
    "You can specify the data type when you create the array or convert it later using the astype() function.\n",
    "<p style=\"font-family:Helvica; font-size:20px; \">\n",
    "<b>Example:</b>"
   ]
  },
  {
   "cell_type": "code",
   "execution_count": 7,
   "id": "b19623bb-47e0-41f4-9eb8-4082319c8a64",
   "metadata": {},
   "outputs": [
    {
     "name": "stdout",
     "output_type": "stream",
     "text": [
      "Original dtype: int32\n",
      "Converted dtype: float64\n"
     ]
    }
   ],
   "source": [
    "# Creating an array with a specific data type\n",
    "arr = np.array([1, 2, 3], dtype=np.int32)\n",
    "print(\"Original dtype:\", arr.dtype)  # int32\n",
    "\n",
    "# Converting the array to another type (float)\n",
    "arr_float = arr.astype(np.float64)\n",
    "print(\"Converted dtype:\", arr_float.dtype)  # float64\n"
   ]
  },
  {
   "cell_type": "markdown",
   "id": "9300341e-6dba-4a90-b932-109f69c25d97",
   "metadata": {},
   "source": [
    "<p style=\"font-family:Helvica; font-size:20px; \">\n",
    "This is especially useful if you need to change between integer, float, or even boolean representations for computation."
   ]
  },
  {
   "cell_type": "markdown",
   "id": "eb8b3520-83bb-4ee0-b900-b4348f473d39",
   "metadata": {},
   "source": [
    "<p style=\"font-family:Helvica; font-size:20px; \">\n",
    "3.<b> Important NumPy Attributes</b>\n",
    "<p style=\"font-family:Helvica; font-size:20px; \">\n",
    "Several key attributes help you understand the structure and characteristics of a NumPy array:\n",
    "<p style=\"font-family:Helvica; font-size:20px; \">\n",
    "a.<b> .shape</b> (Shape of the Array)\n",
    "<li style=\"font-family:Helvica; font-size:20px;\">The <b>.shape</b> attribute returns a tuple that represents the dimensions (size in each axis) of the array.</li>\n",
    "<li style=\"font-family:Helvica; font-size:20px;\">For example, an array with 3 rows and 4 columns will have a shape of (3, 4).</li>\n",
    "<p style=\"font-family:Helvica; font-size:20px; \">\n",
    "<b>Example:</b>"
   ]
  },
  {
   "cell_type": "code",
   "execution_count": 8,
   "id": "817b8ee9-bf4b-4b16-a9b8-7919674b4e2d",
   "metadata": {},
   "outputs": [
    {
     "name": "stdout",
     "output_type": "stream",
     "text": [
      "Shape of the array: (2, 3)\n"
     ]
    }
   ],
   "source": [
    "arr = np.array([[1, 2, 3], [4, 5, 6]])\n",
    "print(\"Shape of the array:\", arr.shape)\n"
   ]
  },
  {
   "cell_type": "markdown",
   "id": "5c712ab0-ab1f-4fd0-97f3-e5b67e77a96a",
   "metadata": {},
   "source": [
    "<p style=\"font-family:Helvica; font-size:20px; \">\n",
    "This tells us the array has 2 rows and 3 columns.\n",
    "<p style=\"font-family:Helvica; font-size:20px; \">\n",
    "b.<b> .ndim</b> (Number of Dimensions)\n",
    "<li style=\"font-family:Helvica; font-size:20px;\">The <b>.ndim</b> attribute returns the number of dimensions (axes) of the array.</li>\n",
    "<li style=\"font-family:Helvica; font-size:20px;\">A 1D array (vector) will have ndim=1, a 2D array (matrix) will have ndim=2, and so on.</li>\n",
    "<p style=\"font-family:Helvica; font-size:20px; \">\n",
    "<b>Example:</b>"
   ]
  },
  {
   "cell_type": "code",
   "execution_count": 9,
   "id": "983c0bca-a5c3-4e08-b9d5-ee711d84738f",
   "metadata": {},
   "outputs": [
    {
     "name": "stdout",
     "output_type": "stream",
     "text": [
      "Number of dimensions: 1\n",
      "Number of dimensions: 2\n"
     ]
    }
   ],
   "source": [
    "arr = np.array([1, 2, 3])\n",
    "print(\"Number of dimensions:\", arr.ndim)\n",
    "\n",
    "arr_2d = np.array([[1, 2], [3, 4], [5, 6]])\n",
    "print(\"Number of dimensions:\", arr_2d.ndim)\n"
   ]
  },
  {
   "cell_type": "markdown",
   "id": "3cb3689a-22cd-4397-a5b1-68d2837a0e9a",
   "metadata": {},
   "source": [
    "<p style=\"font-family:Helvica; font-size:20px; \">\n",
    "c. <b>.size</b> (Total Number of Elements)\n",
    "<li style=\"font-family:Helvica; font-size:20px;\">The <b>.size</b> attribute returns the total number of elements in the array.\n",
    "<li style=\"font-family:Helvica; font-size:20px;\">For a 2D array, .size is equal to the product of the dimensions in .shape.\n",
    "<p style=\"font-family:Helvica; font-size:20px; \">\n",
    "    \n",
    "<b>Example:</b>"
   ]
  },
  {
   "cell_type": "code",
   "execution_count": 10,
   "id": "54260e20-f6aa-4e08-8567-e64be20e096f",
   "metadata": {},
   "outputs": [
    {
     "name": "stdout",
     "output_type": "stream",
     "text": [
      "Total number of elements: 6\n"
     ]
    }
   ],
   "source": [
    "arr = np.array([[1, 2], [3, 4], [5, 6]])\n",
    "print(\"Total number of elements:\", arr.size)\n"
   ]
  },
  {
   "cell_type": "markdown",
   "id": "08965c17-5a6c-44fd-923c-b8986412a414",
   "metadata": {},
   "source": [
    "<p style=\"font-family:Helvica; font-size:20px; \">\n",
    "This tells us the array has 6 elements in total.\n",
    "<p style=\"font-family:Helvica; font-size:20px; \">\n",
    "d. <b>.itemsize</b> (Size of Each Element)\n",
    "<li style=\"font-family:Helvica; font-size:20px;\">The <b>.itemsize</b> attribute returns the size in bytes of each element in the array.\n",
    "<li style=\"font-family:Helvica; font-size:20px;\">This depends on the data type (dtype). For example, int32 elements use 4 bytes (32 bits), while float64 elements use 8 bytes (64 bits).\n",
    "<p style=\"font-family:Helvica; font-size:20px; \">\n",
    "\n",
    "<b>Example:</b>"
   ]
  },
  {
   "cell_type": "code",
   "execution_count": 11,
   "id": "8e9fbe5d-7f0b-4fcb-bfc9-8fd9a044e462",
   "metadata": {},
   "outputs": [
    {
     "name": "stdout",
     "output_type": "stream",
     "text": [
      "Size of each element (in bytes): 4\n",
      "Size of each element (in bytes): 8\n"
     ]
    }
   ],
   "source": [
    "arr = np.array([1, 2, 3], dtype=np.int32)\n",
    "print(\"Size of each element (in bytes):\", arr.itemsize)\n",
    "\n",
    "arr_float = np.array([1.2, 2.3, 3.4], dtype=np.float64)\n",
    "print(\"Size of each element (in bytes):\", arr_float.itemsize)\n"
   ]
  },
  {
   "cell_type": "markdown",
   "id": "f65b7d3e-dc21-460f-a8ce-2d4d3f79f676",
   "metadata": {},
   "source": [
    "<p style=\"font-family:Helvica; font-size:20px; \">\n",
    "This means each int32 element takes 4 bytes, and each float64 element takes 8 bytes.\n",
    "<p style=\"font-family:Helvica; font-size:20px; \">\n",
    "4.<b> Example Combining All Attributes:</b>\n",
    "<p style=\"font-family:Helvica; font-size:20px; \">\n",
    "Here’s a comprehensive example that shows how to use these attributes together:"
   ]
  },
  {
   "cell_type": "code",
   "execution_count": 12,
   "id": "8db247d1-ab05-4d3f-aeb1-a38a881c0c9e",
   "metadata": {},
   "outputs": [
    {
     "name": "stdout",
     "output_type": "stream",
     "text": [
      "Array:\n",
      " [[1 2 3]\n",
      " [4 5 6]\n",
      " [7 8 9]]\n",
      "Shape: (3, 3)\n",
      "Number of dimensions: 2\n",
      "Total number of elements: 9\n",
      "Size of each element (in bytes): 4\n",
      "Data type of array: int32\n",
      "Converted dtype: float64\n"
     ]
    }
   ],
   "source": [
    "import numpy as np\n",
    "\n",
    "# Create a 3x3 array with dtype=int32\n",
    "arr = np.array([[1, 2, 3], [4, 5, 6], [7, 8, 9]], dtype=np.int32)\n",
    "\n",
    "# Check the shape, dimensions, total elements, and size of elements\n",
    "print(\"Array:\\n\", arr)\n",
    "print(\"Shape:\", arr.shape)       # (3, 3)\n",
    "print(\"Number of dimensions:\", arr.ndim)  # 2\n",
    "print(\"Total number of elements:\", arr.size)  # 9\n",
    "print(\"Size of each element (in bytes):\", arr.itemsize)  # 4\n",
    "print(\"Data type of array:\", arr.dtype)  # int32\n",
    "\n",
    "# Convert to float64\n",
    "arr_float = arr.astype(np.float64)\n",
    "print(\"Converted dtype:\", arr_float.dtype)  # float64\n"
   ]
  },
  {
   "cell_type": "markdown",
   "id": "5fb880b0-c5bc-40f2-950f-078e51060126",
   "metadata": {},
   "source": [
    "<p style=\"font-family:Helvica; font-size:20px; \">\n",
    "<b>Key Takeaways:</b>\n",
    "<p style=\"font-family:Helvica; font-size:20px; \">\n",
    "<li style=\"font-family:Helvica; font-size:20px;\"><b>dtype</b> defines the data type of the array. You can specify or convert the data type using .astype().\n",
    "<li style=\"font-family:Helvica; font-size:20px;\"><b>shape</b> tells you the structure of the array in terms of rows and columns (or higher dimensions).\n",
    "<li style=\"font-family:Helvica; font-size:20px;\"><b>ndim</b> gives the number of dimensions of the array.\n",
    "<li style=\"font-family:Helvica; font-size:20px;\"><b>size</b> tells you how many total elements the array contains.\n",
    "<li style=\"font-family:Helvica; font-size:20px;\"><b>itemsize</b> indicates how much memory each element occupies based on its data type.\n",
    "<p style=\"font-family:Helvica; font-size:20px; \">\n",
    "These attributes allow you to better understand and manage the structure and memory usage of NumPy arrays."
   ]
  },
  {
   "cell_type": "markdown",
   "id": "1a5f6af0-1aaf-4da4-a3a8-3cdc85826fe6",
   "metadata": {},
   "source": [
    "<p style=\"font-family:Helvica; font-size:20px; \">\n",
    "<b>Creating arrays:</b>\n",
    "<p style=\"font-family:Helvica; font-size:20px; \">\n",
    "In NumPy, there are several ways to create arrays, each serving different purposes depending on the data you need. Let’s explore the most commonly used methods: np.array(), np.zeros(), np.ones(), np.arange(), and np.linspace().\n",
    "<p style=\"font-family:Helvica; font-size:20px; \">\n",
    "1.<b> Creating an Array with np.array()</b>\n",
    "<p style=\"font-family:Helvica; font-size:20px; \">\n",
    "np.array() is used to create a NumPy array from a Python list or a list of lists (for multi-dimensional arrays).\n",
    "It can be used with or without specifying the dtype (data type). If not specified, NumPy will infer the data type based on the input.\n",
    "<p style=\"font-family:Helvica; font-size:20px; \">\n",
    "<b>Example:</b>"
   ]
  },
  {
   "cell_type": "code",
   "execution_count": 13,
   "id": "3ae1111a-10cf-43b9-aca5-082c1e0e8d38",
   "metadata": {},
   "outputs": [
    {
     "name": "stdout",
     "output_type": "stream",
     "text": [
      "1D Array: [1 2 3 4]\n",
      "2D Array:\n",
      " [[1 2 3]\n",
      " [4 5 6]]\n",
      "Array with specified dtype (float): [1. 2. 3.]\n"
     ]
    }
   ],
   "source": [
    "import numpy as np\n",
    "\n",
    "# Creating a 1D array from a Python list\n",
    "arr_1d = np.array([1, 2, 3, 4])\n",
    "print(\"1D Array:\", arr_1d)\n",
    "\n",
    "# Creating a 2D array from a list of lists\n",
    "arr_2d = np.array([[1, 2, 3], [4, 5, 6]])\n",
    "print(\"2D Array:\\n\", arr_2d)\n",
    "\n",
    "# Creating an array with a specified data type (float)\n",
    "arr_float = np.array([1, 2, 3], dtype=float)\n",
    "print(\"Array with specified dtype (float):\", arr_float)\n"
   ]
  },
  {
   "cell_type": "markdown",
   "id": "e3aa362d-59c2-4224-8ade-cd439675736c",
   "metadata": {},
   "source": [
    "<p style=\"font-family:Helvica; font-size:20px; \">\n",
    "2.<b> Creating an Array of Zeros with np.zeros()</b>\n",
    "<p style=\"font-family:Helvica; font-size:20px; \">\n",
    "<li style=\"font-family:Helvica; font-size:20px;\">np.zeros() is used to create an array filled with zeros.\n",
    "<li style=\"font-family:Helvica; font-size:20px;\">You can specify the shape of the array (e.g., (3, 4) for a 3x4 array) and optionally the data type.\n",
    "<p style=\"font-family:Helvica; font-size:20px; \">\n",
    "<b>Example:</b>"
   ]
  },
  {
   "cell_type": "code",
   "execution_count": 14,
   "id": "23241a6d-d0bf-4cc0-9462-8aa271b57a0f",
   "metadata": {},
   "outputs": [
    {
     "name": "stdout",
     "output_type": "stream",
     "text": [
      "1D Array of zeros: [0. 0. 0. 0. 0.]\n",
      "2D Array of zeros:\n",
      " [[0. 0. 0. 0.]\n",
      " [0. 0. 0. 0.]\n",
      " [0. 0. 0. 0.]]\n",
      "2D Array of zeros (int):\n",
      " [[0 0]\n",
      " [0 0]]\n"
     ]
    }
   ],
   "source": [
    "# Create a 1D array of zeros\n",
    "arr_zeros_1d = np.zeros(5)\n",
    "print(\"1D Array of zeros:\", arr_zeros_1d)\n",
    "\n",
    "# Create a 2D array of zeros\n",
    "arr_zeros_2d = np.zeros((3, 4))\n",
    "print(\"2D Array of zeros:\\n\", arr_zeros_2d)\n",
    "\n",
    "# Create a 2D array of zeros with specified data type (integer)\n",
    "arr_zeros_int = np.zeros((2, 2), dtype=int)\n",
    "print(\"2D Array of zeros (int):\\n\", arr_zeros_int)"
   ]
  },
  {
   "cell_type": "markdown",
   "id": "eb720bf9-5b5a-4440-81a0-452e93a2f605",
   "metadata": {},
   "source": [
    "<p style=\"font-family:Helvica; font-size:20px; \">\n",
    "3.<b> Creating an Array of Ones with np.ones()</b>\n",
    "<p style=\"font-family:Helvica; font-size:20px; \">\n",
    "<li style=\"font-family:Helvica; font-size:20px;\">np.ones() is similar to np.zeros(), but it creates an array filled with ones.\n",
    "<li style=\"font-family:Helvica; font-size:20px;\">You can specify the shape and data type.\n",
    "<p style=\"font-family:Helvica; font-size:20px; \">\n",
    "    \n",
    "<b>Example:</b>"
   ]
  },
  {
   "cell_type": "code",
   "execution_count": 15,
   "id": "9bf5a9c4-b636-4528-87b4-b21f6ae4ca00",
   "metadata": {},
   "outputs": [
    {
     "name": "stdout",
     "output_type": "stream",
     "text": [
      "1D Array of ones: [1. 1. 1. 1.]\n",
      "2D Array of ones:\n",
      " [[1. 1. 1.]\n",
      " [1. 1. 1.]\n",
      " [1. 1. 1.]]\n",
      "2D Array of ones (int):\n",
      " [[1 1]\n",
      " [1 1]]\n"
     ]
    }
   ],
   "source": [
    "# Create a 1D array of ones\n",
    "arr_ones_1d = np.ones(4)\n",
    "print(\"1D Array of ones:\", arr_ones_1d)\n",
    "\n",
    "# Create a 2D array of ones\n",
    "arr_ones_2d = np.ones((3, 3))\n",
    "print(\"2D Array of ones:\\n\", arr_ones_2d)\n",
    "\n",
    "# Create a 2D array of ones with specified data type (integer)\n",
    "arr_ones_int = np.ones((2, 2), dtype=int)\n",
    "print(\"2D Array of ones (int):\\n\", arr_ones_int)\n"
   ]
  },
  {
   "cell_type": "markdown",
   "id": "e02e8e2e-c0b8-471d-918a-5dcde0665cd6",
   "metadata": {},
   "source": [
    "<p style=\"font-family:Helvica; font-size:20px; \">\n",
    "4.<b> Creating an Array with a Range of Values using np.arange()</b>\n",
    "<p style=\"font-family:Helvica; font-size:20px; \">\n",
    "<li style=\"font-family:Helvica; font-size:20px;\">np.arange() generates an array with evenly spaced values within a specified interval. It works similarly to Python’s built-in range() function but returns a NumPy array.\n",
    "<li style=\"font-family:Helvica; font-size:20px;\">You can specify the start, stop, and step values.\n",
    "<p style=\"font-family:Helvica; font-size:20px; \">\n",
    "    \n",
    "<b>Example:</b>"
   ]
  },
  {
   "cell_type": "code",
   "execution_count": 16,
   "id": "d579bce8-3091-41d4-bc0e-d8816aa5546a",
   "metadata": {
    "scrolled": true
   },
   "outputs": [
    {
     "name": "stdout",
     "output_type": "stream",
     "text": [
      "Array with values from 0 to 9: [0 1 2 3 4 5 6 7 8 9]\n",
      "Array with values from 1 to 9 (step 2): [1 3 5 7 9]\n",
      "Array with float step: [0.  0.2 0.4 0.6 0.8]\n"
     ]
    }
   ],
   "source": [
    "# Create an array from 0 to 9\n",
    "arr_range = np.arange(10)\n",
    "print(\"Array with values from 0 to 9:\", arr_range)\n",
    "\n",
    "# Create an array from 1 to 10 with a step of 2\n",
    "arr_range_step = np.arange(1, 10, 2)\n",
    "print(\"Array with values from 1 to 9 (step 2):\", arr_range_step)\n",
    "\n",
    "# Create an array of floats\n",
    "arr_range_float = np.arange(0, 1, 0.2)\n",
    "print(\"Array with float step:\", arr_range_float)\n"
   ]
  },
  {
   "cell_type": "markdown",
   "id": "c1009c99-f183-4cc4-b143-a1e2e525af88",
   "metadata": {},
   "source": [
    "<p style=\"font-family:Helvica; font-size:20px; \">\n",
    "5.<b> Creating an Array with Evenly Spaced Values using np.linspace()</b>\n",
    "<p style=\"font-family:Helvica; font-size:20px; \">\n",
    "<li style=\"font-family:Helvica; font-size:20px;\">np.linspace() generates an array of evenly spaced numbers over a specified range, but instead of using a step value, you specify the total number of points (num).\n",
    "<li style=\"font-family:Helvica; font-size:20px;\">Useful when you want to divide an interval into equal parts.\n",
    "<p style=\"font-family:Helvica; font-size:20px; \">\n",
    "    \n",
    "<b>Example:</b>"
   ]
  },
  {
   "cell_type": "code",
   "execution_count": 17,
   "id": "11bc7a2e-5077-4f31-a438-07c913159c3d",
   "metadata": {},
   "outputs": [
    {
     "name": "stdout",
     "output_type": "stream",
     "text": [
      "Array with 5 evenly spaced numbers between 0 and 1: [0.   0.25 0.5  0.75 1.  ]\n",
      "Array with 10 evenly spaced numbers between 0 and 10: [ 0.          1.11111111  2.22222222  3.33333333  4.44444444  5.55555556\n",
      "  6.66666667  7.77777778  8.88888889 10.        ]\n",
      "Array without including endpoint: [0.  0.2 0.4 0.6 0.8]\n"
     ]
    }
   ],
   "source": [
    "# Create an array with 5 evenly spaced numbers between 0 and 1\n",
    "arr_linspace = np.linspace(0, 1, 5)\n",
    "print(\"Array with 5 evenly spaced numbers between 0 and 1:\", arr_linspace)\n",
    "\n",
    "# Create an array with 10 evenly spaced numbers between 0 and 10\n",
    "arr_linspace_10 = np.linspace(0, 10, 10)\n",
    "print(\"Array with 10 evenly spaced numbers between 0 and 10:\", arr_linspace_10)\n",
    "\n",
    "# Include the endpoint\n",
    "arr_linspace_endpoint = np.linspace(0, 1, 5, endpoint=False)\n",
    "print(\"Array without including endpoint:\", arr_linspace_endpoint)\n"
   ]
  },
  {
   "cell_type": "markdown",
   "id": "4e1a2c1e-8d5d-488f-8114-dca70a46087f",
   "metadata": {},
   "source": [
    "<p style=\"font-family:Helvica; font-size:20px; \">\n",
    "<b>Key Differences Between np.arange() and np.linspace():</b>\n",
    "<p style=\"font-family:Helvica; font-size:20px; \">\n",
    "<li style=\"font-family:Helvica; font-size:20px;\">np.arange() uses a specified step to create values within the range.\n",
    "<li style=\"font-family:Helvica; font-size:20px;\">np.linspace() allows you to create a specified number of evenly spaced values between a start and an end point.\n",
    "<p style=\"font-family:Helvica; font-size:20px; \">\n",
    "    \n",
    "<b>Summary of Array Creation Methods:</b>\n",
    "<p style=\"font-family:Helvica; font-size:20px; \">\n",
    "<li style=\"font-family:Helvica; font-size:20px;\">np.array(): Creates an array from a list or list of lists (multi-dimensional arrays).\n",
    "<li style=\"font-family:Helvica; font-size:20px;\">np.zeros(): Creates an array filled with zeros of a specified shape.\n",
    "<li style=\"font-family:Helvica; font-size:20px;\">np.ones(): Creates an array filled with ones of a specified shape.\n",
    "<li style=\"font-family:Helvica; font-size:20px;\">np.arange(): Creates an array with evenly spaced values based on a step size.\n",
    "<li style=\"font-family:Helvica; font-size:20px;\">np.linspace(): Creates an array with a specified number of evenly spaced values between two limits.\n",
    "<p style=\"font-family:Helvica; font-size:20px; \">\n",
    "Each method allows you to control the array’s shape, size, and data type, making them powerful tools for initializing data in NumPy."
   ]
  },
  {
   "cell_type": "markdown",
   "id": "9aa4db35-bdcf-4cc5-94e9-7b1363620938",
   "metadata": {},
   "source": [
    "<p style=\"font-family:Helvica; font-size:20px; \">\n",
    "<b>Reshaping arrays:</b>\n",
    "<p style=\"font-family:Helvica; font-size:20px; \">\n",
    "Reshaping arrays in NumPy allows you to change the structure of an array without altering its data. This is particularly useful when you're performing operations that require specific dimensions or when you're organizing data in different shapes. Let's explore three common methods used for reshaping arrays: reshape(), ravel(), and transpose().\n",
    "<p style=\"font-family:Helvica; font-size:20px; \">\n",
    "1.<b> reshape():</b> Changing the Shape of an Array\n",
    "<li style=\"font-family:Helvica; font-size:20px;\">The .reshape() method allows you to change the shape (or dimensions) of an array. You provide the new shape as a tuple, and NumPy will return a new array with that shape, while keeping the same data.\n",
    "<li style=\"font-family:Helvica; font-size:20px;\">The total number of elements must remain the same before and after reshaping (i.e., the product of dimensions before reshaping must equal the product after reshaping).\n",
    "<p style=\"font-family:Helvica; font-size:20px; \">\n",
    "    \n",
    "<b>Example:</b>"
   ]
  },
  {
   "cell_type": "code",
   "execution_count": 18,
   "id": "26c49cd5-76a1-4be6-9af0-b073bb5f9bb5",
   "metadata": {},
   "outputs": [
    {
     "name": "stdout",
     "output_type": "stream",
     "text": [
      "Original array: [1 2 3 4 5 6]\n",
      "Reshaped array (2x3):\n",
      " [[1 2 3]\n",
      " [4 5 6]]\n",
      "Reshaped array (2x1x3):\n",
      " [[[1 2 3]]\n",
      "\n",
      " [[4 5 6]]]\n"
     ]
    }
   ],
   "source": [
    "import numpy as np\n",
    "\n",
    "# Create a 1D array of 6 elements\n",
    "arr = np.array([1, 2, 3, 4, 5, 6])\n",
    "print(\"Original array:\", arr)\n",
    "\n",
    "# Reshape it into a 2D array (2 rows, 3 columns)\n",
    "arr_reshaped = arr.reshape((2, 3))\n",
    "print(\"Reshaped array (2x3):\\n\", arr_reshaped)\n",
    "\n",
    "# Reshape it into a 3D array (2x1x3)\n",
    "arr_reshaped_3d = arr.reshape((2, 1, 3))\n",
    "print(\"Reshaped array (2x1x3):\\n\", arr_reshaped_3d)\n"
   ]
  },
  {
   "cell_type": "markdown",
   "id": "300172e3-607f-440c-bcc3-971e5e8493d1",
   "metadata": {},
   "source": [
    "<p style=\"font-family:Helvica; font-size:20px; \">\n",
    "<li style=\"font-family:Helvica; font-size:20px;\">In the example above, the original 1D array with 6 elements is reshaped into different 2D and 3D arrays.\n",
    "<li style=\"font-family:Helvica; font-size:20px;\">The number of elements remains constant, so reshaping is valid.</li>\n",
    "\n",
    "<p style=\"font-family:Helvica; font-size:20px; \">\n",
    "2.<b> ravel():</b> Flattening an Array\n",
    "<li style=\"font-family:Helvica; font-size:20px;\">The .ravel() method returns a 1D array (a flattened version) of any multidimensional array. It doesn’t modify the original array but returns a new flattened array.</li>\n",
    "<p style=\"font-family:Helvica; font-size:20px; \">\n",
    "<li style=\"font-family:Helvica; font-size:20px;\">It is useful when you need to convert a multi-dimensional array back into a single-dimensional form for certain operations or algorithms.</li>\n",
    "<p style=\"font-family:Helvica; font-size:20px; \">\n",
    "<b>Example:</b>"
   ]
  },
  {
   "cell_type": "code",
   "execution_count": 19,
   "id": "904aa0fa-0e8d-4203-bc38-5d211a22d7ef",
   "metadata": {},
   "outputs": [
    {
     "name": "stdout",
     "output_type": "stream",
     "text": [
      "Original 2D array:\n",
      " [[1 2 3]\n",
      " [4 5 6]]\n",
      "Flattened array: [1 2 3 4 5 6]\n"
     ]
    }
   ],
   "source": [
    "# Create a 2D array\n",
    "arr_2d = np.array([[1, 2, 3], [4, 5, 6]])\n",
    "print(\"Original 2D array:\\n\", arr_2d)\n",
    "\n",
    "# Flatten the array into 1D\n",
    "arr_flattened = arr_2d.ravel()\n",
    "print(\"Flattened array:\", arr_flattened)\n"
   ]
  },
  {
   "cell_type": "markdown",
   "id": "db194f51-eb90-479e-8964-433740a61364",
   "metadata": {},
   "source": [
    "The .ravel() method flattens the 2D array into a 1D array. This is a useful operation when you need to work with the data in a simpler format.\n",
    "3. transpose(): Transposing an Array\n",
    "The .transpose() method swaps the axes of an array. For example, in a 2D array, it swaps the rows with the columns.\n",
    "In a higher-dimensional array, transpose() allows you to rearrange the axes in any order. The general syntax is .transpose(*axes), where you specify the order of the axes you want.\n",
    "Example for 2D array (Matrix):"
   ]
  },
  {
   "cell_type": "code",
   "execution_count": 20,
   "id": "e0daea31-f3a5-4669-b3dd-612566c9f375",
   "metadata": {},
   "outputs": [
    {
     "name": "stdout",
     "output_type": "stream",
     "text": [
      "Original array (3x2):\n",
      " [[1 2]\n",
      " [3 4]\n",
      " [5 6]]\n",
      "Transposed array (2x3):\n",
      " [[1 3 5]\n",
      " [2 4 6]]\n"
     ]
    }
   ],
   "source": [
    "# Create a 2D array (3x2)\n",
    "arr_2d = np.array([[1, 2], [3, 4], [5, 6]])\n",
    "print(\"Original array (3x2):\\n\", arr_2d)\n",
    "\n",
    "# Transpose the array (convert rows to columns and vice versa)\n",
    "arr_transposed = arr_2d.transpose()\n",
    "print(\"Transposed array (2x3):\\n\", arr_transposed)\n"
   ]
  },
  {
   "cell_type": "markdown",
   "id": "b3c9b3aa-f824-4727-8d0d-545ac63a8331",
   "metadata": {},
   "source": [
    "The rows become columns, and the columns become rows after the transpose operation.\n",
    "Example for Higher-Dimensional Arrays:"
   ]
  },
  {
   "cell_type": "code",
   "execution_count": 21,
   "id": "e14a2623-a97d-42ce-9912-24901accd50c",
   "metadata": {},
   "outputs": [
    {
     "name": "stdout",
     "output_type": "stream",
     "text": [
      "Original 3D array:\n",
      " [[[1 2]\n",
      "  [3 4]]\n",
      "\n",
      " [[5 6]\n",
      "  [7 8]]]\n",
      "Transposed 3D array:\n",
      " [[[1 2]\n",
      "  [5 6]]\n",
      "\n",
      " [[3 4]\n",
      "  [7 8]]]\n"
     ]
    }
   ],
   "source": [
    "# Create a 3D array\n",
    "arr_3d = np.array([[[1, 2], [3, 4]], [[5, 6], [7, 8]]])\n",
    "print(\"Original 3D array:\\n\", arr_3d)\n",
    "\n",
    "# Transpose the axes (swap axes 0 and 1)\n",
    "arr_3d_transposed = arr_3d.transpose(1, 0, 2)\n",
    "print(\"Transposed 3D array:\\n\", arr_3d_transposed)\n"
   ]
  },
  {
   "cell_type": "markdown",
   "id": "7a70e33c-eb13-4384-ab7b-405bfd973f22",
   "metadata": {},
   "source": [
    "For the 3D array, transposing axes reorders the dimensions of the array. Here, transpose(1, 0, 2) swaps the first and second dimensions.\n",
    "Summary of Methods:\n",
    "reshape(): Changes the shape of the array. The total number of elements must remain the same.\n",
    "\n",
    "Example: Converting a 1D array into a 2D array.\n",
    "ravel(): Flattens the array into 1D. The original array remains unchanged.\n",
    "\n",
    "Example: Converting a 2D array into a 1D array.\n",
    "transpose(): Swaps the axes of the array. For a 2D array, this swaps rows and columns. For higher dimensions, it allows reordering of the axes.\n",
    "\n",
    "Example: Transposing a matrix or rearranging axes in higher-dimensional arrays.\n",
    "Each of these methods provides flexibility in how you structure and manipulate data in NumPy arrays, allowing you to reshape and reorganize arrays for different computational needs."
   ]
  },
  {
   "cell_type": "markdown",
   "id": "a7b3e55b-e768-4cd1-914b-e1e95327bebe",
   "metadata": {},
   "source": [
    "In NumPy, understanding row-major (C-order) and column-major (Fortran-order) array layouts is important for efficiently handling memory and accessing elements in multi-dimensional arrays. These two memory layouts determine how the elements of an array are stored in memory and accessed when performing operations like flattening, reshaping, or iterating through an array.\n",
    "\n",
    "1. Row-Major (C-Order) Layout\n",
    "In row-major (C-order) layout, the elements of a multi-dimensional array are stored row by row in memory. This means that elements of the first row are stored in consecutive memory locations, followed by the elements of the second row, and so on.\n",
    "\n",
    "This is the default layout in NumPy, influenced by the C programming language, which uses this ordering.\n",
    "\n",
    "2. Column-Major (Fortran-Order) Layout\n",
    "In column-major (Fortran-order) layout, the elements of a multi-dimensional array are stored column by column in memory. Elements of the first column are stored in consecutive memory locations, followed by the elements of the second column, and so on.\n",
    "\n",
    "This layout is used in Fortran, and NumPy supports it as an option for certain operations that need column-wise memory access.\n",
    "\n",
    "Difference in Array Flattening: flatten('C') vs flatten('F')\n",
    "The .flatten() method converts a multi-dimensional array into a 1D array, but the order of elements in the flattened array depends on whether you're using C-order or Fortran-order.\n",
    "\n",
    "flatten('C'): This flattens the array row by row (C-order).\n",
    "flatten('F'): This flattens the array column by column (Fortran-order).\n",
    "Example:"
   ]
  },
  {
   "cell_type": "code",
   "execution_count": 22,
   "id": "e7963b17-0ca8-4988-ac93-f821e61dfe81",
   "metadata": {},
   "outputs": [
    {
     "name": "stdout",
     "output_type": "stream",
     "text": [
      "Original 2D array:\n",
      " [[1 2 3]\n",
      " [4 5 6]]\n",
      "Flattened array (C-order): [1 2 3 4 5 6]\n",
      "Flattened array (F-order): [1 4 2 5 3 6]\n"
     ]
    }
   ],
   "source": [
    "import numpy as np\n",
    "\n",
    "# Create a 2D array\n",
    "arr_2d = np.array([[1, 2, 3], \n",
    "                   [4, 5, 6]])\n",
    "\n",
    "print(\"Original 2D array:\\n\", arr_2d)\n",
    "\n",
    "# Flatten using row-major order ('C')\n",
    "arr_flatten_C = arr_2d.flatten('C')\n",
    "print(\"Flattened array (C-order):\", arr_flatten_C)\n",
    "\n",
    "# Flatten using column-major order ('F')\n",
    "arr_flatten_F = arr_2d.flatten('F')\n",
    "print(\"Flattened array (F-order):\", arr_flatten_F)\n"
   ]
  },
  {
   "cell_type": "markdown",
   "id": "cb987c47-8bb3-4d9c-9056-29d874df75c0",
   "metadata": {},
   "source": [
    "In C-order ('C'):\n",
    "\n",
    "The array is flattened row by row.\n",
    "The first row [1, 2, 3] is flattened first, followed by the second row [4, 5, 6], resulting in [1, 2, 3, 4, 5, 6].\n",
    "In Fortran-order ('F'):\n",
    "\n",
    "The array is flattened column by column.\n",
    "The first column [1, 4] is flattened first, followed by the second column [2, 5], and finally the third column [3, 6], resulting in [1, 4, 2, 5, 3, 6].\n",
    "3. Memory Layout in Reshaping Arrays\n",
    "When you reshape arrays, the memory layout (C-order vs. Fortran-order) also affects how elements are rearranged.\n",
    "\n",
    "Example:"
   ]
  },
  {
   "cell_type": "code",
   "execution_count": 23,
   "id": "65040738-1c84-4927-aae9-402c937cdab7",
   "metadata": {},
   "outputs": [
    {
     "name": "stdout",
     "output_type": "stream",
     "text": [
      "Reshaped array (C-order):\n",
      " [[1 2 3]\n",
      " [4 5 6]]\n",
      "Reshaped array (F-order):\n",
      " [[1 3 5]\n",
      " [2 4 6]]\n"
     ]
    }
   ],
   "source": [
    "# Create a 1D array with 6 elements\n",
    "arr_1d = np.array([1, 2, 3, 4, 5, 6])\n",
    "\n",
    "# Reshape it into a 2x3 array using C-order (default)\n",
    "arr_reshaped_C = arr_1d.reshape((2, 3), order='C')\n",
    "print(\"Reshaped array (C-order):\\n\", arr_reshaped_C)\n",
    "\n",
    "# Reshape it into a 2x3 array using Fortran-order\n",
    "arr_reshaped_F = arr_1d.reshape((2, 3), order='F')\n",
    "print(\"Reshaped array (F-order):\\n\", arr_reshaped_F)\n"
   ]
  },
  {
   "cell_type": "markdown",
   "id": "50179c77-7a45-40a1-8e94-677d4c27e08d",
   "metadata": {},
   "source": [
    "In C-order reshaping: Elements are filled row by row. [1, 2, 3] fills the first row, and [4, 5, 6] fills the second row.\n",
    "In Fortran-order reshaping: Elements are filled column by column. [1, 3, 5] fills the first column, and [2, 4, 6] fills the second column.\n",
    "When to Use C-order vs. Fortran-order?\n",
    "C-order is the default in NumPy and is efficient when you need to access data row by row or when working with C-based languages or libraries.\n",
    "Fortran-order is useful when you need to access data column by column or when working with Fortran-based languages or libraries that expect column-major layout.\n",
    "Summary of Key Points:\n",
    "Row-major (C-order):\n",
    "\n",
    "Elements are stored row by row.\n",
    "Default in NumPy (flatten('C')).\n",
    "Example for a 2D array: [1, 2, 3, 4, 5, 6].\n",
    "Column-major (Fortran-order):\n",
    "\n",
    "Elements are stored column by column.\n",
    "Use when you want column-wise access (flatten('F')).\n",
    "Example for a 2D array: [1, 4, 2, 5, 3, 6].\n",
    "Choosing between the two depends on the problem at hand and the expected memory access patterns."
   ]
  },
  {
   "cell_type": "markdown",
   "id": "cd8caf5c-ff54-44ff-ab94-6a2fcdc29503",
   "metadata": {},
   "source": [
    "In NumPy, element-wise operations (addition, subtraction, multiplication, and division) allow for straightforward arithmetic between arrays. Similarly, the dot product (matrix multiplication) provides a powerful way to perform matrix calculations. Here's how each of these operations works:\n",
    "\n",
    "1. Element-wise Addition\n",
    "Element-wise addition adds corresponding elements from two arrays. The arrays must have the same shape, or they must be broadcastable to the same shape (NumPy handles broadcasting automatically).\n",
    "\n",
    "Example:"
   ]
  },
  {
   "cell_type": "code",
   "execution_count": 24,
   "id": "56e5f125-efb8-420e-ab2d-8fa94c34069b",
   "metadata": {},
   "outputs": [
    {
     "name": "stdout",
     "output_type": "stream",
     "text": [
      "Element-wise addition: [5 7 9]\n"
     ]
    }
   ],
   "source": [
    "import numpy as np\n",
    "\n",
    "# Create two arrays of the same shape\n",
    "arr1 = np.array([1, 2, 3])\n",
    "arr2 = np.array([4, 5, 6])\n",
    "\n",
    "# Element-wise addition\n",
    "arr_sum = arr1 + arr2\n",
    "print(\"Element-wise addition:\", arr_sum)\n"
   ]
  },
  {
   "cell_type": "markdown",
   "id": "e52139f7-5565-4393-9e17-6d8a78f4a853",
   "metadata": {},
   "source": [
    "2. Element-wise Subtraction\n",
    "Element-wise subtraction subtracts corresponding elements from two arrays.\n",
    "\n",
    "Example:"
   ]
  },
  {
   "cell_type": "code",
   "execution_count": 25,
   "id": "11501adf-3c82-4b84-b4cc-8397abc2da20",
   "metadata": {},
   "outputs": [
    {
     "name": "stdout",
     "output_type": "stream",
     "text": [
      "Element-wise subtraction: [-3 -3 -3]\n"
     ]
    }
   ],
   "source": [
    "# Element-wise subtraction\n",
    "arr_diff = arr1 - arr2\n",
    "print(\"Element-wise subtraction:\", arr_diff)\n"
   ]
  },
  {
   "cell_type": "markdown",
   "id": "d6c90a04-d27b-4e27-aed4-710965835785",
   "metadata": {},
   "source": [
    "3. Element-wise Multiplication\n",
    "Element-wise multiplication multiplies corresponding elements from two arrays.\n",
    "\n",
    "Example:"
   ]
  },
  {
   "cell_type": "code",
   "execution_count": 26,
   "id": "ba7dce7e-0dce-40d2-9ffc-16622173292d",
   "metadata": {},
   "outputs": [
    {
     "name": "stdout",
     "output_type": "stream",
     "text": [
      "Element-wise multiplication: [ 4 10 18]\n"
     ]
    }
   ],
   "source": [
    "# Element-wise multiplication\n",
    "arr_prod = arr1 * arr2\n",
    "print(\"Element-wise multiplication:\", arr_prod)\n"
   ]
  },
  {
   "cell_type": "markdown",
   "id": "97bbc9d9-f792-41ba-80d9-d3b0f73836f5",
   "metadata": {},
   "source": [
    "4. Element-wise Division\n",
    "Element-wise division divides corresponding elements from two arrays.\n",
    "\n",
    "Example:"
   ]
  },
  {
   "cell_type": "code",
   "execution_count": 27,
   "id": "f036cf4f-ae86-47a1-8ddf-349061194319",
   "metadata": {},
   "outputs": [
    {
     "name": "stdout",
     "output_type": "stream",
     "text": [
      "Element-wise division: [0.25 0.4  0.5 ]\n"
     ]
    }
   ],
   "source": [
    "# Element-wise division\n",
    "arr_div = arr1 / arr2\n",
    "print(\"Element-wise division:\", arr_div)\n"
   ]
  },
  {
   "cell_type": "markdown",
   "id": "b44ab896-955f-4dca-ab3b-1c7532096472",
   "metadata": {},
   "source": [
    "5. Dot Product\n",
    "The dot product is different from element-wise multiplication. For 1D arrays, the dot product is the sum of the products of corresponding elements. For 2D arrays (matrices), it’s the matrix multiplication. NumPy provides the np.dot() function or the @ operator for performing the dot product.\n",
    "\n",
    "Example: Dot Product for 1D Arrays"
   ]
  },
  {
   "cell_type": "code",
   "execution_count": 28,
   "id": "88917176-e766-41e9-b23a-5ad7c245aa10",
   "metadata": {},
   "outputs": [
    {
     "name": "stdout",
     "output_type": "stream",
     "text": [
      "Dot product (1D arrays): 32\n"
     ]
    }
   ],
   "source": [
    "# Dot product for 1D arrays\n",
    "arr1 = np.array([1, 2, 3])\n",
    "arr2 = np.array([4, 5, 6])\n",
    "\n",
    "dot_product_1d = np.dot(arr1, arr2)\n",
    "# Alternatively: dot_product_1d = arr1 @ arr2\n",
    "print(\"Dot product (1D arrays):\", dot_product_1d)\n"
   ]
  },
  {
   "cell_type": "markdown",
   "id": "dbd21f94-4003-433a-a3c8-c17a0a9e9043",
   "metadata": {},
   "source": [
    "The calculation is: 1*4 + 2*5 + 3*6 = 4 + 10 + 18 = 32.\n",
    "Example: Dot Product for 2D Arrays (Matrix Multiplication)"
   ]
  },
  {
   "cell_type": "code",
   "execution_count": 29,
   "id": "79018b04-610b-4dbc-9649-746c90ea1d9a",
   "metadata": {},
   "outputs": [
    {
     "name": "stdout",
     "output_type": "stream",
     "text": [
      "Dot product (2D arrays):\n",
      " [[19 22]\n",
      " [43 50]]\n"
     ]
    }
   ],
   "source": [
    "# Create two 2D arrays\n",
    "matrix1 = np.array([[1, 2],\n",
    "                    [3, 4]])\n",
    "\n",
    "matrix2 = np.array([[5, 6],\n",
    "                    [7, 8]])\n",
    "\n",
    "# Dot product (matrix multiplication)\n",
    "dot_product_2d = np.dot(matrix1, matrix2)\n",
    "# Alternatively: dot_product_2d = matrix1 @ matrix2\n",
    "print(\"Dot product (2D arrays):\\n\", dot_product_2d)\n"
   ]
  },
  {
   "cell_type": "markdown",
   "id": "56b6b9f7-06e1-4d75-b067-558d15c8eda6",
   "metadata": {},
   "source": [
    "he dot product for matrices is the matrix multiplication, where each element is calculated by taking the dot product of corresponding row and column vectors.\n",
    "Summary:\n",
    "Element-wise Operations:\n",
    "Addition: arr1 + arr2\n",
    "Subtraction: arr1 - arr2\n",
    "Multiplication: arr1 * arr2\n",
    "Division: arr1 / arr2\n",
    "Dot Product:\n",
    "For 1D arrays: np.dot(arr1, arr2) or arr1 @ arr2\n",
    "For 2D arrays (matrices): np.dot(matrix1, matrix2) or matrix1 @ matrix2\n",
    "These operations are very efficient in NumPy due to its use of vectorized operations, which bypass the need for explicit loops and allow for faster computation."
   ]
  },
  {
   "cell_type": "markdown",
   "id": "9f368f49-cbe4-4ee8-ac72-fd8b5d1f43f7",
   "metadata": {},
   "source": [
    "In NumPy, the np.random module provides a variety of functions for generating random numbers. Some of the most commonly used functions are np.random.rand(), np.random.randn(), and np.random.randint(). These functions are helpful when you need random data for simulations, testing, or machine learning applications. Setting a random seed ensures reproducibility, meaning you get the same set of random numbers each time you run your code.\n",
    "\n",
    "1. np.random.rand()\n",
    "This function generates random numbers from a uniform distribution between 0 and 1. It can generate numbers for any specified shape.\n",
    "\n",
    "Uniform distribution: All values between 0 and 1 are equally likely to appear.\n",
    "Example:"
   ]
  },
  {
   "cell_type": "code",
   "execution_count": 30,
   "id": "d6026d06-7fd2-4097-8ae1-245882d04a10",
   "metadata": {},
   "outputs": [
    {
     "name": "stdout",
     "output_type": "stream",
     "text": [
      "Single random number (0 to 1): 0.21878827439907156\n",
      "Random 2x3 array (0 to 1):\n",
      " [[0.89967316 0.59031202 0.80343667]\n",
      " [0.84675496 0.71131508 0.15498198]]\n"
     ]
    }
   ],
   "source": [
    "import numpy as np\n",
    "\n",
    "# Generate a single random number between 0 and 1\n",
    "rand_num = np.random.rand()\n",
    "print(\"Single random number (0 to 1):\", rand_num)\n",
    "\n",
    "# Generate a 2x3 array of random numbers between 0 and 1\n",
    "rand_array = np.random.rand(2, 3)\n",
    "print(\"Random 2x3 array (0 to 1):\\n\", rand_array)\n"
   ]
  },
  {
   "cell_type": "markdown",
   "id": "e9616824-53bf-4052-b035-665fb89a3883",
   "metadata": {},
   "source": [
    " np.random.randn()\n",
    "This function generates random numbers from a standard normal distribution (Gaussian distribution) with a mean of 0 and a standard deviation of 1.\n",
    "\n",
    "Normal distribution: Numbers cluster around the mean (0), with fewer values appearing as you move away from the center.\n",
    "Example:"
   ]
  },
  {
   "cell_type": "code",
   "execution_count": 31,
   "id": "7a443fac-7ad8-4c28-b16c-c3465c980847",
   "metadata": {},
   "outputs": [
    {
     "name": "stdout",
     "output_type": "stream",
     "text": [
      "Single random number (mean=0, std=1): -1.6260407233071796\n",
      "Random 2x3 array (mean=0, std=1):\n",
      " [[ 0.27783605 -0.98974012 -0.18527881]\n",
      " [-1.56083175  0.95054691  1.12460845]]\n"
     ]
    }
   ],
   "source": [
    "# Generate a single random number from a standard normal distribution\n",
    "randn_num = np.random.randn()\n",
    "print(\"Single random number (mean=0, std=1):\", randn_num)\n",
    "\n",
    "# Generate a 2x3 array of random numbers from a standard normal distribution\n",
    "randn_array = np.random.randn(2, 3)\n",
    "print(\"Random 2x3 array (mean=0, std=1):\\n\", randn_array)\n"
   ]
  },
  {
   "cell_type": "markdown",
   "id": "3136f318-4514-4064-93b7-cc3b91dcd11a",
   "metadata": {},
   "source": [
    ". np.random.randint()\n",
    "This function generates random integers within a specified range. You can specify the lower bound (inclusive) and upper bound (exclusive), as well as the shape of the output array.\n",
    "\n",
    "Example:"
   ]
  },
  {
   "cell_type": "code",
   "execution_count": 33,
   "id": "949d257a-a74f-4019-9090-289340cc5a07",
   "metadata": {},
   "outputs": [
    {
     "name": "stdout",
     "output_type": "stream",
     "text": [
      "Random integer (0 to 10): 9\n",
      "Random 2x3 array (10 to 50):\n",
      " [[42 31 39]\n",
      " [18 15 35]]\n"
     ]
    }
   ],
   "source": [
    "# Generate a single random integer between 0 and 10 (exclusive)\n",
    "rand_int = np.random.randint(0, 10)\n",
    "print(\"Random integer (0 to 10):\", rand_int)\n",
    "\n",
    "# Generate a 2x3 array of random integers between 10 and 50 (exclusive)\n",
    "randint_array = np.random.randint(10, 50, size=(2, 3))\n",
    "print(\"Random 2x3 array (10 to 50):\\n\", randint_array)\n"
   ]
  },
  {
   "cell_type": "markdown",
   "id": "3f57aa6f-8326-4b17-8879-b575d309dc86",
   "metadata": {},
   "source": [
    "4. Setting a Seed for Reproducibility\n",
    "Random number generators in NumPy are pseudo-random, meaning they use a deterministic algorithm. By setting a seed using np.random.seed(), you can make the random number generator produce the same sequence of numbers each time the code is run.\n",
    "\n",
    "This is very important when testing or sharing code because it allows for consistent, reproducible results.\n",
    "\n",
    "Example:"
   ]
  },
  {
   "cell_type": "code",
   "execution_count": 34,
   "id": "01414dfb-4885-4723-a316-83dbf9a22787",
   "metadata": {},
   "outputs": [
    {
     "name": "stdout",
     "output_type": "stream",
     "text": [
      "Random array with seed set:\n",
      " [[0.37454012 0.95071431 0.73199394]\n",
      " [0.59865848 0.15601864 0.15599452]]\n",
      "Random array with same seed (reproducible):\n",
      " [[0.37454012 0.95071431 0.73199394]\n",
      " [0.59865848 0.15601864 0.15599452]]\n"
     ]
    }
   ],
   "source": [
    "# Set a seed for reproducibility\n",
    "np.random.seed(42)\n",
    "\n",
    "# Generate random numbers with seed set\n",
    "seeded_rand_array = np.random.rand(2, 3)\n",
    "print(\"Random array with seed set:\\n\", seeded_rand_array)\n",
    "\n",
    "# Resetting the seed to get the same random numbers\n",
    "np.random.seed(42)\n",
    "seeded_rand_array_again = np.random.rand(2, 3)\n",
    "print(\"Random array with same seed (reproducible):\\n\", seeded_rand_array_again)\n"
   ]
  },
  {
   "cell_type": "markdown",
   "id": "cc4cf93c-8b9d-4e4f-a453-8263229fbda5",
   "metadata": {},
   "source": [
    "The seed ensures that the random numbers generated are the same each time, even after restarting the code or sharing it with others.\n",
    "Summary of Random Functions:\n",
    "np.random.rand():\n",
    "\n",
    "Generates random numbers between 0 and 1 (uniform distribution).\n",
    "Example: np.random.rand(2, 3) generates a 2x3 array of random numbers between 0 and 1.\n",
    "np.random.randn():\n",
    "\n",
    "Generates random numbers from a standard normal distribution (mean=0, std=1).\n",
    "Example: np.random.randn(2, 3) generates a 2x3 array of normally distributed random numbers.\n",
    "np.random.randint():\n",
    "\n",
    "Generates random integers between a specified range.\n",
    "Example: np.random.randint(10, 50, size=(2, 3)) generates a 2x3 array of random integers between 10 and 50.\n",
    "np.random.seed():\n",
    "\n",
    "Sets the seed for the random number generator, ensuring reproducibility.\n",
    "Example: np.random.seed(42) ensures that the same random numbers are generated each time the code is run.\n",
    "Setting the seed is crucial when you want consistent and reproducible random data, especially in scenarios like testing or machine learning experiments."
   ]
  },
  {
   "cell_type": "markdown",
   "id": "1ae4c7a3-0b80-43ef-842a-e2ebba710955",
   "metadata": {},
   "source": [
    "Indexing and slicing are essential tools when working with NumPy arrays. They allow you to access and manipulate specific elements, rows, columns, or subarrays of your data. NumPy follows zero-based indexing (the first element is at index 0), and you can work with arrays of any dimension (1D, 2D, or higher-dimensional arrays).\n",
    "\n",
    "1. Indexing and Slicing for 1D Arrays\n",
    "A 1D array is similar to a list in Python. You can use basic indexing to access single elements and slicing to access ranges of elements.\n",
    "\n",
    "Example:"
   ]
  },
  {
   "cell_type": "code",
   "execution_count": 35,
   "id": "7a908318-726b-464a-946b-b4302ab7fe46",
   "metadata": {},
   "outputs": [
    {
     "name": "stdout",
     "output_type": "stream",
     "text": [
      "First element: 10\n",
      "Last element: 50\n",
      "Sliced array (1:4): [20 30 40]\n",
      "Every other element: [10 30 50]\n"
     ]
    }
   ],
   "source": [
    "import numpy as np\n",
    "\n",
    "# Create a 1D array\n",
    "arr_1d = np.array([10, 20, 30, 40, 50])\n",
    "\n",
    "# Indexing: Access the first element (index 0)\n",
    "print(\"First element:\", arr_1d[0])\n",
    "\n",
    "# Indexing: Access the last element\n",
    "print(\"Last element:\", arr_1d[-1])\n",
    "\n",
    "# Slicing: Access elements from index 1 to 3 (excluding 4)\n",
    "print(\"Sliced array (1:4):\", arr_1d[1:4])\n",
    "\n",
    "# Slicing: Access every other element\n",
    "print(\"Every other element:\", arr_1d[::2])\n"
   ]
  },
  {
   "cell_type": "markdown",
   "id": "578baaf7-ebf0-4cf2-9f87-d2d070ef0e8b",
   "metadata": {},
   "source": [
    "arr_1d[0]: Accesses the first element.\n",
    "arr_1d[-1]: Accesses the last element.\n",
    "arr_1d[1:4]: Accesses elements from index 1 to 3 (excluding 4).\n",
    "arr_1d[::2]: Accesses every second element.\n",
    "2. Indexing and Slicing for 2D Arrays\n",
    "A 2D array (matrix) is like a table of rows and columns. Indexing and slicing allow you to access specific rows, columns, or individual elements.\n",
    "\n",
    "Example:"
   ]
  },
  {
   "cell_type": "code",
   "execution_count": 36,
   "id": "0d75785c-c172-44c8-9cb4-c9774b2b5aa7",
   "metadata": {},
   "outputs": [
    {
     "name": "stdout",
     "output_type": "stream",
     "text": [
      "Element at (1, 2): 6\n",
      "First row: [1 2 3]\n",
      "Second column: [2 5 8]\n",
      "Top-left 2x2 subarray:\n",
      " [[1 2]\n",
      " [4 5]]\n"
     ]
    }
   ],
   "source": [
    "# Create a 2D array (matrix)\n",
    "arr_2d = np.array([[1, 2, 3],\n",
    "                   [4, 5, 6],\n",
    "                   [7, 8, 9]])\n",
    "\n",
    "# Indexing: Access the element at row 1, column 2\n",
    "print(\"Element at (1, 2):\", arr_2d[1, 2])\n",
    "\n",
    "# Slicing: Access the first row\n",
    "print(\"First row:\", arr_2d[0, :])\n",
    "\n",
    "# Slicing: Access the second column\n",
    "print(\"Second column:\", arr_2d[:, 1])\n",
    "\n",
    "# Slicing: Access a subarray (top-left 2x2)\n",
    "print(\"Top-left 2x2 subarray:\\n\", arr_2d[0:2, 0:2])\n"
   ]
  },
  {
   "cell_type": "markdown",
   "id": "9e656782-57ae-459e-a812-a34e256997a9",
   "metadata": {},
   "source": [
    "arr_2d[1, 2]: Accesses the element in the second row, third column (index 1, 2).\n",
    "arr_2d[0, :]: Accesses the entire first row (index 0).\n",
    "arr_2d[:, 1]: Accesses the entire second column (index 1).\n",
    "arr_2d[0:2, 0:2]: Accesses a 2x2 subarray (rows 0 to 1, columns 0 to 1).\n",
    "3. Indexing and Slicing for Higher-Dimensional Arrays\n",
    "Higher-dimensional arrays are extensions of 2D arrays, with additional axes. Indexing and slicing work similarly but require specifying the index for each axis.\n",
    "\n",
    "Example: 3D Array"
   ]
  },
  {
   "cell_type": "code",
   "execution_count": 37,
   "id": "0e77314d-664b-4326-bc18-4ce2a2b147bc",
   "metadata": {},
   "outputs": [
    {
     "name": "stdout",
     "output_type": "stream",
     "text": [
      "Element at (0, 1, 2): 6\n",
      "First 2D slice (depth 0):\n",
      " [[1 2 3]\n",
      " [4 5 6]\n",
      " [7 8 9]]\n",
      "Second row from both 2D slices:\n",
      " [[ 4  5  6]\n",
      " [13 14 15]]\n",
      "Third column from both 2D slices:\n",
      " [[ 3  6  9]\n",
      " [12 15 18]]\n"
     ]
    }
   ],
   "source": [
    "# Create a 3D array (shape: 2x3x3)\n",
    "arr_3d = np.array([[[1, 2, 3],\n",
    "                    [4, 5, 6],\n",
    "                    [7, 8, 9]],\n",
    "                   \n",
    "                   [[10, 11, 12],\n",
    "                    [13, 14, 15],\n",
    "                    [16, 17, 18]]])\n",
    "\n",
    "# Indexing: Access the element at depth 0, row 1, column 2\n",
    "print(\"Element at (0, 1, 2):\", arr_3d[0, 1, 2])\n",
    "\n",
    "# Slicing: Access the first 2x3 slice (depth 0)\n",
    "print(\"First 2D slice (depth 0):\\n\", arr_3d[0, :, :])\n",
    "\n",
    "# Slicing: Access the second row of both 2D slices\n",
    "print(\"Second row from both 2D slices:\\n\", arr_3d[:, 1, :])\n",
    "\n",
    "# Slicing: Access all elements in the third column of both slices\n",
    "print(\"Third column from both 2D slices:\\n\", arr_3d[:, :, 2])\n"
   ]
  },
  {
   "cell_type": "markdown",
   "id": "1c864027-d2d1-4aae-82b3-02dc262582f8",
   "metadata": {},
   "source": [
    "arr_3d[0, 1, 2]: Accesses the element at depth 0, row 1, column 2.\n",
    "arr_3d[0, :, :]: Accesses the first 2D slice (all rows and columns of depth 0).\n",
    "arr_3d[:, 1, :]: Accesses the second row from both 2D slices.\n",
    "arr_3d[:, :, 2]: Accesses the third column from both 2D slices.\n",
    "Slicing Rules\n",
    ":: Means \"all elements\" along that dimension.\n",
    "start:end: Specifies a range of indices (start inclusive, end exclusive).\n",
    "start:end:step: Specifies a range with a step size (e.g., ::2 means every other element).\n",
    "Negative indices: Access elements from the end (e.g., -1 is the last element).\n",
    "Summary of Key Points:\n",
    "1D Arrays:\n",
    "\n",
    "Use indexing to access single elements (e.g., arr[0]).\n",
    "Use slicing to access ranges of elements (e.g., arr[1:4]).\n",
    "2D Arrays:\n",
    "\n",
    "Use arr[row, column] to access a specific element.\n",
    "Use arr[row_start:row_end, col_start:col_end] for subarrays.\n",
    "Use : to access entire rows or columns.\n",
    "Higher-Dimensional Arrays:\n",
    "\n",
    "Extend the same indexing and slicing principles, specifying an index for each dimension.\n",
    "Slicing can be done on multiple axes simultaneously.\n",
    "With these tools, you can extract specific data from arrays efficiently and perform more complex operations."
   ]
  },
  {
   "cell_type": "markdown",
   "id": "f9842d24-d523-46d7-8aa6-f2efd9c469e8",
   "metadata": {},
   "source": [
    "Fancy Indexing and Boolean Masking in NumPy\n",
    "Fancy indexing and boolean masking are advanced techniques in NumPy that allow you to select specific elements, rows, or columns of an array based on conditions or indices. These techniques are extremely useful for working with large datasets efficiently.\n",
    "\n",
    "1. Fancy Indexing\n",
    "Fancy indexing allows you to select multiple elements from a NumPy array using a list or array of indices. It can be used to extract specific elements from arrays in a flexible way.\n",
    "\n",
    "Example 1: Fancy Indexing with 1D Arrays\n",
    "You can pass a list or array of index positions to extract multiple elements from a 1D array."
   ]
  },
  {
   "cell_type": "code",
   "execution_count": 38,
   "id": "cf04686a-21e7-4ff8-8c13-40bf2ab319ca",
   "metadata": {},
   "outputs": [
    {
     "name": "stdout",
     "output_type": "stream",
     "text": [
      "Fancy indexed 1D array: [10 30 50]\n"
     ]
    }
   ],
   "source": [
    "import numpy as np\n",
    "\n",
    "# Create a 1D array\n",
    "arr_1d = np.array([10, 20, 30, 40, 50])\n",
    "\n",
    "# Fancy indexing: Select elements at indices 0, 2, and 4\n",
    "fancy_indexed = arr_1d[[0, 2, 4]]\n",
    "print(\"Fancy indexed 1D array:\", fancy_indexed)\n"
   ]
  },
  {
   "cell_type": "markdown",
   "id": "d413892d-cd69-4cec-a7d6-75686752ae87",
   "metadata": {},
   "source": [
    "Example 2: Fancy Indexing with 2D Arrays\n",
    "Fancy indexing also works with 2D arrays. You can select specific rows, columns, or elements based on index lists."
   ]
  },
  {
   "cell_type": "code",
   "execution_count": 39,
   "id": "6b808dc1-afde-40f6-bd73-d1f43b00e6e9",
   "metadata": {},
   "outputs": [
    {
     "name": "stdout",
     "output_type": "stream",
     "text": [
      "Fancy indexed rows:\n",
      " [[1 2 3]\n",
      " [7 8 9]]\n",
      "Fancy indexed columns:\n",
      " [[2 3]\n",
      " [5 6]\n",
      " [8 9]]\n",
      "Fancy indexed specific elements: [3 4]\n"
     ]
    }
   ],
   "source": [
    "# Create a 2D array\n",
    "arr_2d = np.array([[1, 2, 3],\n",
    "                   [4, 5, 6],\n",
    "                   [7, 8, 9]])\n",
    "\n",
    "# Fancy indexing: Select rows at index positions 0 and 2\n",
    "fancy_indexed_rows = arr_2d[[0, 2], :]\n",
    "print(\"Fancy indexed rows:\\n\", fancy_indexed_rows)\n",
    "\n",
    "# Fancy indexing: Select columns at index positions 1 and 2\n",
    "fancy_indexed_cols = arr_2d[:, [1, 2]]\n",
    "print(\"Fancy indexed columns:\\n\", fancy_indexed_cols)\n",
    "\n",
    "# Fancy indexing: Select specific elements using row and column indices\n",
    "fancy_specific = arr_2d[[0, 1], [2, 0]]  # Select (0,2) and (1,0)\n",
    "print(\"Fancy indexed specific elements:\", fancy_specific)\n"
   ]
  },
  {
   "cell_type": "markdown",
   "id": "b24a50f5-638a-4ae3-aa28-d3bd02bcc4dc",
   "metadata": {},
   "source": [
    "2. Boolean Masking\n",
    "Boolean masking allows you to filter elements in an array based on a condition. This is very useful for selecting or modifying parts of an array that meet certain criteria.\n",
    "\n",
    "Example 1: Boolean Masking with 1D Arrays\n",
    "You can apply a condition to an array to generate a boolean mask, which is then used to filter the array."
   ]
  },
  {
   "cell_type": "code",
   "execution_count": 40,
   "id": "92e753b1-7069-45d5-8223-74b1f2b2f5ec",
   "metadata": {},
   "outputs": [
    {
     "name": "stdout",
     "output_type": "stream",
     "text": [
      "Boolean mask: [False False  True  True  True]\n",
      "Filtered array (elements > 25): [30 40 50]\n"
     ]
    }
   ],
   "source": [
    "# Create a 1D array\n",
    "arr_1d = np.array([10, 20, 30, 40, 50])\n",
    "\n",
    "# Create a boolean mask for elements greater than 25\n",
    "mask = arr_1d > 25\n",
    "print(\"Boolean mask:\", mask)\n",
    "\n",
    "# Use the boolean mask to filter the array\n",
    "filtered_array = arr_1d[mask]\n",
    "print(\"Filtered array (elements > 25):\", filtered_array)\n"
   ]
  },
  {
   "cell_type": "markdown",
   "id": "9bd182d2-c9a0-41a6-b65d-ac3053fe5673",
   "metadata": {},
   "source": [
    "Example 2: Boolean Masking with 2D Arrays\n",
    "Boolean masking also works with 2D arrays. The mask will filter elements across the entire array."
   ]
  },
  {
   "cell_type": "code",
   "execution_count": 41,
   "id": "875cadc8-9261-43cb-adc2-0ae49322ddf2",
   "metadata": {},
   "outputs": [
    {
     "name": "stdout",
     "output_type": "stream",
     "text": [
      "Boolean mask:\n",
      " [[False False False]\n",
      " [False False  True]\n",
      " [ True  True  True]]\n",
      "Filtered array (elements > 5): [6 7 8 9]\n"
     ]
    }
   ],
   "source": [
    "# Create a 2D array\n",
    "arr_2d = np.array([[1, 2, 3],\n",
    "                   [4, 5, 6],\n",
    "                   [7, 8, 9]])\n",
    "\n",
    "# Create a boolean mask for elements greater than 5\n",
    "mask = arr_2d > 5\n",
    "print(\"Boolean mask:\\n\", mask)\n",
    "\n",
    "# Use the boolean mask to filter the array\n",
    "filtered_array_2d = arr_2d[mask]\n",
    "print(\"Filtered array (elements > 5):\", filtered_array_2d)\n"
   ]
  },
  {
   "cell_type": "markdown",
   "id": "9de60906-b30d-4542-b018-e3c36cf4c728",
   "metadata": {},
   "source": [
    "3. Combining Fancy Indexing and Boolean Masking\n",
    "You can combine fancy indexing and boolean masking for more complex selections and modifications. For example, you can apply a boolean mask, and then use fancy indexing to reorder or manipulate the filtered data.\n",
    "\n",
    "Example: Combining Fancy Indexing and Boolean Masking"
   ]
  },
  {
   "cell_type": "code",
   "execution_count": 42,
   "id": "a6f9c0da-1b97-4908-991a-f8ccff7bb95c",
   "metadata": {},
   "outputs": [
    {
     "name": "stdout",
     "output_type": "stream",
     "text": [
      "Filtered and reordered: [40 30]\n"
     ]
    }
   ],
   "source": [
    "# Create a 1D array\n",
    "arr = np.array([10, 20, 30, 40, 50])\n",
    "\n",
    "# Create a boolean mask for elements greater than 25\n",
    "mask = arr > 25\n",
    "\n",
    "# Filter the array and then use fancy indexing to reorder the result\n",
    "filtered_and_reordered = arr[mask][[1, 0]]\n",
    "print(\"Filtered and reordered:\", filtered_and_reordered)\n"
   ]
  },
  {
   "cell_type": "markdown",
   "id": "2dc4ab91-e9ea-4c8b-b327-a1e94a309cae",
   "metadata": {},
   "source": [
    "4. Modifying Arrays Using Fancy Indexing and Boolean Masking\n",
    "Both techniques can also be used to modify arrays. You can change the values of specific elements in an array based on their indices or based on conditions.\n",
    "\n",
    "Example: Modifying Arrays Using Fancy Indexing"
   ]
  },
  {
   "cell_type": "code",
   "execution_count": 43,
   "id": "b35eade8-09c1-4d06-bd9a-31c5f90e33ae",
   "metadata": {},
   "outputs": [
    {
     "name": "stdout",
     "output_type": "stream",
     "text": [
      "Modified array: [100  20 300  40  50]\n"
     ]
    }
   ],
   "source": [
    "# Create a 1D array\n",
    "arr = np.array([10, 20, 30, 40, 50])\n",
    "\n",
    "# Modify elements at index 0 and 2\n",
    "arr[[0, 2]] = [100, 300]\n",
    "print(\"Modified array:\", arr)\n"
   ]
  },
  {
   "cell_type": "markdown",
   "id": "6ff2e3dd-3d79-4c17-9559-583cfbefddb1",
   "metadata": {},
   "source": [
    "Example: Modifying Arrays Using Boolean Masking"
   ]
  },
  {
   "cell_type": "code",
   "execution_count": 44,
   "id": "ab0ed23a-47ba-4ea3-80ee-8ac8c8b43408",
   "metadata": {},
   "outputs": [
    {
     "name": "stdout",
     "output_type": "stream",
     "text": [
      "Modified array (elements > 30 set to -1): [10 20 30 -1 -1]\n"
     ]
    }
   ],
   "source": [
    "# Create a 1D array\n",
    "arr = np.array([10, 20, 30, 40, 50])\n",
    "\n",
    "# Create a boolean mask for elements greater than 30\n",
    "mask = arr > 30\n",
    "\n",
    "# Modify elements that meet the condition\n",
    "arr[mask] = -1\n",
    "print(\"Modified array (elements > 30 set to -1):\", arr)\n"
   ]
  },
  {
   "cell_type": "markdown",
   "id": "2c6fe566-01f4-4ab3-a019-22a92b88e958",
   "metadata": {},
   "source": [
    "Summary of Fancy Indexing and Boolean Masking\n",
    "Fancy Indexing:\n",
    "\n",
    "Select specific elements, rows, or columns using arrays or lists of indices.\n",
    "Works for both 1D and multi-dimensional arrays.\n",
    "Example: arr[[0, 2, 4]] selects elements at indices 0, 2, and 4.\n",
    "Boolean Masking:\n",
    "\n",
    "Use conditions to create a boolean array (mask) and filter elements.\n",
    "Modify or access parts of arrays that meet a certain condition.\n",
    "Example: arr[arr > 30] filters elements greater than 30.\n",
    "Modifying Arrays:\n",
    "\n",
    "You can change elements in arrays using fancy indexing or boolean masking.\n",
    "Example: arr[arr > 30] = -1 sets all elements greater than 30 to -1.\n",
    "Both techniques are extremely powerful for working efficiently with large datasets, allowing you to filter, reorder, and modify arrays with minimal code."
   ]
  },
  {
   "cell_type": "markdown",
   "id": "aceaf707-ddbc-4cc7-b18d-862f85775756",
   "metadata": {},
   "source": [
    "Advanced Indexing Techniques in NumPy\n",
    "Advanced indexing techniques in NumPy help you manipulate the shape and structure of arrays in more sophisticated ways. Two commonly used techniques are np.newaxis for adding dimensions and the Ellipsis (...) for complex slicing.\n",
    "\n",
    "1. Using np.newaxis for Adding Dimensions\n",
    "np.newaxis is used to increase the dimensions of an existing array by inserting a new axis. It is essentially a way to reshape an array without changing its data, allowing for operations that require specific dimensional compatibility.\n",
    "\n",
    "How np.newaxis Works\n",
    "By inserting np.newaxis into the array’s slicing syntax, you can add an axis of length 1 to the array.\n",
    "It changes the shape of the array from, say, a 1D array to a 2D array or from 2D to 3D.\n",
    "Example 1: Adding a New Dimension to a 1D Array"
   ]
  },
  {
   "cell_type": "code",
   "execution_count": 45,
   "id": "f4ead18e-a172-4945-8db1-8a8da45ceb5d",
   "metadata": {},
   "outputs": [
    {
     "name": "stdout",
     "output_type": "stream",
     "text": [
      "2D Row vector shape: (1, 3)\n",
      "[[1 2 3]]\n",
      "2D Column vector shape: (3, 1)\n",
      "[[1]\n",
      " [2]\n",
      " [3]]\n"
     ]
    }
   ],
   "source": [
    "import numpy as np\n",
    "\n",
    "# Create a 1D array\n",
    "arr_1d = np.array([1, 2, 3])\n",
    "\n",
    "# Add a new axis to create a 2D row vector\n",
    "arr_row_vector = arr_1d[np.newaxis, :]\n",
    "print(\"2D Row vector shape:\", arr_row_vector.shape)\n",
    "print(arr_row_vector)\n",
    "\n",
    "# Add a new axis to create a 2D column vector\n",
    "arr_col_vector = arr_1d[:, np.newaxis]\n",
    "print(\"2D Column vector shape:\", arr_col_vector.shape)\n",
    "print(arr_col_vector)\n"
   ]
  },
  {
   "cell_type": "markdown",
   "id": "8af3fe54-6901-43f4-b828-7493624b0d31",
   "metadata": {},
   "source": [
    "arr_1d[np.newaxis, :]: Adds a new axis at position 0, transforming the 1D array into a 2D row vector.\n",
    "arr_1d[:, np.newaxis]: Adds a new axis at position 1, transforming the 1D array into a 2D column vector.\n",
    "Example 2: Adding Multiple New Axes\n",
    "You can use np.newaxis multiple times to increase the dimensionality of an array as needed."
   ]
  },
  {
   "cell_type": "code",
   "execution_count": 46,
   "id": "4f691b7b-9924-4bfe-ad97-3b6d5061ba06",
   "metadata": {},
   "outputs": [
    {
     "name": "stdout",
     "output_type": "stream",
     "text": [
      "3D array shape: (1, 3, 1)\n",
      "[[[1]\n",
      "  [2]\n",
      "  [3]]]\n"
     ]
    }
   ],
   "source": [
    "# Create a 1D array\n",
    "arr_1d = np.array([1, 2, 3])\n",
    "\n",
    "# Add two new axes (transforming into a 3D array)\n",
    "arr_3d = arr_1d[np.newaxis, :, np.newaxis]\n",
    "print(\"3D array shape:\", arr_3d.shape)\n",
    "print(arr_3d)\n"
   ]
  },
  {
   "cell_type": "markdown",
   "id": "cb83aa4f-113e-40af-9d48-56fbd56883cf",
   "metadata": {},
   "source": [
    "Here, the shape changes from (3,) to (1, 3, 1) with two new axes added.\n",
    "\n",
    "2. Using Ellipsis (...) for More Complex Slicing\n",
    "The Ellipsis (...) object in NumPy is used in advanced slicing to represent as many : operators as needed to complete the full slicing operation. It’s particularly useful for slicing higher-dimensional arrays where you don't want to specify each dimension explicitly.\n",
    "\n",
    "How Ellipsis Works\n",
    "Ellipsis acts as a placeholder for all unspecified dimensions. This can be used in any array, regardless of the number of dimensions.\n",
    "It is equivalent to filling in : for every missing dimension.\n",
    "Example 1: Slicing 3D Arrays with Ellipsis\n",
    "Imagine you have a 3D array (shape: 2x3x3). Instead of specifying all dimensions explicitly, Ellipsis can help you simplify the syntax."
   ]
  },
  {
   "cell_type": "code",
   "execution_count": 47,
   "id": "e1598cf8-b230-45a1-a3c4-9fe753947383",
   "metadata": {},
   "outputs": [
    {
     "name": "stdout",
     "output_type": "stream",
     "text": [
      "Last elements from each row:\n",
      " [[ 3  6  9]\n",
      " [12 15 18]]\n"
     ]
    }
   ],
   "source": [
    "# Create a 3D array\n",
    "arr_3d = np.array([[[1, 2, 3], \n",
    "                    [4, 5, 6], \n",
    "                    [7, 8, 9]], \n",
    "                    \n",
    "                   [[10, 11, 12], \n",
    "                    [13, 14, 15], \n",
    "                    [16, 17, 18]]])\n",
    "\n",
    "# Slicing the last element from each row of the last matrix (simplified using Ellipsis)\n",
    "last_elements = arr_3d[..., 2]\n",
    "print(\"Last elements from each row:\\n\", last_elements)\n"
   ]
  },
  {
   "cell_type": "markdown",
   "id": "7835c2b1-be2c-4d5d-9a5f-c5181b2ebf65",
   "metadata": {},
   "source": [
    "arr_3d[..., 2]: The Ellipsis replaces all preceding dimensions, meaning “select the last column (index 2) from all rows and all 2D slices.” It simplifies slicing across complex axes.\n",
    "Example 2: Using Ellipsis with Higher-Dimensional Arrays\n",
    "If you have a higher-dimensional array (4D, 5D, etc.), using Ellipsis can greatly simplify your code."
   ]
  },
  {
   "cell_type": "code",
   "execution_count": 48,
   "id": "94155f86-572d-47b6-9f07-507ebf986998",
   "metadata": {},
   "outputs": [
    {
     "name": "stdout",
     "output_type": "stream",
     "text": [
      "Sliced array (first element, all rows, all columns, first inner element):\n",
      " [[7 3]\n",
      " [7 5]\n",
      " [1 5]]\n"
     ]
    }
   ],
   "source": [
    "# Create a 4D array (shape: 2x3x2x2)\n",
    "arr_4d = np.random.randint(0, 10, size=(2, 3, 2, 2))\n",
    "\n",
    "# Use Ellipsis to slice all elements in the last two dimensions for the first element of the first axis\n",
    "sliced_4d = arr_4d[0, ..., 0]\n",
    "print(\"Sliced array (first element, all rows, all columns, first inner element):\\n\", sliced_4d)\n"
   ]
  },
  {
   "cell_type": "markdown",
   "id": "f845027f-e299-4d93-bb9c-3db8302f4723",
   "metadata": {},
   "source": [
    "Here, Ellipsis stands in for all middle dimensions, allowing a concise and intuitive way to slice higher-dimensional arrays.\n",
    "\n",
    "Practical Applications of np.newaxis and Ellipsis\n",
    "Broadcasting with np.newaxis:\n",
    "\n",
    "You can use np.newaxis to align arrays of different shapes for broadcasting. For example, it can help add a vector to each row or column of a matrix."
   ]
  },
  {
   "cell_type": "code",
   "execution_count": 49,
   "id": "6c0dcbf8-59c6-49e3-a3c8-b5f95f951fa2",
   "metadata": {},
   "outputs": [
    {
     "name": "stdout",
     "output_type": "stream",
     "text": [
      "[[11 22]\n",
      " [13 24]\n",
      " [15 26]]\n"
     ]
    }
   ],
   "source": [
    "arr_2d = np.array([[1, 2], [3, 4], [5, 6]])\n",
    "vector = np.array([10, 20])\n",
    "\n",
    "# Broadcasting the vector to add it to each row\n",
    "result = arr_2d + vector[np.newaxis, :]\n",
    "print(result)\n"
   ]
  },
  {
   "cell_type": "markdown",
   "id": "a9bcf5be-04ee-4ace-9528-eca9a74c4c0f",
   "metadata": {},
   "source": [
    "This will add [10, 20] to each row of the 2D array.\n",
    "\n",
    "Ellipsis for Quick Access:\n",
    "\n",
    "Ellipsis is especially useful when working with image data (or other high-dimensional data), where each dimension represents something different (e.g., height, width, color channels)."
   ]
  },
  {
   "cell_type": "code",
   "execution_count": 50,
   "id": "a50ef29f-f689-4ede-9b54-97e522f493f2",
   "metadata": {},
   "outputs": [
    {
     "name": "stdout",
     "output_type": "stream",
     "text": [
      "(64, 64)\n"
     ]
    }
   ],
   "source": [
    "# Example: Image data with shape (batch, height, width, channels)\n",
    "image_batch = np.random.randint(0, 255, (10, 64, 64, 3))  # Batch of 10 images (64x64, 3 channels)\n",
    "\n",
    "# Select the red channel of the first image\n",
    "red_channel = image_batch[0, ..., 0]  # All rows, all columns, and the first color channel\n",
    "print(red_channel.shape)  # (64, 64)\n"
   ]
  },
  {
   "cell_type": "markdown",
   "id": "ce48f628-aaa1-429f-b717-dc9447e85fdd",
   "metadata": {},
   "source": [
    "Summary\n",
    "np.newaxis:\n",
    "\n",
    "Used to add new dimensions to an array. This is especially useful for reshaping or aligning arrays for broadcasting.\n",
    "Example: arr[:, np.newaxis] adds a new dimension, turning a 1D array into a column vector.\n",
    "Ellipsis (...):\n",
    "\n",
    "Serves as a shortcut in complex slicing, standing for multiple : operators in a slice.\n",
    "Example: arr[..., 2] simplifies the selection of a specific axis across all others in a multi-dimensional array.\n",
    "Both np.newaxis and Ellipsis are powerful tools for manipulating array shapes and efficiently accessing array data, particularly in higher dimensions."
   ]
  },
  {
   "cell_type": "markdown",
   "id": "a1442055-f147-44e8-84ec-4e40643d1390",
   "metadata": {},
   "source": [
    "Concept of Broadcasting in NumPy\n",
    "Broadcasting in NumPy allows you to perform element-wise operations on arrays of different shapes without the need to explicitly reshape them. It simplifies the code and makes computations efficient by automatically expanding smaller arrays to match the shape of larger ones, enabling vectorized operations without duplicating data.\n",
    "\n",
    "Broadcasting Rules\n",
    "For broadcasting to work, NumPy compares the shapes of the arrays element-wise from right to left. Two dimensions are considered compatible if:\n",
    "\n",
    "They are equal, or\n",
    "One of them is 1 (which means it can be stretched or \"broadcast\" to match the other).\n",
    "If the above conditions are not met, a ValueError will occur because the arrays cannot be broadcast together.\n",
    "\n",
    "Example 1: Basic Broadcasting with Scalar and Array\n",
    "When you perform an operation between a scalar and an array, the scalar is \"broadcast\" to the shape of the array."
   ]
  },
  {
   "cell_type": "code",
   "execution_count": 51,
   "id": "50a525e7-6fcf-423a-8c66-8fa7089845d2",
   "metadata": {},
   "outputs": [
    {
     "name": "stdout",
     "output_type": "stream",
     "text": [
      "Result of scalar addition:\n",
      " [[11 12 13]\n",
      " [14 15 16]]\n"
     ]
    }
   ],
   "source": [
    "import numpy as np\n",
    "\n",
    "# Create a 2D array (matrix)\n",
    "arr_2d = np.array([[1, 2, 3],\n",
    "                   [4, 5, 6]])\n",
    "\n",
    "# Scalar addition (scalar 10 is broadcast to the shape of arr_2d)\n",
    "result = arr_2d + 10\n",
    "print(\"Result of scalar addition:\\n\", result)\n"
   ]
  },
  {
   "cell_type": "markdown",
   "id": "79522bc1-d746-42e1-bf21-cee420cf318a",
   "metadata": {},
   "source": [
    "Here, the scalar 10 is broadcast to each element of the 2D array and added element-wise.\n",
    "\n",
    "Example 2: Broadcasting between Arrays of Different Shapes\n",
    "If you have two arrays of different shapes, NumPy will try to apply broadcasting according to the rules."
   ]
  },
  {
   "cell_type": "code",
   "execution_count": 52,
   "id": "5ec9c832-85c3-4a3f-a0a5-910eed7615c4",
   "metadata": {},
   "outputs": [
    {
     "name": "stdout",
     "output_type": "stream",
     "text": [
      "Result of array addition:\n",
      " [[11 22 33]\n",
      " [14 25 36]]\n"
     ]
    }
   ],
   "source": [
    "# Create a 2D array\n",
    "arr_2d = np.array([[1, 2, 3],\n",
    "                   [4, 5, 6]])\n",
    "\n",
    "# Create a 1D array (vector)\n",
    "arr_1d = np.array([10, 20, 30])\n",
    "\n",
    "# Element-wise addition: arr_1d is broadcast to match the shape of arr_2d\n",
    "result = arr_2d + arr_1d\n",
    "print(\"Result of array addition:\\n\", result)\n"
   ]
  },
  {
   "cell_type": "markdown",
   "id": "1566fe93-8796-4c6f-93f9-41e25a7fdb84",
   "metadata": {},
   "source": [
    "In this case:\n",
    "\n",
    "The shape of arr_2d is (2, 3) (a 2x3 matrix).\n",
    "The shape of arr_1d is (3,) (a 1D array with 3 elements).\n",
    "The 1D array is broadcast along the rows of the 2D array, and element-wise addition is performed.\n",
    "Explanation:\n",
    "arr_1d has shape (3,), which is compatible with the second dimension of arr_2d (which also has size 3).\n",
    "NumPy implicitly stretches arr_1d to [[10, 20, 30], [10, 20, 30]] to match the shape of arr_2d for element-wise addition."
   ]
  },
  {
   "cell_type": "markdown",
   "id": "d28a50e7-86ef-4209-92cd-0ce3c4395914",
   "metadata": {},
   "source": [
    "Example 3: Broadcasting across Multiple Dimensions\n",
    "Let's explore how broadcasting works when the arrays differ in more than one dimension."
   ]
  },
  {
   "cell_type": "code",
   "execution_count": 53,
   "id": "502d13f1-b37b-4378-93ce-d39d657f74e2",
   "metadata": {},
   "outputs": [
    {
     "name": "stdout",
     "output_type": "stream",
     "text": [
      "Result of broadcasting across rows:\n",
      " [[ 1  4  9]\n",
      " [ 4 10 18]\n",
      " [ 7 16 27]]\n"
     ]
    }
   ],
   "source": [
    "# Create a 2D array (shape: 3x3)\n",
    "arr_2d = np.array([[1, 2, 3],\n",
    "                   [4, 5, 6],\n",
    "                   [7, 8, 9]])\n",
    "\n",
    "# Create a 1D array (shape: 3,)\n",
    "arr_1d = np.array([1, 2, 3])\n",
    "\n",
    "# Element-wise multiplication\n",
    "result = arr_2d * arr_1d\n",
    "print(\"Result of broadcasting across rows:\\n\", result)\n"
   ]
  },
  {
   "cell_type": "markdown",
   "id": "cdb7e6e0-69b8-4f47-afd1-61ef9492e7f5",
   "metadata": {},
   "source": [
    "In this example:\n",
    "\n",
    "The 1D array is broadcast along the rows of the 2D array. This effectively means that each row of the 2D array is multiplied element-wise by the 1D array.\n",
    "Example 4: Broadcasting across Higher Dimensions\n",
    "Broadcasting works across arrays with more than two dimensions as well. Let's look at how a 1D array can be broadcast over a 3D array."
   ]
  },
  {
   "cell_type": "code",
   "execution_count": 54,
   "id": "7da36777-1a87-4dda-bdf4-98c323e8d16c",
   "metadata": {},
   "outputs": [
    {
     "name": "stdout",
     "output_type": "stream",
     "text": [
      "Result of broadcasting across 3D array:\n",
      " [[[ 1  4  9]\n",
      "  [ 4 10 18]\n",
      "  [ 7 16 27]]\n",
      "\n",
      " [[10 22 36]\n",
      "  [13 28 45]\n",
      "  [16 34 54]]]\n"
     ]
    }
   ],
   "source": [
    "# Create a 3D array (2 blocks of 3x3 matrices)\n",
    "arr_3d = np.array([[[1, 2, 3],\n",
    "                    [4, 5, 6],\n",
    "                    [7, 8, 9]],\n",
    "\n",
    "                   [[10, 11, 12],\n",
    "                    [13, 14, 15],\n",
    "                    [16, 17, 18]]])\n",
    "\n",
    "# Create a 1D array (shape: 3,)\n",
    "arr_1d = np.array([1, 2, 3])\n",
    "\n",
    "# Broadcasting over the last dimension (columns)\n",
    "result = arr_3d * arr_1d\n",
    "print(\"Result of broadcasting across 3D array:\\n\", result)\n"
   ]
  },
  {
   "cell_type": "markdown",
   "id": "0f7edf6e-1a5c-4ac6-9558-b63688a5d30d",
   "metadata": {},
   "source": [
    "Here:\n",
    "\n",
    "The 1D array is broadcast along the last dimension (the columns) of the 3D array, and element-wise multiplication is performed for each block of the matrix.\n",
    "Explanation of How Broadcasting Works\n",
    "Let's break down how broadcasting reshapes arrays to make them compatible for operations:\n",
    "\n",
    "1. Shape Alignment\n",
    "When NumPy broadcasts arrays, it works by first aligning the shapes of the arrays starting from the rightmost dimensions and working to the left. It does this by following these rules:\n",
    "\n",
    "If the dimensions match, they are compatible.\n",
    "If one of the dimensions is 1, it can be stretched to match the other dimension.\n",
    "If neither of the above is true, broadcasting is not possible, and an error will occur.\n",
    "Example: Matching Shapes\n",
    "Consider these two arrays:\n",
    "\n",
    "Array A: shape (3, 2, 4)\n",
    "Array B: shape (1, 2, 1)\n",
    "Compare dimensions from right to left:\n",
    "For the third dimension: 4 and 1 → 1 is broadcast to 4.\n",
    "For the second dimension: 2 and 2 → These match.\n",
    "For the first dimension: 3 and 1 → 1 is broadcast to 3.\n",
    "The final broadcast shape will be (3, 2, 4).\n",
    "\n",
    "Example 5: Non-Broadcastable Arrays (Error Case)\n",
    "If the shapes of the arrays are not compatible, NumPy will raise a ValueError."
   ]
  },
  {
   "cell_type": "code",
   "execution_count": 55,
   "id": "5bc0501b-ac85-40ff-9e00-84d3c45921c9",
   "metadata": {},
   "outputs": [
    {
     "name": "stdout",
     "output_type": "stream",
     "text": [
      "Error: operands could not be broadcast together with shapes (2,3) (2,) \n"
     ]
    }
   ],
   "source": [
    "# Create two arrays with incompatible shapes\n",
    "arr_2d = np.array([[1, 2, 3],\n",
    "                   [4, 5, 6]])\n",
    "\n",
    "arr_1d = np.array([1, 2])\n",
    "\n",
    "# Try to perform element-wise addition (this will cause an error)\n",
    "try:\n",
    "    result = arr_2d + arr_1d\n",
    "except ValueError as e:\n",
    "    print(\"Error:\", e)\n"
   ]
  },
  {
   "cell_type": "markdown",
   "id": "c5307903-9404-4df9-9a21-748a85d1a3b5",
   "metadata": {},
   "source": [
    "In this case, the shapes (2, 3) and (2,) are not compatible for broadcasting because the trailing dimensions (3 and 2) don't match, and neither is 1.\n",
    "\n",
    "Advantages of Broadcasting\n",
    "Efficiency: Broadcasting avoids making copies of arrays, reducing memory usage and improving computational performance.\n",
    "Concise Code: It allows you to write simpler and more readable code by eliminating the need for loops or manual reshaping.\n",
    "Vectorized Operations: Broadcasting enables vectorized operations (element-wise operations without explicit loops), which is much faster than using Python loops.\n",
    "Summary of Broadcasting\n",
    "Broadcasting allows NumPy to perform operations between arrays of different shapes by automatically expanding smaller arrays.\n",
    "Rules for Broadcasting:\n",
    "The dimensions are compatible if they are equal or one of them is 1.\n",
    "If the dimensions don’t match and none is 1, a ValueError will occur.\n",
    "Broadcasting enables efficient and concise element-wise operations without needing to reshape arrays manually.\n",
    "By understanding broadcasting, you can take full advantage of NumPy's power and optimize performance when working with arrays of various shapes."
   ]
  },
  {
   "cell_type": "markdown",
   "id": "7bcc9fc0-70ec-49de-99d3-60dd76c3a799",
   "metadata": {},
   "source": [
    "Array Math with NumPy: Aggregation Functions\n",
    "NumPy provides several built-in aggregation functions that allow you to perform mathematical operations on arrays efficiently. These functions can operate on entire arrays, or along specific axes (rows, columns, etc.), making them versatile for data analysis tasks.\n",
    "\n",
    "Let’s explore some of the most common aggregation functions in NumPy:\n",
    "\n",
    "1. np.sum(): Sum of Array Elements\n",
    "np.sum() computes the sum of all elements in an array. You can also specify the axis along which to sum.\n",
    "Example:"
   ]
  },
  {
   "cell_type": "code",
   "execution_count": 56,
   "id": "e27aa7f8-ba6e-45f6-b3b0-51c0e8f5c283",
   "metadata": {},
   "outputs": [
    {
     "name": "stdout",
     "output_type": "stream",
     "text": [
      "Total sum: 21\n",
      "Sum along columns: [5 7 9]\n",
      "Sum along rows: [ 6 15]\n"
     ]
    }
   ],
   "source": [
    "import numpy as np\n",
    "\n",
    "# Create a 2D array\n",
    "arr = np.array([[1, 2, 3],\n",
    "                [4, 5, 6]])\n",
    "\n",
    "# Sum all elements\n",
    "total_sum = np.sum(arr)\n",
    "print(\"Total sum:\", total_sum)\n",
    "\n",
    "# Sum along columns (axis=0)\n",
    "sum_columns = np.sum(arr, axis=0)\n",
    "print(\"Sum along columns:\", sum_columns)\n",
    "\n",
    "# Sum along rows (axis=1)\n",
    "sum_rows = np.sum(arr, axis=1)\n",
    "print(\"Sum along rows:\", sum_rows)\n"
   ]
  },
  {
   "cell_type": "markdown",
   "id": "a61326ef-9271-4ade-9e97-e906a27884ac",
   "metadata": {},
   "source": [
    "np.mean(): Mean (Average) of Array Elements\n",
    "np.mean() computes the arithmetic mean (average) of array elements. You can calculate the mean of the entire array or along a specific axis.\n",
    "Example:\n"
   ]
  },
  {
   "cell_type": "code",
   "execution_count": 57,
   "id": "d2d75078-6300-4888-ac02-f849376f4bf3",
   "metadata": {},
   "outputs": [
    {
     "name": "stdout",
     "output_type": "stream",
     "text": [
      "Mean of all elements: 3.5\n",
      "Mean along columns: [2.5 3.5 4.5]\n",
      "Mean along rows: [2. 5.]\n"
     ]
    }
   ],
   "source": [
    "# Mean of all elements\n",
    "mean_all = np.mean(arr)\n",
    "print(\"Mean of all elements:\", mean_all)\n",
    "\n",
    "# Mean along columns (axis=0)\n",
    "mean_columns = np.mean(arr, axis=0)\n",
    "print(\"Mean along columns:\", mean_columns)\n",
    "\n",
    "# Mean along rows (axis=1)\n",
    "mean_rows = np.mean(arr, axis=1)\n",
    "print(\"Mean along rows:\", mean_rows)\n"
   ]
  },
  {
   "cell_type": "markdown",
   "id": "46fbcbea-5859-4499-9dcc-5041219d4b1d",
   "metadata": {},
   "source": [
    " np.std(): Standard Deviation\n",
    "np.std() calculates the standard deviation, a measure of how spread out the values are around the mean. A low standard deviation means that values are closer to the mean, while a high standard deviation means values are more spread out.\n",
    "Example:"
   ]
  },
  {
   "cell_type": "code",
   "execution_count": 58,
   "id": "cb5a7d9b-9138-46b1-9279-aa2fcb4314c4",
   "metadata": {},
   "outputs": [
    {
     "name": "stdout",
     "output_type": "stream",
     "text": [
      "Standard deviation of all elements: 1.707825127659933\n",
      "Standard deviation along columns: [1.5 1.5 1.5]\n",
      "Standard deviation along rows: [0.81649658 0.81649658]\n"
     ]
    }
   ],
   "source": [
    "# Standard deviation of all elements\n",
    "std_all = np.std(arr)\n",
    "print(\"Standard deviation of all elements:\", std_all)\n",
    "\n",
    "# Standard deviation along columns (axis=0)\n",
    "std_columns = np.std(arr, axis=0)\n",
    "print(\"Standard deviation along columns:\", std_columns)\n",
    "\n",
    "# Standard deviation along rows (axis=1)\n",
    "std_rows = np.std(arr, axis=1)\n",
    "print(\"Standard deviation along rows:\", std_rows)\n"
   ]
  },
  {
   "cell_type": "markdown",
   "id": "a87845b4-54c7-4a6e-8a2b-18e696cfdb98",
   "metadata": {},
   "source": [
    "np.min(): Minimum Value\n",
    "np.min() finds the minimum value in an array. You can also find the minimum value along a specific axis.\n",
    "Example:"
   ]
  },
  {
   "cell_type": "code",
   "execution_count": 59,
   "id": "a702b78f-1c79-4421-8e53-2fd4390a2ef0",
   "metadata": {},
   "outputs": [
    {
     "name": "stdout",
     "output_type": "stream",
     "text": [
      "Minimum value: 1\n",
      "Minimum along columns: [1 2 3]\n",
      "Minimum along rows: [1 4]\n"
     ]
    }
   ],
   "source": [
    "# Minimum value of all elements\n",
    "min_value = np.min(arr)\n",
    "print(\"Minimum value:\", min_value)\n",
    "\n",
    "# Minimum value along columns (axis=0)\n",
    "min_columns = np.min(arr, axis=0)\n",
    "print(\"Minimum along columns:\", min_columns)\n",
    "\n",
    "# Minimum value along rows (axis=1)\n",
    "min_rows = np.min(arr, axis=1)\n",
    "print(\"Minimum along rows:\", min_rows)\n"
   ]
  },
  {
   "cell_type": "markdown",
   "id": "23335190-9263-4ff9-b5c9-3e59caeea8be",
   "metadata": {},
   "source": [
    " np.max(): Maximum Value\n",
    "np.max() returns the maximum value in the array. It can also compute the maximum along specific axes.\n",
    "Example:"
   ]
  },
  {
   "cell_type": "code",
   "execution_count": 61,
   "id": "92dff325-b633-40c4-aec3-e4427046cd4d",
   "metadata": {},
   "outputs": [
    {
     "name": "stdout",
     "output_type": "stream",
     "text": [
      "Maximum value: 6\n",
      "Maximum along columns: [4 5 6]\n",
      "Maximum along rows: [3 6]\n"
     ]
    }
   ],
   "source": [
    "# Maximum value of all elements\n",
    "max_value = np.max(arr)\n",
    "print(\"Maximum value:\", max_value)\n",
    "\n",
    "# Maximum value along columns (axis=0)\n",
    "max_columns = np.max(arr, axis=0)\n",
    "print(\"Maximum along columns:\", max_columns)\n",
    "\n",
    "# Maximum value along rows (axis=1)\n",
    "max_rows = np.max(arr, axis=1)\n",
    "print(\"Maximum along rows:\", max_rows)\n"
   ]
  },
  {
   "cell_type": "markdown",
   "id": "b8985e4a-1941-4ac9-ac24-db2905836ef6",
   "metadata": {},
   "source": [
    "np.prod(): Product of Array Elements\n",
    "np.prod() calculates the product of all elements in the array. You can specify an axis if needed.\n",
    "Example:"
   ]
  },
  {
   "cell_type": "code",
   "execution_count": 62,
   "id": "1dac668e-ebc1-4804-8399-3c4a3033dcb8",
   "metadata": {},
   "outputs": [
    {
     "name": "stdout",
     "output_type": "stream",
     "text": [
      "Product of all elements: 720\n",
      "Product along columns: [ 4 10 18]\n",
      "Product along rows: [  6 120]\n"
     ]
    }
   ],
   "source": [
    "# Product of all elements\n",
    "prod_all = np.prod(arr)\n",
    "print(\"Product of all elements:\", prod_all)\n",
    "\n",
    "# Product along columns (axis=0)\n",
    "prod_columns = np.prod(arr, axis=0)\n",
    "print(\"Product along columns:\", prod_columns)\n",
    "\n",
    "# Product along rows (axis=1)\n",
    "prod_rows = np.prod(arr, axis=1)\n",
    "print(\"Product along rows:\", prod_rows)\n"
   ]
  },
  {
   "cell_type": "markdown",
   "id": "77424d30-022d-4e84-adb4-902ce04c0c0b",
   "metadata": {},
   "source": [
    "7. np.argmin() and np.argmax(): Indices of Minimum and Maximum Values\n",
    "np.argmin() returns the index of the minimum value in the array.\n",
    "np.argmax() returns the index of the maximum value in the array.\n",
    "Example:"
   ]
  },
  {
   "cell_type": "code",
   "execution_count": 63,
   "id": "b5aec82b-eabf-494d-8c15-7c3e4079d989",
   "metadata": {},
   "outputs": [
    {
     "name": "stdout",
     "output_type": "stream",
     "text": [
      "Index of minimum value: 0\n",
      "Index of maximum value: 5\n"
     ]
    }
   ],
   "source": [
    "# Index of minimum value\n",
    "argmin_value = np.argmin(arr)\n",
    "print(\"Index of minimum value:\", argmin_value)\n",
    "\n",
    "# Index of maximum value\n",
    "argmax_value = np.argmax(arr)\n",
    "print(\"Index of maximum value:\", argmax_value)\n"
   ]
  },
  {
   "cell_type": "markdown",
   "id": "6981658e-2503-4552-bef2-0c9fbd0b936c",
   "metadata": {},
   "source": [
    "These functions return the flattened index by default, but you can use the axis argument to get indices along a specific axis.\n",
    "\n",
    "8. np.cumsum(): Cumulative Sum\n",
    "np.cumsum() returns the cumulative sum of elements along a given axis.\n",
    "Example:"
   ]
  },
  {
   "cell_type": "code",
   "execution_count": 64,
   "id": "5e11ef13-461e-4822-b104-de400dc42dcd",
   "metadata": {},
   "outputs": [
    {
     "name": "stdout",
     "output_type": "stream",
     "text": [
      "Cumulative sum of all elements: [ 1  3  6 10 15 21]\n",
      "Cumulative sum along columns:\n",
      " [[1 2 3]\n",
      " [5 7 9]]\n",
      "Cumulative sum along rows:\n",
      " [[ 1  3  6]\n",
      " [ 4  9 15]]\n"
     ]
    }
   ],
   "source": [
    "# Cumulative sum of all elements\n",
    "cumsum_all = np.cumsum(arr)\n",
    "print(\"Cumulative sum of all elements:\", cumsum_all)\n",
    "\n",
    "# Cumulative sum along columns (axis=0)\n",
    "cumsum_columns = np.cumsum(arr, axis=0)\n",
    "print(\"Cumulative sum along columns:\\n\", cumsum_columns)\n",
    "\n",
    "# Cumulative sum along rows (axis=1)\n",
    "cumsum_rows = np.cumsum(arr, axis=1)\n",
    "print(\"Cumulative sum along rows:\\n\", cumsum_rows)\n"
   ]
  },
  {
   "cell_type": "markdown",
   "id": "d174cd96-07ff-4769-be96-f6d345560934",
   "metadata": {},
   "source": [
    "9. np.cumprod(): Cumulative Product\n",
    "np.cumprod() returns the cumulative product of elements along a given axis.\n",
    "Example:"
   ]
  },
  {
   "cell_type": "code",
   "execution_count": 65,
   "id": "50022a2d-fd3e-482d-bd2c-c5177e77ad59",
   "metadata": {},
   "outputs": [
    {
     "name": "stdout",
     "output_type": "stream",
     "text": [
      "Cumulative product of all elements: [  1   2   6  24 120 720]\n",
      "Cumulative product along columns:\n",
      " [[ 1  2  3]\n",
      " [ 4 10 18]]\n",
      "Cumulative product along rows:\n",
      " [[  1   2   6]\n",
      " [  4  20 120]]\n"
     ]
    }
   ],
   "source": [
    "# Cumulative product of all elements\n",
    "cumprod_all = np.cumprod(arr)\n",
    "print(\"Cumulative product of all elements:\", cumprod_all)\n",
    "\n",
    "# Cumulative product along columns (axis=0)\n",
    "cumprod_columns = np.cumprod(arr, axis=0)\n",
    "print(\"Cumulative product along columns:\\n\", cumprod_columns)\n",
    "\n",
    "# Cumulative product along rows (axis=1)\n",
    "cumprod_rows = np.cumprod(arr, axis=1)\n",
    "print(\"Cumulative product along rows:\\n\", cumprod_rows)\n"
   ]
  },
  {
   "cell_type": "markdown",
   "id": "4f7cb2e3-51fa-4550-b2c0-bceb65505131",
   "metadata": {},
   "source": [
    "Summary of Aggregation Functions:\n",
    "np.sum(): Sum of elements (can specify axis).\n",
    "np.mean(): Mean of elements.\n",
    "np.std(): Standard deviation of elements.\n",
    "np.min() / np.max(): Minimum and maximum values.\n",
    "np.prod(): Product of elements.\n",
    "np.argmin() / np.argmax(): Indices of minimum and maximum values.\n",
    "np.cumsum(): Cumulative sum.\n",
    "np.cumprod(): Cumulative product.\n",
    "These functions are efficient, flexible, and can be applied to specific axes to perform aggregations along rows, columns, or other dimensions. Using them is crucial for array-based calculations, data analysis, and machine learning tasks."
   ]
  },
  {
   "cell_type": "markdown",
   "id": "83cc476c-378a-4a16-b5ae-62d8a4801cc0",
   "metadata": {},
   "source": [
    "Aggregations Along Axes in NumPy\n",
    "When working with multi-dimensional arrays in NumPy, it is common to perform aggregation operations (such as sum(), mean(), etc.) along specific dimensions or axes. The axis parameter allows you to control along which axis the aggregation is performed. Understanding how the axis parameter works is crucial for handling multi-dimensional data effectively.\n",
    "\n",
    "What is an Axis?\n",
    "In NumPy, the axis refers to the dimension along which the operation is performed:\n",
    "\n",
    "Axis 0: Refers to the rows, i.e., operations are performed along columns (vertical direction).\n",
    "Axis 1: Refers to the columns, i.e., operations are performed along rows (horizontal direction).\n",
    "For higher-dimensional arrays, there are more axes:\n",
    "\n",
    "Axis 2: Refers to the depth (for 3D arrays).\n",
    "Axis -1: Refers to the last axis of an array.\n",
    "Aggregation Examples with the axis Parameter\n",
    "Let’s take a few examples to understand how aggregation works with the axis parameter.\n",
    "\n",
    "Example 1: Summing Along Different Axes"
   ]
  },
  {
   "cell_type": "code",
   "execution_count": 66,
   "id": "53ba665e-9d97-416f-9cda-070c0ccae2cb",
   "metadata": {},
   "outputs": [
    {
     "name": "stdout",
     "output_type": "stream",
     "text": [
      "Sum of all elements: 21\n",
      "Sum along axis 0 (columns): [5 7 9]\n",
      "Sum along axis 1 (rows): [ 6 15]\n"
     ]
    }
   ],
   "source": [
    "import numpy as np\n",
    "\n",
    "# Create a 2D array (matrix)\n",
    "arr_2d = np.array([[1, 2, 3],\n",
    "                   [4, 5, 6]])\n",
    "\n",
    "# Sum all elements (no axis specified)\n",
    "sum_all = np.sum(arr_2d)\n",
    "print(\"Sum of all elements:\", sum_all)\n",
    "\n",
    "# Sum along axis 0 (columns)\n",
    "sum_axis_0 = np.sum(arr_2d, axis=0)\n",
    "print(\"Sum along axis 0 (columns):\", sum_axis_0)\n",
    "\n",
    "# Sum along axis 1 (rows)\n",
    "sum_axis_1 = np.sum(arr_2d, axis=1)\n",
    "print(\"Sum along axis 1 (rows):\", sum_axis_1)\n"
   ]
  },
  {
   "cell_type": "markdown",
   "id": "1fed87a3-ad7d-4392-944e-bb9e391ee2dd",
   "metadata": {},
   "source": [
    "Explanation:\n",
    "No axis specified: If no axis is specified, the aggregation is performed over the entire array (sum of all elements).\n",
    "Axis 0: The sum is performed along the rows (i.e., sum the columns). The result is a 1D array where each element is the sum of the respective column.\n",
    "Axis 1: The sum is performed along the columns (i.e., sum the rows). The result is a 1D array where each element is the sum of the respective row.\n",
    "Example 2: Mean Along Axes"
   ]
  },
  {
   "cell_type": "code",
   "execution_count": 67,
   "id": "a897e5e3-8d90-4848-b426-fc98cb6f98b7",
   "metadata": {},
   "outputs": [
    {
     "name": "stdout",
     "output_type": "stream",
     "text": [
      "Mean of all elements: 3.5\n",
      "Mean along axis 0 (columns): [2.5 3.5 4.5]\n",
      "Mean along axis 1 (rows): [2. 5.]\n"
     ]
    }
   ],
   "source": [
    "# Mean of all elements (no axis specified)\n",
    "mean_all = np.mean(arr_2d)\n",
    "print(\"Mean of all elements:\", mean_all)\n",
    "\n",
    "# Mean along axis 0 (columns)\n",
    "mean_axis_0 = np.mean(arr_2d, axis=0)\n",
    "print(\"Mean along axis 0 (columns):\", mean_axis_0)\n",
    "\n",
    "# Mean along axis 1 (rows)\n",
    "mean_axis_1 = np.mean(arr_2d, axis=1)\n",
    "print(\"Mean along axis 1 (rows):\", mean_axis_1)\n"
   ]
  },
  {
   "cell_type": "markdown",
   "id": "28ab7a0b-b756-4c41-85f9-6882bba95811",
   "metadata": {},
   "source": [
    "Explanation:\n",
    "No axis specified: The mean is computed over all elements of the array.\n",
    "Axis 0: The mean is computed along each column.\n",
    "Axis 1: The mean is computed along each row.\n",
    "Example 3: Min and Max Along Axes"
   ]
  },
  {
   "cell_type": "code",
   "execution_count": 68,
   "id": "51bd0366-0a95-4d5c-8e19-7f0a18692606",
   "metadata": {},
   "outputs": [
    {
     "name": "stdout",
     "output_type": "stream",
     "text": [
      "Min along axis 0 (columns): [1 2 3]\n",
      "Max along axis 1 (rows): [3 6]\n"
     ]
    }
   ],
   "source": [
    "# Minimum value along axis 0 (columns)\n",
    "min_axis_0 = np.min(arr_2d, axis=0)\n",
    "print(\"Min along axis 0 (columns):\", min_axis_0)\n",
    "\n",
    "# Maximum value along axis 1 (rows)\n",
    "max_axis_1 = np.max(arr_2d, axis=1)\n",
    "print(\"Max along axis 1 (rows):\", max_axis_1)\n"
   ]
  },
  {
   "cell_type": "markdown",
   "id": "f3f86f70-6474-4baf-8646-cad459fce067",
   "metadata": {},
   "source": [
    "Explanation:\n",
    "Axis 0 (columns): The minimum is found along each column (i.e., the minimum for each column).\n",
    "Axis 1 (rows): The maximum is found along each row (i.e., the maximum for each row).\n",
    "Example 4: Working with a 3D Array\n",
    "For higher-dimensional arrays, the axis parameter allows you to select which dimension to aggregate along."
   ]
  },
  {
   "cell_type": "code",
   "execution_count": 69,
   "id": "db94f6f9-b6b8-4b0d-af9f-fc4fcc6d9af0",
   "metadata": {},
   "outputs": [
    {
     "name": "stdout",
     "output_type": "stream",
     "text": [
      "Sum along axis 0 (sum across blocks):\n",
      " [[11 13 15]\n",
      " [17 19 21]\n",
      " [23 25 27]]\n",
      "Sum along axis 1 (sum across rows):\n",
      " [[12 15 18]\n",
      " [39 42 45]]\n",
      "Sum along axis 2 (sum across columns):\n",
      " [[ 6 15 24]\n",
      " [33 42 51]]\n"
     ]
    }
   ],
   "source": [
    "# Create a 3D array (2 blocks of 3x3 matrices)\n",
    "arr_3d = np.array([[[1, 2, 3],\n",
    "                    [4, 5, 6],\n",
    "                    [7, 8, 9]],\n",
    "\n",
    "                   [[10, 11, 12],\n",
    "                    [13, 14, 15],\n",
    "                    [16, 17, 18]]])\n",
    "\n",
    "# Sum along axis 0 (sum across blocks)\n",
    "sum_axis_0 = np.sum(arr_3d, axis=0)\n",
    "print(\"Sum along axis 0 (sum across blocks):\\n\", sum_axis_0)\n",
    "\n",
    "# Sum along axis 1 (sum across rows in each block)\n",
    "sum_axis_1 = np.sum(arr_3d, axis=1)\n",
    "print(\"Sum along axis 1 (sum across rows):\\n\", sum_axis_1)\n",
    "\n",
    "# Sum along axis 2 (sum across columns in each block)\n",
    "sum_axis_2 = np.sum(arr_3d, axis=2)\n",
    "print(\"Sum along axis 2 (sum across columns):\\n\", sum_axis_2)\n"
   ]
  },
  {
   "cell_type": "markdown",
   "id": "719e3214-839d-45df-baa6-3031e1e1271e",
   "metadata": {},
   "source": [
    "Explanation:\n",
    "Axis 0: Summing across blocks. This aggregates values from the two blocks along each position in the matrix (row-column positions).\n",
    "Axis 1: Summing across rows within each block. This gives the sum of rows within each 3x3 matrix.\n",
    "Axis 2: Summing across columns within each block. This gives the sum of columns within each 3x3 matrix.\n",
    "Axis Parameter and Dimensions\n",
    "For a 2D array:\n",
    "Axis 0 aggregates along columns (moves vertically down rows).\n",
    "Axis 1 aggregates along rows (moves horizontally across columns).\n",
    "For a 3D array:\n",
    "Axis 0 aggregates across depth (blocks of matrices).\n",
    "Axis 1 aggregates across rows within each block.\n",
    "Axis 2 aggregates across columns within each block.\n",
    "Summary of Using axis in NumPy\n",
    "The axis parameter allows for flexibility in applying aggregation functions along specific dimensions:\n",
    "\n",
    "axis=0: Operates along the rows (column-wise operation).\n",
    "axis=1: Operates along the columns (row-wise operation).\n",
    "For higher-dimensional arrays, axis 0 corresponds to the first dimension, axis 1 to the second, and so on.\n",
    "By using the axis parameter, you can control precisely how the aggregation is applied to your data, making it a powerful tool when working with multi-dimensional arrays."
   ]
  },
  {
   "cell_type": "markdown",
   "id": "d7aed6df-efc8-40a0-802a-6162397e1b7d",
   "metadata": {},
   "source": [
    "Matrix Operations in NumPy\n",
    "Matrix operations are fundamental to many data science and machine learning tasks. NumPy provides a comprehensive set of functions for matrix manipulations, such as matrix multiplication, transposition, and inversion. Below, we'll discuss some of the most commonly used matrix operations: np.dot(), np.linalg.inv(), and np.transpose().\n",
    "\n",
    "1. np.dot(): Matrix Multiplication\n",
    "The np.dot() function is used to perform matrix multiplication (or dot product). It handles both vector dot products and matrix multiplication.\n",
    "\n",
    "For 1D arrays, it performs the inner product (dot product).\n",
    "For 2D arrays (matrices), it performs standard matrix multiplication.\n",
    "Example: Matrix Multiplication"
   ]
  },
  {
   "cell_type": "code",
   "execution_count": 70,
   "id": "060779ae-b7c3-4d24-a598-3c8b89c6eedb",
   "metadata": {},
   "outputs": [
    {
     "name": "stdout",
     "output_type": "stream",
     "text": [
      "Matrix multiplication result:\n",
      " [[19 22]\n",
      " [43 50]]\n"
     ]
    }
   ],
   "source": [
    "import numpy as np\n",
    "\n",
    "# Create two 2D matrices\n",
    "A = np.array([[1, 2],\n",
    "              [3, 4]])\n",
    "\n",
    "B = np.array([[5, 6],\n",
    "              [7, 8]])\n",
    "\n",
    "# Matrix multiplication of A and B\n",
    "C = np.dot(A, B)\n",
    "print(\"Matrix multiplication result:\\n\", C)\n"
   ]
  },
  {
   "cell_type": "markdown",
   "id": "35cf7b7c-c5b3-47a5-9574-c419b7a73bca",
   "metadata": {},
   "source": [
    "Explanation:\n",
    "Matrix multiplication involves the dot product of rows from the first matrix with columns from the second matrix.\n",
    "\n",
    "For two matrices \n",
    "𝐴\n",
    "=\n",
    "[\n",
    "1\n",
    "2\n",
    "3\n",
    "4\n",
    "]\n",
    "A=[ \n",
    "1\n",
    "3\n",
    "​\n",
    "  \n",
    "2\n",
    "4\n",
    "​\n",
    " ] and \n",
    "𝐵\n",
    "=\n",
    "[\n",
    "5\n",
    "6\n",
    "7\n",
    "8\n",
    "]\n",
    "B=[ \n",
    "5\n",
    "7\n",
    "​\n",
    "  \n",
    "6\n",
    "8\n",
    "​\n",
    " ], the resulting matrix \n",
    "𝐶\n",
    "C is calculated as follows:\n",
    "\n",
    "𝐶\n",
    "=\n",
    "[\n",
    "(\n",
    "1\n",
    "⋅\n",
    "5\n",
    "+\n",
    "2\n",
    "⋅\n",
    "7\n",
    ")\n",
    "(\n",
    "1\n",
    "⋅\n",
    "6\n",
    "+\n",
    "2\n",
    "⋅\n",
    "8\n",
    ")\n",
    "(\n",
    "3\n",
    "⋅\n",
    "5\n",
    "+\n",
    "4\n",
    "⋅\n",
    "7\n",
    ")\n",
    "(\n",
    "3\n",
    "⋅\n",
    "6\n",
    "+\n",
    "4\n",
    "⋅\n",
    "8\n",
    ")\n",
    "]\n",
    "=\n",
    "[\n",
    "19\n",
    "22\n",
    "43\n",
    "50\n",
    "]\n",
    "C=[ \n",
    "(1⋅5+2⋅7)\n",
    "(3⋅5+4⋅7)\n",
    "​\n",
    "  \n",
    "(1⋅6+2⋅8)\n",
    "(3⋅6+4⋅8)\n",
    "​\n",
    " ]=[ \n",
    "19\n",
    "43\n",
    "​\n",
    "  \n",
    "22\n",
    "50\n",
    "​\n",
    " ]\n",
    "2. np.linalg.inv(): Matrix Inversion\n",
    "The np.linalg.inv() function is used to calculate the inverse of a square matrix. The inverse of a matrix \n",
    "𝐴\n",
    "A, denoted as \n",
    "𝐴\n",
    "−\n",
    "1\n",
    "A \n",
    "−1\n",
    " , is a matrix such that:\n",
    "\n",
    "𝐴\n",
    "⋅\n",
    "𝐴\n",
    "−\n",
    "1\n",
    "=\n",
    "𝐼\n",
    "A⋅A \n",
    "−1\n",
    " =I\n",
    "Where \n",
    "𝐼\n",
    "I is the identity matrix.\n",
    "\n",
    "Example: Matrix Inversion"
   ]
  },
  {
   "cell_type": "code",
   "execution_count": 71,
   "id": "0af51c20-24b0-4720-9ecc-e5fb9dddfdba",
   "metadata": {},
   "outputs": [
    {
     "name": "stdout",
     "output_type": "stream",
     "text": [
      "Inverse of matrix A:\n",
      " [[-2.   1. ]\n",
      " [ 1.5 -0.5]]\n",
      "A * A_inv (should be identity matrix):\n",
      " [[1.00000000e+00 1.11022302e-16]\n",
      " [0.00000000e+00 1.00000000e+00]]\n"
     ]
    }
   ],
   "source": [
    "# Create a 2x2 matrix\n",
    "A = np.array([[1, 2],\n",
    "              [3, 4]])\n",
    "\n",
    "# Inverse of matrix A\n",
    "A_inv = np.linalg.inv(A)\n",
    "print(\"Inverse of matrix A:\\n\", A_inv)\n",
    "\n",
    "# Verify: A * A_inv should give the identity matrix\n",
    "identity_matrix = np.dot(A, A_inv)\n",
    "print(\"A * A_inv (should be identity matrix):\\n\", identity_matrix)\n"
   ]
  },
  {
   "cell_type": "markdown",
   "id": "72d3eca4-2bbf-463f-a2cd-a96e03840d40",
   "metadata": {},
   "source": [
    "Explanation:\n",
    "The inverse of matrix \n",
    "𝐴\n",
    "A is calculated as:\n",
    "\n",
    "𝐴\n",
    "−\n",
    "1\n",
    "=\n",
    "1\n",
    "det\n",
    "(\n",
    "𝐴\n",
    ")\n",
    "⋅\n",
    "adj\n",
    "(\n",
    "𝐴\n",
    ")\n",
    "A \n",
    "−1\n",
    " = \n",
    "det(A)\n",
    "1\n",
    "​\n",
    " ⋅adj(A)\n",
    "Where \n",
    "det\n",
    "(\n",
    "𝐴\n",
    ")\n",
    "det(A) is the determinant of \n",
    "𝐴\n",
    "A, and \n",
    "adj\n",
    "(\n",
    "𝐴\n",
    ")\n",
    "adj(A) is the adjugate matrix of \n",
    "𝐴\n",
    "A.\n",
    "\n",
    "In this case, \n",
    "𝐴\n",
    "=\n",
    "[\n",
    "1\n",
    "2\n",
    "3\n",
    "4\n",
    "]\n",
    "A=[ \n",
    "1\n",
    "3\n",
    "​\n",
    "  \n",
    "2\n",
    "4\n",
    "​\n",
    " ], and its inverse is:\n",
    "\n",
    "𝐴\n",
    "−\n",
    "1\n",
    "=\n",
    "[\n",
    "−\n",
    "2\n",
    "1\n",
    "1.5\n",
    "−\n",
    "0.5\n",
    "]\n",
    "A \n",
    "−1\n",
    " =[ \n",
    "−2\n",
    "1.5\n",
    "​\n",
    "  \n",
    "1\n",
    "−0.5\n",
    "​\n",
    " ]\n",
    "When you multiply \n",
    "𝐴\n",
    "A and \n",
    "𝐴\n",
    "−\n",
    "1\n",
    "A \n",
    "−1\n",
    " , you get the identity matrix \n",
    "𝐼\n",
    "I, which confirms the correctness of the inversion."
   ]
  },
  {
   "cell_type": "markdown",
   "id": "0f8a47b3-9807-427f-bb09-4c722c9e6c09",
   "metadata": {},
   "source": [
    "3. np.transpose(): Matrix Transposition\n",
    "The np.transpose() function (or .T method) is used to compute the transpose of a matrix. The transpose of a matrix is obtained by flipping it over its diagonal, effectively swapping the rows and columns.\n",
    "\n",
    "Example: Transposing a Matrix"
   ]
  },
  {
   "cell_type": "code",
   "execution_count": 72,
   "id": "41378c32-3f7e-42fe-a26c-1faae552c616",
   "metadata": {},
   "outputs": [
    {
     "name": "stdout",
     "output_type": "stream",
     "text": [
      "Transpose of matrix A:\n",
      " [[1 3]\n",
      " [2 4]]\n",
      "Transpose using .T attribute:\n",
      " [[1 3]\n",
      " [2 4]]\n"
     ]
    }
   ],
   "source": [
    "# Create a 2D matrix\n",
    "A = np.array([[1, 2],\n",
    "              [3, 4]])\n",
    "\n",
    "# Transpose of matrix A\n",
    "A_transpose = np.transpose(A)\n",
    "print(\"Transpose of matrix A:\\n\", A_transpose)\n",
    "\n",
    "# Alternatively, using .T attribute\n",
    "A_T = A.T\n",
    "print(\"Transpose using .T attribute:\\n\", A_T)\n"
   ]
  },
  {
   "cell_type": "markdown",
   "id": "5a34a240-37a6-4201-b57b-d4096cacb711",
   "metadata": {},
   "source": [
    "Explanation:\n",
    "The transpose of matrix \n",
    "𝐴\n",
    "=\n",
    "[\n",
    "1\n",
    "2\n",
    "3\n",
    "4\n",
    "]\n",
    "A=[ \n",
    "1\n",
    "3\n",
    "​\n",
    "  \n",
    "2\n",
    "4\n",
    "​\n",
    " ] is:\n",
    "\n",
    "𝐴\n",
    "𝑇\n",
    "=\n",
    "[\n",
    "1\n",
    "3\n",
    "2\n",
    "4\n",
    "]\n",
    "A \n",
    "T\n",
    " =[ \n",
    "1\n",
    "2\n",
    "​\n",
    "  \n",
    "3\n",
    "4\n",
    "​\n",
    " ]\n",
    "Transposing flips the matrix, so rows become columns and vice versa.\n",
    "\n",
    "Summary of Matrix Operations\n",
    "np.dot(): Performs matrix multiplication (dot product).\n",
    "For vectors: computes the inner product.\n",
    "For matrices: performs standard matrix multiplication.\n",
    "np.linalg.inv(): Computes the inverse of a square matrix.\n",
    "Requires the matrix to be invertible (determinant ≠ 0).\n",
    "np.transpose(): Computes the transpose of a matrix.\n",
    "Can also use .T as a shorthand for transposition.\n",
    "These operations are essential for linear algebra tasks in machine learning, data analysis, and scientific computing."
   ]
  },
  {
   "cell_type": "markdown",
   "id": "85e7f9d3-eaf1-45d7-8d2f-094211704d15",
   "metadata": {},
   "source": [
    "Advanced Linear Algebra in NumPy\n",
    "When dealing with more complex problems in machine learning, data science, and numerical analysis, advanced linear algebra concepts like Singular Value Decomposition (SVD) and Eigenvalue computation become essential. NumPy provides efficient functions for performing these operations: np.linalg.svd() for SVD and np.linalg.eig() for eigenvalue and eigenvector computations.\n",
    "\n",
    "1. Singular Value Decomposition (SVD): np.linalg.svd()\n",
    "What is SVD?\n",
    "Singular Value Decomposition (SVD) is a factorization of a matrix \n",
    "𝐴\n",
    "A into three matrices \n",
    "𝑈\n",
    "U, \n",
    "Σ\n",
    "Σ, and \n",
    "𝑉\n",
    "𝑇\n",
    "V \n",
    "T\n",
    "  such that:\n",
    "\n",
    "𝐴\n",
    "=\n",
    "𝑈\n",
    "Σ\n",
    "𝑉\n",
    "𝑇\n",
    "A=UΣV \n",
    "T\n",
    " \n",
    "Where:\n",
    "\n",
    "𝐴\n",
    "A is an \n",
    "𝑚\n",
    "×\n",
    "𝑛\n",
    "m×n matrix.\n",
    "𝑈\n",
    "U is an \n",
    "𝑚\n",
    "×\n",
    "𝑚\n",
    "m×m orthogonal matrix.\n",
    "Σ\n",
    "Σ is an \n",
    "𝑚\n",
    "×\n",
    "𝑛\n",
    "m×n diagonal matrix with singular values on the diagonal.\n",
    "𝑉\n",
    "𝑇\n",
    "V \n",
    "T\n",
    "  (or \n",
    "𝑉\n",
    "𝐻\n",
    "V \n",
    "H\n",
    "  for complex matrices) is the transpose of an \n",
    "𝑛\n",
    "×\n",
    "𝑛\n",
    "n×n orthogonal matrix.\n",
    "SVD is widely used for dimensionality reduction (e.g., Principal Component Analysis), solving linear systems, and matrix approximations.\n",
    "\n",
    "Example: SVD with np.linalg.svd()"
   ]
  },
  {
   "cell_type": "code",
   "execution_count": 73,
   "id": "acad5960-9127-4012-b4b6-703512ab4c56",
   "metadata": {},
   "outputs": [
    {
     "name": "stdout",
     "output_type": "stream",
     "text": [
      "U matrix:\n",
      " [[-0.2298477   0.88346102  0.40824829]\n",
      " [-0.52474482  0.24078249 -0.81649658]\n",
      " [-0.81964194 -0.40189603  0.40824829]]\n",
      "Singular values (Sigma):\n",
      " [9.52551809 0.51430058]\n",
      "V^T matrix:\n",
      " [[-0.61962948 -0.78489445]\n",
      " [-0.78489445  0.61962948]]\n"
     ]
    }
   ],
   "source": [
    "import numpy as np\n",
    "\n",
    "# Create a matrix A\n",
    "A = np.array([[1, 2],\n",
    "              [3, 4],\n",
    "              [5, 6]])\n",
    "\n",
    "# Perform Singular Value Decomposition\n",
    "U, Sigma, Vt = np.linalg.svd(A)\n",
    "\n",
    "print(\"U matrix:\\n\", U)\n",
    "print(\"Singular values (Sigma):\\n\", Sigma)\n",
    "print(\"V^T matrix:\\n\", Vt)\n"
   ]
  },
  {
   "cell_type": "markdown",
   "id": "981ba8b6-95f6-41b9-8bb1-d6cda5d0b617",
   "metadata": {},
   "source": [
    "Explanation:\n",
    "The np.linalg.svd() function decomposes the matrix \n",
    "𝐴\n",
    "A into three components:\n",
    "\n",
    "U: The left singular vectors, an orthogonal matrix.\n",
    "Sigma: The singular values, which are the diagonal entries of a diagonal matrix.\n",
    "Vt: The transpose of the matrix containing the right singular vectors.\n",
    "Usage of SVD:\n",
    "Dimensionality reduction: By keeping only the largest singular values, you can approximate the matrix \n",
    "𝐴\n",
    "A with lower rank while preserving the most significant information.\n",
    "Solving linear systems: SVD is used when solving systems of linear equations, especially when the matrix is ill-conditioned or not square.\n",
    "2. Eigenvalue and Eigenvector Computation: np.linalg.eig()\n",
    "What are Eigenvalues and Eigenvectors?\n",
    "For a square matrix \n",
    "𝐴\n",
    "A, an eigenvalue \n",
    "𝜆\n",
    "λ and an eigenvector \n",
    "𝑣\n",
    "v satisfy the equation:\n",
    "\n",
    "𝐴\n",
    "𝑣\n",
    "=\n",
    "𝜆\n",
    "𝑣\n",
    "Av=λv\n",
    "Where:\n",
    "\n",
    "𝑣\n",
    "v is the eigenvector corresponding to the eigenvalue \n",
    "𝜆\n",
    "λ.\n",
    "Eigenvalues represent the scaling factor by which an eigenvector is stretched or compressed.\n",
    "Eigenvectors point in directions that remain unchanged under the transformation defined by \n",
    "𝐴\n",
    "A.\n",
    "Eigenvalue and eigenvector computations are crucial in various applications like stability analysis, Principal Component Analysis (PCA), and more.\n",
    "\n",
    "Example: Eigenvalue Computation with np.linalg.eig()"
   ]
  },
  {
   "cell_type": "code",
   "execution_count": 74,
   "id": "f62d4c69-3d45-449c-9c12-353a3a9102d1",
   "metadata": {},
   "outputs": [
    {
     "name": "stdout",
     "output_type": "stream",
     "text": [
      "Eigenvalues:\n",
      " [3. 2.]\n",
      "Eigenvectors:\n",
      " [[0.89442719 0.70710678]\n",
      " [0.4472136  0.70710678]]\n"
     ]
    }
   ],
   "source": [
    "# Create a square matrix A\n",
    "A = np.array([[4, -2],\n",
    "              [1,  1]])\n",
    "\n",
    "# Compute eigenvalues and eigenvectors\n",
    "eigenvalues, eigenvectors = np.linalg.eig(A)\n",
    "\n",
    "print(\"Eigenvalues:\\n\", eigenvalues)\n",
    "print(\"Eigenvectors:\\n\", eigenvectors)\n"
   ]
  },
  {
   "cell_type": "markdown",
   "id": "bbedcf6c-4ef0-40d0-9d11-eb7743fcfbd5",
   "metadata": {},
   "source": [
    "Explanation:\n",
    "Eigenvalues: The values \n",
    "𝜆\n",
    "1\n",
    "=\n",
    "3\n",
    "λ \n",
    "1\n",
    "​\n",
    " =3 and \n",
    "𝜆\n",
    "2\n",
    "=\n",
    "2\n",
    "λ \n",
    "2\n",
    "​\n",
    " =2 are the eigenvalues of matrix \n",
    "𝐴\n",
    "A.\n",
    "Eigenvectors: The corresponding eigenvectors are normalized vectors \n",
    "𝑣\n",
    "1\n",
    "=\n",
    "[\n",
    "0.8944\n",
    "0.4472\n",
    "]\n",
    "v \n",
    "1\n",
    "​\n",
    " =[ \n",
    "0.8944\n",
    "0.4472\n",
    "​\n",
    " ] and \n",
    "𝑣\n",
    "2\n",
    "=\n",
    "[\n",
    "0.7071\n",
    "−\n",
    "0.7071\n",
    "]\n",
    "v \n",
    "2\n",
    "​\n",
    " =[ \n",
    "0.7071\n",
    "−0.7071\n",
    "​\n",
    " ].\n",
    "Verification:\n",
    "To verify that these are correct eigenvalues and eigenvectors, you can check if:\n",
    "\n",
    "𝐴\n",
    "𝑣\n",
    "=\n",
    "𝜆\n",
    "𝑣\n",
    "Av=λv\n",
    "For each eigenvector, multiplying it with the matrix \n",
    "𝐴\n",
    "A should yield the eigenvalue times the eigenvector."
   ]
  },
  {
   "cell_type": "code",
   "execution_count": 75,
   "id": "cf490bbc-59d5-413b-b3d7-b6e54c91665f",
   "metadata": {},
   "outputs": [
    {
     "name": "stdout",
     "output_type": "stream",
     "text": [
      "A * v1: [2.68328157 1.34164079]\n",
      "lambda1 * v1: [2.68328157 1.34164079]\n"
     ]
    }
   ],
   "source": [
    "# Verify the first eigenvector and eigenvalue\n",
    "v1 = eigenvectors[:, 0]\n",
    "lambda1 = eigenvalues[0]\n",
    "print(\"A * v1:\", np.dot(A, v1))\n",
    "print(\"lambda1 * v1:\", lambda1 * v1)\n"
   ]
  },
  {
   "cell_type": "markdown",
   "id": "3d994959-0a5a-4676-9927-8fa357b560b2",
   "metadata": {},
   "source": [
    "The results match, confirming that the eigenvalue \n",
    "𝜆\n",
    "1\n",
    "=\n",
    "3\n",
    "λ \n",
    "1\n",
    "​\n",
    " =3 and its corresponding eigenvector \n",
    "𝑣\n",
    "1\n",
    "v \n",
    "1\n",
    "​\n",
    "  are correct.\n",
    "\n",
    "Usage of Eigenvalues and Eigenvectors:\n",
    "Principal Component Analysis (PCA): Eigenvectors of the covariance matrix define the principal components, which represent the directions of maximum variance in the data.\n",
    "Stability analysis: In dynamical systems, eigenvalues indicate whether a system is stable or unstable.\n",
    "Quantum mechanics: Eigenvalues and eigenvectors appear in solving problems in quantum systems.\n",
    "Summary of Advanced Linear Algebra in NumPy\n",
    "np.linalg.svd(): Performs Singular Value Decomposition (SVD) on a matrix, decomposing it into three matrices \n",
    "𝑈\n",
    "U, \n",
    "Σ\n",
    "Σ, and \n",
    "𝑉\n",
    "𝑇\n",
    "V \n",
    "T\n",
    " .\n",
    "Useful for dimensionality reduction, solving linear systems, and matrix approximations.\n",
    "np.linalg.eig(): Computes the eigenvalues and eigenvectors of a square matrix.\n",
    "Useful for understanding the transformation properties of matrices, Principal Component Analysis (PCA), stability analysis, and other applications.\n",
    "These operations are fundamental to many machine learning algorithms and numerical methods, enabling you to work efficiently with large datasets and perform critical matrix computations."
   ]
  },
  {
   "cell_type": "markdown",
   "id": "958191c8-777c-4c3c-bfaa-8fe10ee12b90",
   "metadata": {},
   "source": [
    "Universal Functions (ufuncs) in NumPy\n",
    "Universal Functions (ufuncs) are functions in NumPy that operate element-wise on arrays. They are highly optimized for performance and handle array broadcasting, type casting, and several other operations efficiently. Some of the most common ufuncs in NumPy are trigonometric, exponential, and logarithmic functions like np.sin(), np.exp(), np.log(), among others.\n",
    "\n",
    "Key Benefits of ufuncs:\n",
    "Element-wise operations: They apply a function to each element of an array independently.\n",
    "Broadcasting: ufuncs support broadcasting, allowing operations on arrays of different shapes.\n",
    "Efficiency: Implemented in C, ufuncs are optimized for performance and typically faster than looping over array elements.\n",
    "1. Trigonometric Functions: np.sin()\n",
    "The np.sin() function computes the sine of each element in the input array. The input values should be in radians.\n",
    "\n",
    "Example: Using np.sin()"
   ]
  },
  {
   "cell_type": "code",
   "execution_count": 76,
   "id": "eaba53c0-0c56-4482-9572-f76e7693446b",
   "metadata": {},
   "outputs": [
    {
     "name": "stdout",
     "output_type": "stream",
     "text": [
      "Sine values:\n",
      " [0.0000000e+00 1.0000000e+00 1.2246468e-16]\n"
     ]
    }
   ],
   "source": [
    "import numpy as np\n",
    "\n",
    "# Create an array of angles (in radians)\n",
    "angles = np.array([0, np.pi/2, np.pi])\n",
    "\n",
    "# Compute the sine of each element\n",
    "sin_values = np.sin(angles)\n",
    "\n",
    "print(\"Sine values:\\n\", sin_values)\n"
   ]
  },
  {
   "cell_type": "markdown",
   "id": "f5dde8d4-e1f5-4a02-8e5a-bf8ada8e0e4c",
   "metadata": {},
   "source": [
    "Explanation:\n",
    "The function applies the sine function element-wise to the array of angles:\n",
    "\n",
    "sin\n",
    "⁡\n",
    "(\n",
    "0\n",
    ")\n",
    "=\n",
    "0\n",
    "sin(0)=0\n",
    "sin\n",
    "⁡\n",
    "(\n",
    "𝜋\n",
    "2\n",
    ")\n",
    "=\n",
    "1\n",
    "sin( \n",
    "2\n",
    "π\n",
    "​\n",
    " )=1\n",
    "sin\n",
    "⁡\n",
    "(\n",
    "𝜋\n",
    ")\n",
    "≈\n",
    "0\n",
    "sin(π)≈0 (small floating-point error)\n",
    "2. Exponential Function: np.exp()\n",
    "The np.exp() function computes the exponential (base \n",
    "𝑒\n",
    "e) of each element in the array, i.e., \n",
    "𝑒\n",
    "𝑥\n",
    "e \n",
    "x\n",
    " , where \n",
    "𝑒\n",
    "≈\n",
    "2.71828\n",
    "e≈2.71828.\n",
    "\n",
    "Example: Using np.exp()"
   ]
  },
  {
   "cell_type": "code",
   "execution_count": 77,
   "id": "2b697e39-6c23-4e8b-b7a0-6e3c38884c60",
   "metadata": {},
   "outputs": [
    {
     "name": "stdout",
     "output_type": "stream",
     "text": [
      "Exponential values:\n",
      " [1.         2.71828183 7.3890561 ]\n"
     ]
    }
   ],
   "source": [
    "# Create an array of values\n",
    "values = np.array([0, 1, 2])\n",
    "\n",
    "# Compute the exponential of each element\n",
    "exp_values = np.exp(values)\n",
    "\n",
    "print(\"Exponential values:\\n\", exp_values)\n"
   ]
  },
  {
   "cell_type": "markdown",
   "id": "5d53f899-6765-4b23-9ae8-93e51583cb10",
   "metadata": {},
   "source": [
    "Explanation:\n",
    "The function applies the exponential operation element-wise:\n",
    "\n",
    "𝑒\n",
    "0\n",
    "=\n",
    "1\n",
    "e \n",
    "0\n",
    " =1\n",
    "𝑒\n",
    "1\n",
    "=\n",
    "𝑒\n",
    "≈\n",
    "2.718\n",
    "e \n",
    "1\n",
    " =e≈2.718\n",
    "𝑒\n",
    "2\n",
    "≈\n",
    "7.389\n",
    "e \n",
    "2\n",
    " ≈7.389\n",
    "3. Natural Logarithm (ln): np.log()\n",
    "The np.log() function computes the natural logarithm (base \n",
    "𝑒\n",
    "e) of each element in the array. It expects positive values as input.\n",
    "\n",
    "Example: Using np.log()"
   ]
  },
  {
   "cell_type": "code",
   "execution_count": 79,
   "id": "7df9da15-17a4-441c-96e4-77295d8c73e6",
   "metadata": {},
   "outputs": [
    {
     "name": "stdout",
     "output_type": "stream",
     "text": [
      "Natural logarithm values:\n",
      " [0. 1. 2.]\n"
     ]
    }
   ],
   "source": [
    "# Create an array of positive values\n",
    "values = np.array([1, np.e, np.e**2])\n",
    "\n",
    "# Compute the natural logarithm of each element\n",
    "log_values = np.log(values)\n",
    "\n",
    "print(\"Natural logarithm values:\\n\", log_values)\n"
   ]
  },
  {
   "cell_type": "markdown",
   "id": "826af1ae-4908-4865-a3a7-8b794d6df69e",
   "metadata": {},
   "source": [
    "Explanation:\n",
    "The function applies the logarithmic operation element-wise:\n",
    "\n",
    "ln\n",
    "⁡\n",
    "(\n",
    "1\n",
    ")\n",
    "=\n",
    "0\n",
    "ln(1)=0\n",
    "ln\n",
    "⁡\n",
    "(\n",
    "𝑒\n",
    ")\n",
    "=\n",
    "1\n",
    "ln(e)=1\n",
    "ln\n",
    "⁡\n",
    "(\n",
    "𝑒\n",
    "2\n",
    ")\n",
    "=\n",
    "2\n",
    "ln(e \n",
    "2\n",
    " )=2\n",
    "4. Other Common ufuncs\n",
    "In addition to np.sin(), np.exp(), and np.log(), NumPy provides many other ufuncs for element-wise mathematical operations:\n",
    "\n",
    "np.cos(): Computes the cosine of each element.\n",
    "np.tan(): Computes the tangent of each element.\n",
    "np.sqrt(): Computes the square root of each element.\n",
    "np.abs(): Computes the absolute value of each element.\n",
    "np.floor(): Computes the floor of each element (rounds down to the nearest integer).\n",
    "np.ceil(): Computes the ceiling of each element (rounds up to the nearest integer).\n",
    "Example: Using Multiple ufuncs"
   ]
  },
  {
   "cell_type": "code",
   "execution_count": 80,
   "id": "d9fa0352-9bb8-4d0d-9233-641ecec7744d",
   "metadata": {},
   "outputs": [
    {
     "name": "stdout",
     "output_type": "stream",
     "text": [
      "Square root:\n",
      " [0.         0.         1.         1.41421356 1.73205081]\n",
      "Absolute values:\n",
      " [1 0 1 2 3]\n",
      "Floor values:\n",
      " [-1.  0.  1.  2.  3.]\n",
      "Ceiling values:\n",
      " [-1.  0.  1.  2.  3.]\n"
     ]
    }
   ],
   "source": [
    "# Create an array of values\n",
    "values = np.array([-1, 0, 1, 2, 3])\n",
    "\n",
    "# Apply various ufuncs\n",
    "sqrt_values = np.sqrt(values.clip(min=0))  # Use clip to avoid negative sqrt\n",
    "abs_values = np.abs(values)\n",
    "floor_values = np.floor(values)\n",
    "ceil_values = np.ceil(values)\n",
    "\n",
    "print(\"Square root:\\n\", sqrt_values)\n",
    "print(\"Absolute values:\\n\", abs_values)\n",
    "print(\"Floor values:\\n\", floor_values)\n",
    "print(\"Ceiling values:\\n\", ceil_values)\n"
   ]
  },
  {
   "cell_type": "markdown",
   "id": "a30e41bb-7884-438c-8ed3-e528135acef1",
   "metadata": {},
   "source": [
    "Summary of Universal Functions (ufuncs)\n",
    "np.sin(): Computes the sine of each element.\n",
    "np.exp(): Computes the exponential (base \n",
    "𝑒\n",
    "e) of each element.\n",
    "np.log(): Computes the natural logarithm (base \n",
    "𝑒\n",
    "e) of each element.\n",
    "Other ufuncs: Functions like np.cos(), np.tan(), np.sqrt(), np.abs(), np.floor(), and np.ceil() handle a wide range of element-wise mathematical operations.\n",
    "Ufuncs in NumPy provide efficient, element-wise operations on arrays, and are optimized for performance. They form the basis for many advanced mathematical and numerical computations, making them essential tools in any data science or numerical computing task."
   ]
  },
  {
   "cell_type": "markdown",
   "id": "741f1077-f7fd-4825-b540-3d25b2d835ec",
   "metadata": {},
   "source": [
    "NumPy for Performance Optimization\n",
    "NumPy is designed to provide fast array operations by taking advantage of vectorized operations, optimized memory layout, and efficient use of low-level languages like C. This makes it significantly faster than traditional Python loops for numerical computations.\n",
    "\n",
    "Key Concepts for NumPy Performance Optimization:\n",
    "Vectorization: Performing operations on entire arrays instead of element-by-element processing in loops.\n",
    "Timing operations using %timeit: A way to measure the speed of code to identify bottlenecks.\n",
    "Numerical precision: Understanding how floating-point arithmetic can introduce inaccuracies in computations.\n",
    "1. Why NumPy is Faster: Vectorization and Avoiding Loops\n",
    "Vectorization in NumPy\n",
    "Vectorization refers to applying operations to entire arrays or matrices without using explicit loops. Instead of processing elements one-by-one, NumPy leverages highly optimized, low-level C routines to perform operations on arrays in parallel.\n",
    "\n",
    "Example: Vectorized Operations vs. Loops\n",
    "Let's compute the element-wise sum of two arrays, both using a loop and using NumPy vectorization."
   ]
  },
  {
   "cell_type": "code",
   "execution_count": 81,
   "id": "bdc0005c-c778-46bd-9bb6-9005d01f1b88",
   "metadata": {},
   "outputs": [],
   "source": [
    "import numpy as np\n",
    "\n",
    "# Create two arrays\n",
    "a = np.random.rand(1000000)\n",
    "b = np.random.rand(1000000)\n",
    "\n",
    "# Using a Python loop\n",
    "result_loop = np.zeros_like(a)\n",
    "for i in range(len(a)):\n",
    "    result_loop[i] = a[i] + b[i]\n",
    "\n",
    "# Using NumPy vectorized operation\n",
    "result_vectorized = a + b\n"
   ]
  },
  {
   "cell_type": "markdown",
   "id": "b448547c-70fb-4d97-8ce9-fac61998eebe",
   "metadata": {},
   "source": [
    "Why is Vectorization Faster?\n",
    "Loops in Python: Python loops introduce overhead because Python is an interpreted language. Every loop iteration is processed by the Python interpreter, which is relatively slow.\n",
    "Vectorized operations in NumPy: In contrast, NumPy performs the entire operation in one step using highly optimized C and Fortran routines that work at a much lower level, avoiding the overhead of Python loops.\n",
    "2. Timing Operations with %timeit\n",
    "To compare the performance of different implementations (e.g., vectorized vs. loop-based), we can use the %timeit magic function in Jupyter or IPython environments. %timeit runs the code multiple times and reports the best execution time.\n",
    "\n",
    "Example: Timing Vectorized Operations vs. Loops"
   ]
  },
  {
   "cell_type": "code",
   "execution_count": 82,
   "id": "d56a327b-cd47-4196-8ee6-96c95f54c0cc",
   "metadata": {},
   "outputs": [
    {
     "name": "stdout",
     "output_type": "stream",
     "text": [
      "128 ms ± 985 µs per loop (mean ± std. dev. of 7 runs, 10 loops each)\n",
      "1.19 ms ± 33 µs per loop (mean ± std. dev. of 7 runs, 1,000 loops each)\n"
     ]
    }
   ],
   "source": [
    "# Timing the loop-based implementation\n",
    "%timeit result_loop = [a[i] + b[i] for i in range(len(a))]\n",
    "\n",
    "# Timing the vectorized implementation\n",
    "%timeit result_vectorized = a + b\n"
   ]
  },
  {
   "cell_type": "markdown",
   "id": "c6c45b8e-8142-4faf-bbad-4ac6039353b8",
   "metadata": {},
   "source": [
    "Explanation:\n",
    "Loop-based approach: Takes longer due to the overhead of repeatedly accessing Python objects and running interpreted code.\n",
    "Vectorized approach: Significantly faster because NumPy performs the operation at the C level, without looping in Python.\n",
    "Best Practice:\n",
    "Always prefer vectorized operations in NumPy when possible, as they leverage efficient, underlying hardware and software optimizations, yielding better performance.\n",
    "\n",
    "3. Numerical Precision and Pitfalls with Floating-Point Arithmetic in NumPy\n",
    "When working with floating-point numbers, both Python and NumPy encounter precision issues due to the way numbers are represented in memory. Floating-point numbers are stored as approximations, leading to potential inaccuracies.\n",
    "\n",
    "Example: Floating-Point Precision Pitfall"
   ]
  },
  {
   "cell_type": "code",
   "execution_count": 83,
   "id": "02f97c35-e6cf-4d21-b967-79091a4c002d",
   "metadata": {},
   "outputs": [
    {
     "name": "stdout",
     "output_type": "stream",
     "text": [
      "0.30000000000000004\n"
     ]
    }
   ],
   "source": [
    "# Simple addition that leads to precision issues\n",
    "a = 0.1 + 0.2\n",
    "print(a)\n"
   ]
  },
  {
   "cell_type": "markdown",
   "id": "4e14c976-0888-4760-8997-d006107e55ff",
   "metadata": {},
   "source": [
    "Explanation:\n",
    "In binary floating-point arithmetic, certain decimal values like 0.1 and 0.2 cannot be represented exactly. This can lead to small rounding errors that accumulate in larger computations.\n",
    "\n",
    "Dealing with Precision Issues in NumPy:\n",
    "NumPy allows control over the data type (dtype) of arrays, which can help mitigate some precision issues by using higher-precision types like np.float64 (double precision)."
   ]
  },
  {
   "cell_type": "code",
   "execution_count": 84,
   "id": "7cbf6fec-4957-4dac-94f4-d9fd47d57336",
   "metadata": {},
   "outputs": [
    {
     "name": "stdout",
     "output_type": "stream",
     "text": [
      "Sum with float32: 0.6\n",
      "Sum with float64: 0.6000000000000001\n"
     ]
    }
   ],
   "source": [
    "# Creating arrays with specific dtypes\n",
    "a = np.array([0.1, 0.2, 0.3], dtype=np.float32)  # Single precision (32-bit)\n",
    "b = np.array([0.1, 0.2, 0.3], dtype=np.float64)  # Double precision (64-bit)\n",
    "\n",
    "# Summing the arrays\n",
    "sum_a = np.sum(a)\n",
    "sum_b = np.sum(b)\n",
    "\n",
    "print(\"Sum with float32:\", sum_a)\n",
    "print(\"Sum with float64:\", sum_b)\n"
   ]
  },
  {
   "cell_type": "markdown",
   "id": "fffd7b47-4718-4e6e-8224-96f5577e82ea",
   "metadata": {},
   "source": [
    "Key Points on Floating-Point Precision:\n",
    "Single precision (np.float32): 32-bit precision may lead to more significant rounding errors.\n",
    "Double precision (np.float64): 64-bit precision reduces, but does not eliminate, rounding errors.\n",
    "Cumulative errors: Small errors can accumulate in large computations, so it is important to understand precision limits.\n",
    "Solutions to Precision Problems:\n",
    "Use higher precision (np.float64): Where more accuracy is needed, use np.float64 or higher precision data types.\n",
    "Avoid comparing floating-point numbers directly: Use np.isclose() to check if two numbers are approximately equal, rather than checking for exact equality."
   ]
  },
  {
   "cell_type": "code",
   "execution_count": 85,
   "id": "08d83a5e-eb8b-4405-9b04-a8747568be2c",
   "metadata": {},
   "outputs": [
    {
     "data": {
      "text/plain": [
       "True"
      ]
     },
     "execution_count": 85,
     "metadata": {},
     "output_type": "execute_result"
    }
   ],
   "source": [
    "np.isclose(0.1 + 0.2, 0.3)\n"
   ]
  },
  {
   "cell_type": "markdown",
   "id": "4907ca86-7905-4cff-b5bf-d7db3bb71f60",
   "metadata": {},
   "source": [
    "Summary of NumPy for Performance Optimization\n",
    "Vectorization:\n",
    "\n",
    "Use NumPy’s vectorized operations instead of Python loops to perform element-wise operations efficiently.\n",
    "Vectorized operations are much faster because they leverage low-level optimizations.\n",
    "Timing Operations with %timeit:\n",
    "\n",
    "Use %timeit to measure the speed of different approaches and choose the most efficient one.\n",
    "Always prefer vectorized operations for improved performance.\n",
    "Numerical Precision:\n",
    "\n",
    "Understand that floating-point numbers in NumPy (and Python) are approximations.\n",
    "Use higher-precision data types like np.float64 for more accurate results.\n",
    "Be aware of pitfalls with floating-point arithmetic, especially when performing large computations.\n",
    "By understanding and utilizing these techniques, you can optimize the performance of your NumPy-based code and ensure that it runs efficiently and accurately."
   ]
  },
  {
   "cell_type": "markdown",
   "id": "97566d7e-8276-4c57-b0ab-af73684dd352",
   "metadata": {},
   "source": [
    "Masked Arrays in NumPy: Handling Missing or Invalid Data with np.ma\n",
    "In data analysis, it's common to encounter datasets with missing or invalid values (e.g., NaN values). To handle such cases, NumPy provides Masked Arrays, which allow you to mask (or \"hide\") invalid or missing data during computations without completely removing the affected elements. The np.ma (Masked Array) module enables efficient handling of such data by \"masking\" the invalid entries.\n",
    "\n",
    "Key Features of np.ma:\n",
    "Masked Values: Elements in an array can be marked as \"masked\" (i.e., invalid or missing), and NumPy will automatically ignore these values in calculations.\n",
    "Operations on Masked Arrays: Functions like summation, mean, etc., will ignore masked values during computation.\n",
    "Maintains Array Shape: The structure of the array is preserved even if some values are masked.\n",
    "1. Creating a Masked Array\n",
    "The most basic way to create a masked array is to use np.ma.array(). You can either specify a mask explicitly or let NumPy automatically mask certain values (like NaN).\n",
    "\n",
    "Example: Masking Specific Values"
   ]
  },
  {
   "cell_type": "code",
   "execution_count": 86,
   "id": "e2afdf2d-a895-48ee-b9c1-2fb45c9271b2",
   "metadata": {},
   "outputs": [
    {
     "name": "stdout",
     "output_type": "stream",
     "text": [
      "Masked Array:\n",
      " [1 2 3 -- 5]\n"
     ]
    }
   ],
   "source": [
    "import numpy as np\n",
    "\n",
    "# Create a standard NumPy array\n",
    "data = np.array([1, 2, 3, -999, 5])\n",
    "\n",
    "# Create a masked array where -999 represents invalid/missing data\n",
    "masked_array = np.ma.masked_equal(data, -999)\n",
    "\n",
    "print(\"Masked Array:\\n\", masked_array)\n"
   ]
  },
  {
   "cell_type": "markdown",
   "id": "9fe33b6f-bdf5-4fba-851c-7d1f4b6f81b3",
   "metadata": {},
   "source": [
    "Explanation:\n",
    "np.ma.masked_equal(data, -999): Creates a masked array where the value -999 is masked (hidden) and treated as missing.\n",
    "The masked value is represented as --, and it will not be included in computations.\n",
    "2. Basic Operations with Masked Arrays\n",
    "When performing operations like summation or mean on a masked array, the masked values are ignored automatically.\n",
    "\n",
    "Example: Ignoring Masked Values in Computations"
   ]
  },
  {
   "cell_type": "code",
   "execution_count": 87,
   "id": "a71e64b0-9fa0-4d3e-8428-e246b7a15351",
   "metadata": {},
   "outputs": [
    {
     "name": "stdout",
     "output_type": "stream",
     "text": [
      "Sum ignoring masked values: 11\n",
      "Mean ignoring masked values: 2.75\n"
     ]
    }
   ],
   "source": [
    "# Sum of the elements (masked value is ignored)\n",
    "sum_result = masked_array.sum()\n",
    "\n",
    "# Mean of the elements (masked value is ignored)\n",
    "mean_result = masked_array.mean()\n",
    "\n",
    "print(\"Sum ignoring masked values:\", sum_result)\n",
    "print(\"Mean ignoring masked values:\", mean_result)\n"
   ]
  },
  {
   "cell_type": "markdown",
   "id": "77ce6a19-dbcf-4643-bede-d3070d627112",
   "metadata": {},
   "source": [
    "Explanation:\n",
    "The summation and mean calculations ignore the masked value (-999 in this case) and only compute over the remaining valid values (1, 2, 3, 5)."
   ]
  },
  {
   "cell_type": "markdown",
   "id": "80af22e3-ceac-4396-bbfa-a14f4ded4cf0",
   "metadata": {},
   "source": [
    "3. Masking Invalid or NaN Values Automatically\n",
    "Sometimes, you want to automatically mask invalid values such as NaN (Not a Number). NumPy provides built-in functions to handle this.\n",
    "\n",
    "Example: Masking NaN Values"
   ]
  },
  {
   "cell_type": "code",
   "execution_count": 88,
   "id": "75fee880-8016-4f7d-adc8-670698844212",
   "metadata": {},
   "outputs": [
    {
     "name": "stdout",
     "output_type": "stream",
     "text": [
      "Masked Array with NaN values:\n",
      " [1.0 2.0 -- 4.0 5.0]\n"
     ]
    }
   ],
   "source": [
    "# Create an array with NaN values\n",
    "data_with_nan = np.array([1, 2, np.nan, 4, 5])\n",
    "\n",
    "# Create a masked array where NaN values are automatically masked\n",
    "masked_nan_array = np.ma.masked_invalid(data_with_nan)\n",
    "\n",
    "print(\"Masked Array with NaN values:\\n\", masked_nan_array)\n"
   ]
  },
  {
   "cell_type": "markdown",
   "id": "f4c30fa9-0f00-4186-969d-6679544f96c6",
   "metadata": {},
   "source": [
    "Explanation:\n",
    "np.ma.masked_invalid(): Automatically masks any NaN or Inf values, treating them as missing data. Here, the NaN is masked.\n",
    "4. Accessing Data and Masks in a Masked Array\n",
    "You can inspect both the data and the mask separately. This allows you to easily identify which values are masked and which are valid.\n",
    "\n",
    "Example: Inspecting Data and Mask"
   ]
  },
  {
   "cell_type": "code",
   "execution_count": 89,
   "id": "ef39dc0a-d8cd-4c19-9edd-7feed95978e5",
   "metadata": {},
   "outputs": [
    {
     "name": "stdout",
     "output_type": "stream",
     "text": [
      "Data only:\n",
      " [   1    2    3 -999    5]\n",
      "Mask:\n",
      " [False False False  True False]\n"
     ]
    }
   ],
   "source": [
    "# Access the data of the masked array\n",
    "data_only = masked_array.data\n",
    "\n",
    "# Access the mask (True where data is masked)\n",
    "mask = masked_array.mask\n",
    "\n",
    "print(\"Data only:\\n\", data_only)\n",
    "print(\"Mask:\\n\", mask)\n"
   ]
  },
  {
   "cell_type": "markdown",
   "id": "b179c93b-fd5c-416c-8a12-f9e9f7f6c7d8",
   "metadata": {},
   "source": [
    "Explanation:\n",
    "masked_array.data: Returns the raw data, including the masked values.\n",
    "masked_array.mask: Returns a Boolean array, where True indicates that the corresponding value is masked.\n",
    "5. Filling Masked Values\n",
    "Sometimes, you may want to fill in the masked values with a specific number (e.g., 0 or some default value) when performing computations.\n",
    "\n",
    "Example: Filling Masked Values with a Specific Number"
   ]
  },
  {
   "cell_type": "code",
   "execution_count": 90,
   "id": "f08cdc57-5a62-4c99-8dde-488f768a2445",
   "metadata": {},
   "outputs": [
    {
     "name": "stdout",
     "output_type": "stream",
     "text": [
      "Array with masked values filled with 0:\n",
      " [1 2 3 0 5]\n"
     ]
    }
   ],
   "source": [
    "# Fill masked values with 0\n",
    "filled_array = masked_array.filled(0)\n",
    "\n",
    "print(\"Array with masked values filled with 0:\\n\", filled_array)\n"
   ]
  },
  {
   "cell_type": "markdown",
   "id": "518d7442-8bbf-4bf7-9b41-1c561ebc6ccf",
   "metadata": {},
   "source": [
    "Explanation:\n",
    "masked_array.filled(0): Replaces all masked values with the number 0, allowing you to continue processing the array without missing data.\n",
    "6. Combining Multiple Masks\n",
    "You can combine multiple masks, for example, to mask multiple conditions at once. This is helpful when handling datasets with multiple types of invalid values.\n",
    "\n",
    "Example: Masking Multiple Conditions"
   ]
  },
  {
   "cell_type": "code",
   "execution_count": 91,
   "id": "cc21ad03-d4e7-46dd-b0bb-409e7bcb58bc",
   "metadata": {},
   "outputs": [
    {
     "name": "stdout",
     "output_type": "stream",
     "text": [
      "Masked Array with multiple conditions:\n",
      " [1.0 -- 3.0 -- 5.0]\n"
     ]
    }
   ],
   "source": [
    "# Create an array with both invalid values and NaN\n",
    "data_multi = np.array([1, -999, 3, np.nan, 5])\n",
    "\n",
    "# Mask both -999 and NaN values\n",
    "masked_multi = np.ma.masked_where((data_multi == -999) | np.isnan(data_multi), data_multi)\n",
    "\n",
    "print(\"Masked Array with multiple conditions:\\n\", masked_multi)\n"
   ]
  },
  {
   "cell_type": "markdown",
   "id": "ea3ff560-8351-4920-87e3-6a8e6f215033",
   "metadata": {},
   "source": [
    "Explanation:\n",
    "np.ma.masked_where(): Masks elements based on a given condition. Here, both -999 and NaN values are masked using a combined condition.\n",
    "Summary of Masked Arrays\n",
    "Masked arrays (np.ma) in NumPy allow you to handle missing or invalid data by masking certain elements.\n",
    "Masking hides data without removing it, enabling you to continue operations while ignoring invalid values.\n",
    "Functions like np.sum(), np.mean(), etc., automatically ignore masked values, providing a convenient way to handle incomplete datasets.\n",
    "Automatic masking can be applied to values like NaN or Inf using np.ma.masked_invalid().\n",
    "You can inspect the data and the mask separately and fill masked values using the filled() method.\n",
    "Masked arrays are an essential tool for working with incomplete or noisy datasets in data analysis and numerical computation. They provide flexibility and efficiency in handling missing or invalid data without losing the integrity of your dataset."
   ]
  },
  {
   "cell_type": "markdown",
   "id": "a261ff93-fcde-4bd9-8cc7-c703df178317",
   "metadata": {},
   "source": [
    "NumPy and Pandas Interoperability\n",
    "NumPy arrays and Pandas DataFrames are integral tools in data science and numerical computing. While NumPy provides high-performance array operations, Pandas is designed for handling structured data, offering more flexible, high-level functionalities such as handling labeled data, missing values, and relational data structures.\n",
    "\n",
    "One of the strengths of Pandas is that it integrates seamlessly with NumPy, leveraging the efficient underlying array structures while adding rich data-handling capabilities.\n",
    "\n",
    "1. Pandas DataFrames Built on NumPy Arrays\n",
    "A Pandas DataFrame can be thought of as a two-dimensional labeled data structure, where each column is a Series (which is essentially a one-dimensional array), and under the hood, each column is backed by a NumPy array. This allows Pandas to benefit from NumPy’s speed and efficient memory usage, while providing additional functionality like labels, handling missing data, and more.\n",
    "\n",
    "Example: Creating a Pandas DataFrame from a NumPy Array"
   ]
  },
  {
   "cell_type": "code",
   "execution_count": 92,
   "id": "66859680-f93c-45f3-b15f-4cc4ca9091c2",
   "metadata": {},
   "outputs": [
    {
     "name": "stdout",
     "output_type": "stream",
     "text": [
      "   A  B  C\n",
      "0  1  2  3\n",
      "1  4  5  6\n",
      "2  7  8  9\n"
     ]
    }
   ],
   "source": [
    "import numpy as np\n",
    "import pandas as pd\n",
    "\n",
    "# Create a NumPy array\n",
    "data = np.array([[1, 2, 3], [4, 5, 6], [7, 8, 9]])\n",
    "\n",
    "# Convert it to a Pandas DataFrame\n",
    "df = pd.DataFrame(data, columns=['A', 'B', 'C'])\n",
    "\n",
    "print(df)\n"
   ]
  },
  {
   "cell_type": "markdown",
   "id": "e6a3a11d-286c-4ef0-903b-0d96aa567be5",
   "metadata": {},
   "source": [
    "Explanation:\n",
    "Each row of the DataFrame corresponds to a row of the NumPy array.\n",
    "The columns parameter in pd.DataFrame() specifies the column labels, which is one of the features that differentiates Pandas from NumPy."
   ]
  },
  {
   "cell_type": "markdown",
   "id": "8d35566d-f62a-49cb-b72f-ee12c1a066d0",
   "metadata": {},
   "source": [
    "2. Accessing the Underlying NumPy Array in a DataFrame\n",
    "Since DataFrames use NumPy arrays internally, you can access the underlying data in NumPy format at any time.\n",
    "\n",
    "Example: Accessing the NumPy Array from a DataFrame"
   ]
  },
  {
   "cell_type": "code",
   "execution_count": 93,
   "id": "7d8f6cca-0cd7-495e-a2d4-76f64b61ab33",
   "metadata": {},
   "outputs": [
    {
     "name": "stdout",
     "output_type": "stream",
     "text": [
      "[[1 2 3]\n",
      " [4 5 6]\n",
      " [7 8 9]]\n"
     ]
    }
   ],
   "source": [
    "# Get the underlying NumPy array from the DataFrame\n",
    "numpy_data = df.values\n",
    "\n",
    "print(numpy_data)\n"
   ]
  },
  {
   "cell_type": "markdown",
   "id": "9002d6e3-b95e-44a6-8b3b-dea31fee543f",
   "metadata": {},
   "source": [
    "Explanation:\n",
    "df.values: Returns the DataFrame's underlying data as a NumPy array. This allows you to directly work with the raw numerical data for computational tasks.\n",
    "3. Data Alignment in Pandas Using NumPy Arrays\n",
    "Pandas provides powerful data alignment capabilities that NumPy lacks. When performing operations between DataFrames or Series, Pandas aligns the data based on labels (e.g., index or columns), which allows for more intuitive handling of structured data.\n",
    "\n",
    "Example: Aligning DataFrames with Different Indices"
   ]
  },
  {
   "cell_type": "code",
   "execution_count": 94,
   "id": "837b47d0-b7a6-4e06-a7af-b763e20f0982",
   "metadata": {},
   "outputs": [
    {
     "name": "stdout",
     "output_type": "stream",
     "text": [
      "      A     B   C   D\n",
      "0  11.0  13.0 NaN NaN\n",
      "1  14.0  16.0 NaN NaN\n",
      "2  17.0  19.0 NaN NaN\n"
     ]
    }
   ],
   "source": [
    "# Create a NumPy array\n",
    "data2 = np.array([10, 11, 12])\n",
    "\n",
    "# Convert it to a Pandas Series with a different index\n",
    "s = pd.Series(data2, index=['A', 'B', 'D'])\n",
    "\n",
    "# Add the Series to the DataFrame (with automatic alignment)\n",
    "result = df.add(s, axis=1)\n",
    "\n",
    "print(result)\n"
   ]
  },
  {
   "cell_type": "markdown",
   "id": "d2926ad3-1f36-4f16-a346-93f6f08daf2d",
   "metadata": {},
   "source": [
    "Explanation:\n",
    "Data alignment: Pandas automatically aligns the Series s with the DataFrame df based on the column labels. The index 'D' from the Series does not exist in the DataFrame, so the result contains NaN values for column D. Similarly, since the Series does not contain a value for column C, the result contains NaN for column C.\n",
    "In contrast, NumPy arrays do not have this data alignment feature, so performing an operation between arrays of different shapes or indices would result in an error.\n",
    "\n",
    "4. Handling Missing Data Using Pandas\n",
    "Pandas offers extensive support for handling missing data (NaN values), which is something NumPy doesn't handle as efficiently. When you convert NumPy arrays to Pandas DataFrames or Series, you can take advantage of functions like .fillna(), .dropna(), and .isnull() to manage missing data.\n",
    "\n",
    "Example: Handling Missing Data in a DataFrame"
   ]
  },
  {
   "cell_type": "code",
   "execution_count": 95,
   "id": "ceeaad5c-738c-4516-9b91-205aeabf5c73",
   "metadata": {},
   "outputs": [
    {
     "name": "stdout",
     "output_type": "stream",
     "text": [
      "Original DataFrame with NaN:\n",
      "      A    B    C\n",
      "0  1.0  2.0  NaN\n",
      "1  4.0  NaN  6.0\n",
      "2  7.0  8.0  9.0\n",
      "\n",
      "DataFrame with NaN filled:\n",
      "      A    B    C\n",
      "0  1.0  2.0  0.0\n",
      "1  4.0  0.0  6.0\n",
      "2  7.0  8.0  9.0\n"
     ]
    }
   ],
   "source": [
    "# Create a DataFrame from a NumPy array with missing values\n",
    "data_with_nan = np.array([[1, 2, np.nan], [4, np.nan, 6], [7, 8, 9]])\n",
    "df_nan = pd.DataFrame(data_with_nan, columns=['A', 'B', 'C'])\n",
    "\n",
    "# Fill missing values with a specific value\n",
    "df_filled = df_nan.fillna(0)\n",
    "\n",
    "print(\"Original DataFrame with NaN:\\n\", df_nan)\n",
    "print(\"\\nDataFrame with NaN filled:\\n\", df_filled)\n"
   ]
  },
  {
   "cell_type": "markdown",
   "id": "d6e933c5-f0fe-4d67-98de-62a54adcc2e2",
   "metadata": {},
   "source": [
    "Explanation:\n",
    "fillna(0): Replaces all missing values (NaN) with 0.\n",
    "Pandas provides many other methods to deal with missing data, which is a crucial advantage over plain NumPy arrays.\n",
    "5. Performance Considerations\n",
    "While Pandas offers more flexibility than NumPy by handling labeled and heterogeneous data, operations in Pandas can sometimes be slower due to the additional overhead of maintaining labels and indices. For purely numerical computations, NumPy is generally faster because it operates directly on homogeneous arrays.\n",
    "\n",
    "Example: Timing Operations on NumPy vs. Pandas"
   ]
  },
  {
   "cell_type": "code",
   "execution_count": 96,
   "id": "f31cc5aa-ab0c-4aa6-a052-30aed2001825",
   "metadata": {},
   "outputs": [
    {
     "name": "stdout",
     "output_type": "stream",
     "text": [
      "NumPy sum time: 0.0009987354278564453\n",
      "Pandas sum time: 0.0\n"
     ]
    }
   ],
   "source": [
    "import time\n",
    "\n",
    "# Create a large NumPy array and Pandas DataFrame\n",
    "large_array = np.random.rand(1000000)\n",
    "large_df = pd.DataFrame(large_array, columns=['A'])\n",
    "\n",
    "# Time a NumPy operation\n",
    "start = time.time()\n",
    "np_sum = np.sum(large_array)\n",
    "print(\"NumPy sum time:\", time.time() - start)\n",
    "\n",
    "# Time the same operation in Pandas\n",
    "start = time.time()\n",
    "pd_sum = large_df['A'].sum()\n",
    "print(\"Pandas sum time:\", time.time() - start)\n"
   ]
  },
  {
   "cell_type": "markdown",
   "id": "8eb2c491-c236-4d8c-acaa-5a6f936d51f4",
   "metadata": {},
   "source": [
    "Explanation:\n",
    "NumPy: Faster for operations like summation because it directly operates on homogeneous arrays.\n",
    "Pandas: Slower due to the overhead of handling labeled data structures. However, Pandas offers greater flexibility when dealing with complex or labeled datasets.\n",
    "Summary: NumPy and Pandas Interoperability\n",
    "Pandas is built on top of NumPy, allowing you to seamlessly switch between NumPy arrays and Pandas DataFrames.\n",
    "You can convert NumPy arrays to DataFrames for structured data manipulation, and access the underlying NumPy arrays in a DataFrame.\n",
    "Data alignment in Pandas allows you to perform operations on DataFrames or Series based on labels, which NumPy lacks.\n",
    "Pandas provides powerful tools for handling missing data (NaN), offering much more flexibility than NumPy arrays.\n",
    "Performance trade-offs: NumPy is faster for purely numerical operations, while Pandas offers more features for working with structured, labeled data.\n",
    "Understanding this interoperability allows you to use the best tool for the task at hand, depending on whether you're dealing with raw numerical data or structured datasets."
   ]
  },
  {
   "cell_type": "code",
   "execution_count": null,
   "id": "99a8218a-acbf-4ca0-b2bc-59454ab9acd3",
   "metadata": {},
   "outputs": [],
   "source": []
  }
 ],
 "metadata": {
  "kernelspec": {
   "display_name": "Python 3 (ipykernel)",
   "language": "python",
   "name": "python3"
  },
  "language_info": {
   "codemirror_mode": {
    "name": "ipython",
    "version": 3
   },
   "file_extension": ".py",
   "mimetype": "text/x-python",
   "name": "python",
   "nbconvert_exporter": "python",
   "pygments_lexer": "ipython3",
   "version": "3.9.20"
  }
 },
 "nbformat": 4,
 "nbformat_minor": 5
}
