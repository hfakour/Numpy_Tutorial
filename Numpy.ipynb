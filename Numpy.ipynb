{
 "cells": [
  {
   "cell_type": "markdown",
   "id": "1f4e1e4f-89d9-4b69-a0e9-6d3a3fd19750",
   "metadata": {},
   "source": [
    "<div style=\"text-align: left;\">\n",
    "    <img src=\"https://upload.wikimedia.org/wikipedia/commons/thumb/3/31/NumPy_logo_2020.svg/2560px-NumPy_logo_2020.svg.png\" alt=\"Image description\" width=\"50%\"/>\n",
    "</div>"
   ]
  },
  {
   "cell_type": "markdown",
   "id": "08ef4cb8-2c51-4016-accd-765d577e49d1",
   "metadata": {},
   "source": [
    "<p style=\"font-family:Helvica; font-size:26px; \">\n",
    "<b>What is NumPy?</b>\n",
    "</p>"
   ]
  },
  {
   "cell_type": "markdown",
   "id": "e53d30ba-5ad3-4cc6-87dc-75e3d4596266",
   "metadata": {},
   "source": [
    "<p style=\"font-family:Helvica; font-size:20px; \">\n",
    "NumPy (Numerical Python) is a powerful library in Python used for numerical and scientific computing. It provides support for arrays, matrices, and many mathematical functions that operate on these data structures. Here's why it's significant:\n",
    "</p>\n",
    "<p style=\"font-family:Helvica; font-size:20px; \">\n",
    "1.<b> N-dimensional Array (ndarray):</b> The core of NumPy is its ndarray object, which provides fast and memory-efficient array operations compared to native Python lists. This array can be one-dimensional (vectors), two-dimensional (matrices), or even higher dimensions.    </p>\n",
    "<p style=\"font-family:Helvica; font-size:20px; \">\n",
    "2. <b>Broadcasting:</b> NumPy allows you to perform operations on arrays of different shapes, which automatically \"broadcasts\" the smaller array over the larger one, making the code cleaner and more efficient.    </p>\n",
    "<p style=\"font-family:Helvica; font-size:20px; \">\n",
    "3. <b>Vectorization:</b> This means you can apply operations to entire arrays without explicit loops. This not only simplifies code but makes it much faster because NumPy is implemented in C, allowing for optimized performance.    </p>\n",
    "<p style=\"font-family:Helvica; font-size:20px; \">    \n",
    "4.<b> Mathematical Operations:</b> NumPy provides a wide range of mathematical functions (like trigonometric functions, linear algebra operations, statistics, etc.) that are fast and efficient.    </p>\n",
    "\n",
    "<p style=\"font-family:Helvica; font-size:20px; \">\n",
    "    5. <b>Integration with Other Libraries:</b> NumPy is the foundational library for many other libraries in the Python ecosystem, including:\n",
    "    <li style=\"font-family:Helvica; font-size:20px;\"> Pandas (for data analysis)</li>\n",
    "    <li style=\"font-family:Helvica; font-size:20px;\"> Matplotlib (for plotting)</li>\n",
    "    <li style=\"font-family:Helvica; font-size:20px;\"> Scikit-learn (for machine learning)</li>\n",
    "    <li style=\"font-family:Helvica; font-size:20px;\"> TensorFlow, PyTorch (for deep learning)</li>\n",
    "    </p>\n",
    "<p style=\"font-family:Helvica; font-size:20px; \"> These libraries are built around NumPy arrays or have APIs that are compatible with NumPy.</p>"
   ]
  },
  {
   "cell_type": "markdown",
   "id": "56a1555a-efe6-48cd-a482-766a8d6aa5dc",
   "metadata": {},
   "source": [
    "<p style=\"font-family:Helvica; font-size:26px; \">\n",
    "<b>Why is NumPy Useful?</b>\n",
    "</p>"
   ]
  },
  {
   "cell_type": "markdown",
   "id": "4e80c128-a8ee-48ed-9035-5a2783f1e5db",
   "metadata": {},
   "source": [
    "<p style=\"font-family:Helvica; font-size:20px; \">\n",
    "1.<b>Performance:</b> NumPy is much faster than Python lists for numerical computations. This is because it is implemented in C and optimized for performance.\n",
    "</p>\n",
    "<p style=\"font-family:Helvica; font-size:20px; \">\n",
    "2.<b>Memory Efficiency:</b> NumPy uses less memory than native Python lists, which is critical when dealing with large datasets in data science and machine learning.\n",
    "</p>\n",
    "<p style=\"font-family:Helvica; font-size:20px; \">\n",
    "3.<b>Convenience:</b> Operations on arrays, such as element-wise addition, multiplication, reshaping, and slicing, are simple and efficient with NumPy. This makes it very convenient for writing clean, easy-to-read code.\n",
    "</p>\n",
    "<p style=\"font-family:Helvica; font-size:20px; \">\n",
    "4.<b>Multi-dimensional Data:</b> NumPy supports multi-dimensional data, which is important when working with matrices, tensors, or large data sets in machine learning and scientific computing.\n",
    "</p>\n",
    "<p style=\"font-family:Helvica; font-size:20px; \">\n",
    "5.<b>Data Manipulation:</b> You can easily perform complex mathematical operations like matrix multiplication, transposition, and Fourier transformations, making it essential for anyone working in fields like linear algebra, image processing, and signal processing.\n",
    "</p>\n",
    "<p style=\"font-family:Helvica; font-size:20px; \">\n",
    "6.<b>Support for Large Data Sets:</b> As a data scientist or machine learning expert, you'll often be working with large data sets that need efficient storage and fast operations, and NumPy is designed for this.\n",
    "</p>"
   ]
  },
  {
   "cell_type": "markdown",
   "id": "4d410275-8261-4652-9a4c-ec334b95225b",
   "metadata": {},
   "source": [
    "<p style=\"font-family:Helvica; font-size:20px; \">\n",
    "<b>Example</b>\n",
    "<br/>Here's a simple example of using NumPy to demonstrate some of its benefits:\n",
    "</p>"
   ]
  },
  {
   "cell_type": "code",
   "execution_count": 11,
   "id": "6b57a2b2-d41c-436d-bdd3-081e285d6f1a",
   "metadata": {},
   "outputs": [
    {
     "name": "stdout",
     "output_type": "stream",
     "text": [
      "Matrix A:\n",
      " [[1 2]\n",
      " [3 4]]\n",
      "Matrix B (A + 10):\n",
      " [[11 12]\n",
      " [13 14]]\n",
      "Matrix C (A * 2):\n",
      " [[2 4]\n",
      " [6 8]]\n",
      "Matrix D (A dot C):\n",
      " [[14 20]\n",
      " [30 44]]\n",
      "Transpose of A:\n",
      " [[1 3]\n",
      " [2 4]]\n"
     ]
    }
   ],
   "source": [
    "import numpy as np\n",
    "\n",
    "# Create a 2x2 matrix\n",
    "A = np.array([[1, 2], [3, 4]])\n",
    "\n",
    "# Perform element-wise operations\n",
    "B = A + 10  # Add 10 to each element\n",
    "C = A * 2   # Multiply each element by 2\n",
    "\n",
    "# Matrix multiplication\n",
    "D = np.dot(A, C)\n",
    "\n",
    "# Transpose of the matrix\n",
    "E = A.T\n",
    "\n",
    "# Output results\n",
    "print(\"Matrix A:\\n\", A)\n",
    "print(\"Matrix B (A + 10):\\n\", B)\n",
    "print(\"Matrix C (A * 2):\\n\", C)\n",
    "print(\"Matrix D (A dot C):\\n\", D)\n",
    "print(\"Transpose of A:\\n\", E)\n"
   ]
  },
  {
   "cell_type": "markdown",
   "id": "8707893f-7207-428f-ad5c-21740e9a13f2",
   "metadata": {},
   "source": [
    "<p style=\"font-family:Helvica; font-size:20px; \">\n",
    "This example shows how NumPy makes mathematical operations on arrays easy and intuitive.\n",
    "</p>"
   ]
  },
  {
   "cell_type": "code",
   "execution_count": null,
   "id": "343a7fa8-0e2b-4853-84e0-1d9094fde426",
   "metadata": {},
   "outputs": [],
   "source": []
  }
 ],
 "metadata": {
  "kernelspec": {
   "display_name": "Python 3 (ipykernel)",
   "language": "python",
   "name": "python3"
  },
  "language_info": {
   "codemirror_mode": {
    "name": "ipython",
    "version": 3
   },
   "file_extension": ".py",
   "mimetype": "text/x-python",
   "name": "python",
   "nbconvert_exporter": "python",
   "pygments_lexer": "ipython3",
   "version": "3.9.20"
  }
 },
 "nbformat": 4,
 "nbformat_minor": 5
}
